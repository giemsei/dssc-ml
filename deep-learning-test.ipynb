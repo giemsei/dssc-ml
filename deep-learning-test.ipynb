{
 "cells": [
  {
   "cell_type": "markdown",
   "id": "1ce8bf34-5077-4b39-ae81-afd6db3d3bbf",
   "metadata": {},
   "source": [
    "# È Deep Learning bro"
   ]
  },
  {
   "cell_type": "code",
   "execution_count": 51,
   "id": "55b44b7c-5c61-4219-ae2b-2784dba2e761",
   "metadata": {},
   "outputs": [
    {
     "name": "stdout",
     "output_type": "stream",
     "text": [
      "(9296, 5)\n"
     ]
    },
    {
     "data": {
      "text/html": [
       "<div>\n",
       "<style scoped>\n",
       "    .dataframe tbody tr th:only-of-type {\n",
       "        vertical-align: middle;\n",
       "    }\n",
       "\n",
       "    .dataframe tbody tr th {\n",
       "        vertical-align: top;\n",
       "    }\n",
       "\n",
       "    .dataframe thead th {\n",
       "        text-align: right;\n",
       "    }\n",
       "</style>\n",
       "<table border=\"1\" class=\"dataframe\">\n",
       "  <thead>\n",
       "    <tr style=\"text-align: right;\">\n",
       "      <th></th>\n",
       "      <th>X</th>\n",
       "      <th>likes</th>\n",
       "      <th>followers</th>\n",
       "      <th>popularity</th>\n",
       "      <th>y</th>\n",
       "    </tr>\n",
       "  </thead>\n",
       "  <tbody>\n",
       "    <tr>\n",
       "      <th>0</th>\n",
       "      <td>i feel so shitty about my body today I want to...</td>\n",
       "      <td>1</td>\n",
       "      <td>343</td>\n",
       "      <td>0.846373</td>\n",
       "      <td>1</td>\n",
       "    </tr>\n",
       "    <tr>\n",
       "      <th>1</th>\n",
       "      <td>photo grow share giraffe prefer lunch radar tr...</td>\n",
       "      <td>0</td>\n",
       "      <td>7</td>\n",
       "      <td>0.690916</td>\n",
       "      <td>1</td>\n",
       "    </tr>\n",
       "    <tr>\n",
       "      <th>2</th>\n",
       "      <td>Kia ora!!! Welcome to Vietnam. \\n\\nYour local ...</td>\n",
       "      <td>0</td>\n",
       "      <td>51</td>\n",
       "      <td>0.536925</td>\n",
       "      <td>1</td>\n",
       "    </tr>\n",
       "    <tr>\n",
       "      <th>3</th>\n",
       "      <td>In the 1950's, housewives were initially resis...</td>\n",
       "      <td>0</td>\n",
       "      <td>35</td>\n",
       "      <td>0.562277</td>\n",
       "      <td>1</td>\n",
       "    </tr>\n",
       "    <tr>\n",
       "      <th>4</th>\n",
       "      <td>i want you to make yourself your lunch and let...</td>\n",
       "      <td>3</td>\n",
       "      <td>277</td>\n",
       "      <td>1.742396</td>\n",
       "      <td>1</td>\n",
       "    </tr>\n",
       "    <tr>\n",
       "      <th>...</th>\n",
       "      <td>...</td>\n",
       "      <td>...</td>\n",
       "      <td>...</td>\n",
       "      <td>...</td>\n",
       "      <td>...</td>\n",
       "    </tr>\n",
       "    <tr>\n",
       "      <th>9408</th>\n",
       "      <td># Manufacturers idle output and seek alternati...</td>\n",
       "      <td>0</td>\n",
       "      <td>2</td>\n",
       "      <td>0.809201</td>\n",
       "      <td>1</td>\n",
       "    </tr>\n",
       "    <tr>\n",
       "      <th>9409</th>\n",
       "      <td>I ate benachin for the first time yesterday fr...</td>\n",
       "      <td>1</td>\n",
       "      <td>6498</td>\n",
       "      <td>0.398438</td>\n",
       "      <td>0</td>\n",
       "    </tr>\n",
       "    <tr>\n",
       "      <th>9410</th>\n",
       "      <td>Idk how people could randomly take up somebody...</td>\n",
       "      <td>6</td>\n",
       "      <td>916</td>\n",
       "      <td>2.534738</td>\n",
       "      <td>2</td>\n",
       "    </tr>\n",
       "    <tr>\n",
       "      <th>9411</th>\n",
       "      <td>One of the things I committed to back in 2022 ...</td>\n",
       "      <td>0</td>\n",
       "      <td>2</td>\n",
       "      <td>0.809201</td>\n",
       "      <td>1</td>\n",
       "    </tr>\n",
       "    <tr>\n",
       "      <th>9412</th>\n",
       "      <td>I have the flu UGH cover my lunch £20 💌</td>\n",
       "      <td>5</td>\n",
       "      <td>1079</td>\n",
       "      <td>2.105013</td>\n",
       "      <td>2</td>\n",
       "    </tr>\n",
       "  </tbody>\n",
       "</table>\n",
       "<p>9296 rows × 5 columns</p>\n",
       "</div>"
      ],
      "text/plain": [
       "                                                      X  likes  followers  \\\n",
       "0     i feel so shitty about my body today I want to...      1        343   \n",
       "1     photo grow share giraffe prefer lunch radar tr...      0          7   \n",
       "2     Kia ora!!! Welcome to Vietnam. \\n\\nYour local ...      0         51   \n",
       "3     In the 1950's, housewives were initially resis...      0         35   \n",
       "4     i want you to make yourself your lunch and let...      3        277   \n",
       "...                                                 ...    ...        ...   \n",
       "9408  # Manufacturers idle output and seek alternati...      0          2   \n",
       "9409  I ate benachin for the first time yesterday fr...      1       6498   \n",
       "9410  Idk how people could randomly take up somebody...      6        916   \n",
       "9411  One of the things I committed to back in 2022 ...      0          2   \n",
       "9412            I have the flu UGH cover my lunch £20 💌      5       1079   \n",
       "\n",
       "      popularity  y  \n",
       "0       0.846373  1  \n",
       "1       0.690916  1  \n",
       "2       0.536925  1  \n",
       "3       0.562277  1  \n",
       "4       1.742396  1  \n",
       "...          ... ..  \n",
       "9408    0.809201  1  \n",
       "9409    0.398438  0  \n",
       "9410    2.534738  2  \n",
       "9411    0.809201  1  \n",
       "9412    2.105013  2  \n",
       "\n",
       "[9296 rows x 5 columns]"
      ]
     },
     "metadata": {},
     "output_type": "display_data"
    }
   ],
   "source": [
    "import pandas as pd\n",
    "import numpy as np\n",
    "import os\n",
    "\n",
    "path = \"\"\n",
    "#df = pd.read_csv(path+\"debug_set_614548.csv\")\n",
    "df = pd.read_csv(path+\"debug_set_619439.csv\")\n",
    "df = df.rename(columns={\"text\": \"X\", \"pop_level\": \"y\"})\n",
    "\n",
    "# drop duplicates observations, keeping the first occurrence\n",
    "df = df.drop_duplicates(subset='X', keep='first')\n",
    "print(df.shape)\n",
    "display(df)"
   ]
  },
  {
   "cell_type": "markdown",
   "id": "48e0a3e2-e475-4b15-b302-34b7c72a1806",
   "metadata": {},
   "source": [
    "### Training Test Split"
   ]
  },
  {
   "cell_type": "code",
   "execution_count": 66,
   "id": "8f5d713d-ebe6-4f31-97b1-7a69490b0c67",
   "metadata": {},
   "outputs": [
    {
     "data": {
      "text/plain": [
       "2043    I have not been doing the best at dieting!!! T...\n",
       "1629    Out with friends for lunch. Hubby of one, scro...\n",
       "6510    I’m about to get Zya the chic she always wante...\n",
       "1536    Homemade chicken sandwich for lunch, satisfyin...\n",
       "3305    The plan is to become water this year buoy. \\n...\n",
       "                              ...                        \n",
       "7979    Just made a smoothie with oat milk instead of ...\n",
       "9342    Just sat thinking about how tasty my lunch was...\n",
       "4905    todays reimbursement opportunities, send for o...\n",
       "3282    like i'm literally going to a lunch on sunday ...\n",
       "2748       I'll be back. Kain lunch and ligo na talaga. 🥹\n",
       "Name: X, Length: 7436, dtype: object"
      ]
     },
     "metadata": {},
     "output_type": "display_data"
    }
   ],
   "source": [
    "from sklearn.model_selection import train_test_split\n",
    "\n",
    "y_col = 'y' ####\n",
    "X_cols = df.columns\n",
    "X_cols = X_cols.drop(y_col)\n",
    "\n",
    "X_cols = X_cols.drop('likes')\n",
    "X_cols = X_cols.drop('followers')\n",
    "X_cols = X_cols.drop('popularity') ####\n",
    "\n",
    "# split data\n",
    "X_train, X_test, y_train, y_test = train_test_split(\n",
    "    df.loc[:,X_cols], df.loc[:,y_col], test_size=0.2, random_state=0, shuffle=True)\n",
    "\n",
    "# REVIEW THIS:\n",
    "X_train = X_train['X']\n",
    "X_test = X_test['X']\n",
    "\n",
    "display(X_train)"
   ]
  },
  {
   "cell_type": "code",
   "execution_count": 53,
   "id": "323c004a-aca5-4a84-a165-ddf4179eed11",
   "metadata": {},
   "outputs": [],
   "source": [
    "# prepare tokenization\n",
    "from nltk.stem.snowball import SnowballStemmer\n",
    "stemmer = SnowballStemmer(\"english\")\n",
    "\n",
    "# create a function to \n",
    "def tokenizer_snowballStemmer(text):\n",
    "    return [stemmer.stem(word) for word in text.split()]"
   ]
  },
  {
   "cell_type": "code",
   "execution_count": 67,
   "id": "4f509602-77a2-4275-a6dc-5f196c58ad63",
   "metadata": {},
   "outputs": [
    {
     "name": "stderr",
     "output_type": "stream",
     "text": [
      "/Users/agustin/miniforge3/envs/dssc-deep/lib/python3.10/site-packages/sklearn/feature_extraction/text.py:516: UserWarning: The parameter 'token_pattern' will not be used since 'tokenizer' is not None'\n",
      "  warnings.warn(\n",
      "/Users/agustin/miniforge3/envs/dssc-deep/lib/python3.10/site-packages/sklearn/feature_extraction/text.py:396: UserWarning: Your stop_words may be inconsistent with your preprocessing. Tokenizing the stop words generated tokens ['abov', 'afterward', 'alon', 'alreadi', 'alway', 'ani', 'anoth', 'anyon', 'anyth', 'anywher', 'becam', 'becaus', 'becom', 'befor', 'besid', 'cri', 'describ', 'dure', 'els', 'elsewher', 'empti', 'everi', 'everyon', 'everyth', 'everywher', 'fifti', 'forti', 'henc', 'hereaft', 'herebi', 'howev', 'hundr', 'inde', 'mani', 'meanwhil', 'moreov', 'nobodi', 'noon', 'noth', 'nowher', 'onc', 'onli', 'otherwis', 'ourselv', 'perhap', 'pleas', 'sever', 'sinc', 'sincer', 'sixti', 'someon', 'someth', 'sometim', 'somewher', 'themselv', 'thenc', 'thereaft', 'therebi', 'therefor', 'togeth', 'twelv', 'twenti', 'veri', 'whatev', 'whenc', 'whenev', 'wherea', 'whereaft', 'wherebi', 'wherev', 'whi', 'yourselv'] not in stop_words.\n",
      "  warnings.warn(\n"
     ]
    },
    {
     "name": "stdout",
     "output_type": "stream",
     "text": [
      "vectorization done in 2.969 s\n",
      "n_samples: 7436, n_features: 2426\n",
      "0.003\n",
      "X_test: (1860, 2426)\n"
     ]
    },
    {
     "name": "stderr",
     "output_type": "stream",
     "text": [
      "/Users/agustin/miniforge3/envs/dssc-deep/lib/python3.10/site-packages/sklearn/utils/deprecation.py:87: FutureWarning: Function get_feature_names is deprecated; get_feature_names is deprecated in 1.0 and will be removed in 1.2. Please use get_feature_names_out instead.\n",
      "  warnings.warn(msg, category=FutureWarning)\n"
     ]
    },
    {
     "data": {
      "text/plain": [
       "[0, 1, 2]"
      ]
     },
     "metadata": {},
     "output_type": "display_data"
    }
   ],
   "source": [
    "from sklearn.feature_extraction.text import TfidfVectorizer\n",
    "from time import time\n",
    "\n",
    "vectorizer = TfidfVectorizer(\n",
    "    tokenizer = tokenizer_snowballStemmer,\n",
    "    max_df=0.5,\n",
    "    min_df=5,\n",
    "    stop_words=\"english\")\n",
    "\n",
    "t0 = time()\n",
    "vectorizer.fit(X_train)\n",
    "X_train_1 = vectorizer.transform(X_train)\n",
    "print(f\"vectorization done in {time() - t0:.3f} s\")\n",
    "\n",
    "print(f\"n_samples: {X_train_1.shape[0]}, n_features: {X_train_1.shape[1]}\")\n",
    "print(f\"{X_train_1.nnz / np.prod(X_train_1.shape):.3f}\")\n",
    "\n",
    "#print(\"Vocabulary size using stemming: {}\". format(len(count.vocabulary_)))\n",
    "#print(\"Vocabulary content:\\n {}\".format(vectorizer.vocabulary_))\n",
    "\n",
    "# apply transformation to the tesr\n",
    "X_test_1 = vectorizer.transform(X_test)\n",
    "print(\"X_test: {}\".format(X_test_1.shape))\n",
    "\n",
    "feature_names = np.array(vectorizer.get_feature_names())\n",
    "target_names = [0, 1 , 2]\n",
    "\n",
    "display(target_names)"
   ]
  },
  {
   "cell_type": "markdown",
   "id": "142762ff-14de-495b-9f61-787c14de0cbd",
   "metadata": {},
   "source": [
    "Try only bag of word"
   ]
  },
  {
   "cell_type": "code",
   "execution_count": 68,
   "id": "08bf18b8-b44e-4200-aea1-d11de9352165",
   "metadata": {},
   "outputs": [],
   "source": [
    "# update the variables\n",
    "X_train = X_train_1\n",
    "X_test = X_test_1"
   ]
  },
  {
   "cell_type": "markdown",
   "id": "92423481-d043-48f4-84a6-cd80fc2b0a3e",
   "metadata": {},
   "source": [
    "### Modeling"
   ]
  },
  {
   "cell_type": "markdown",
   "id": "95f3be11-19d5-4a6e-b355-9bae149c5dc5",
   "metadata": {},
   "source": [
    "Test a Random Forest first, to compare"
   ]
  },
  {
   "cell_type": "code",
   "execution_count": 69,
   "id": "5ceb3a93-c529-4896-a8ac-1a78dae10399",
   "metadata": {},
   "outputs": [
    {
     "data": {
      "text/plain": [
       "'Cross Validation scores'"
      ]
     },
     "metadata": {},
     "output_type": "display_data"
    },
    {
     "data": {
      "text/plain": [
       "'Accuracy cv=1: 52.55'"
      ]
     },
     "metadata": {},
     "output_type": "display_data"
    },
    {
     "data": {
      "text/plain": [
       "'Accuracy cv=2: 51.58'"
      ]
     },
     "metadata": {},
     "output_type": "display_data"
    },
    {
     "data": {
      "text/plain": [
       "'Accuracy cv=3: 52.93'"
      ]
     },
     "metadata": {},
     "output_type": "display_data"
    },
    {
     "data": {
      "text/plain": [
       "'Accuracy cv=4: 52.25'"
      ]
     },
     "metadata": {},
     "output_type": "display_data"
    },
    {
     "data": {
      "text/plain": [
       "'Accuracy cv=5: 51.31'"
      ]
     },
     "metadata": {},
     "output_type": "display_data"
    },
    {
     "data": {
      "text/plain": [
       "'Accuracy MEAN: 52.0'"
      ]
     },
     "metadata": {},
     "output_type": "display_data"
    },
    {
     "data": {
      "text/plain": [
       "'Test set accuracy: 48.55'"
      ]
     },
     "metadata": {},
     "output_type": "display_data"
    },
    {
     "data": {
      "text/plain": [
       "array([[221, 245,  56],\n",
       "       [425, 677, 221],\n",
       "       [  3,   7,   5]])"
      ]
     },
     "metadata": {},
     "output_type": "display_data"
    }
   ],
   "source": [
    "from sklearn.ensemble import RandomForestClassifier\n",
    "\n",
    "# fit a Random Forest model\n",
    "clf_forest = RandomForestClassifier(n_estimators=100)\n",
    "\n",
    "from sklearn.model_selection import cross_val_score\n",
    "from sklearn.metrics import accuracy_score\n",
    "\n",
    "# plot CV results\n",
    "scores = cross_val_score(clf_forest, X_train, y_train, cv=5, scoring='accuracy')\n",
    "display(\"Cross Validation scores\")\n",
    "i=1\n",
    "for a in scores:\n",
    "    display(\"Accuracy cv=\" + str(i) + \": \" + str(round(a*100, 2)))\n",
    "    i = i+1\n",
    "\n",
    "display(\"Accuracy MEAN: \"+str(round(scores.mean(),2)*100))\n",
    "\n",
    "import matplotlib.pyplot as plt\n",
    "from sklearn.metrics import confusion_matrix, ConfusionMatrixDisplay\n",
    "\n",
    "clf_forest = clf_forest.fit(X_train, y_train) \n",
    "\n",
    "# results on test set\n",
    "predictions = clf_forest.predict(X_test)\n",
    "test_accuracy = accuracy_score(predictions, y_test)\n",
    "display(\"Test set accuracy: \" + str(round(test_accuracy*100, 2)))\n",
    "\n",
    "display(confusion_matrix(predictions, y_test)) # display confusion matrix"
   ]
  },
  {
   "cell_type": "markdown",
   "id": "53bc8990-6ef8-4f7b-9cd9-df279fa0584c",
   "metadata": {},
   "source": [
    "Use deep learning"
   ]
  },
  {
   "cell_type": "code",
   "execution_count": 70,
   "id": "61532893-aac3-4c53-b5ae-bcd5ed167682",
   "metadata": {},
   "outputs": [],
   "source": [
    "from sklearn.preprocessing import Normalizer\n",
    "transformer = Normalizer().fit(X_train)  # fit does nothing.\n",
    "transformer\n",
    "\n",
    "X_train = transformer.transform(X_train)\n",
    "X_test = transformer.transform(X_test)\n",
    "\n",
    "X_train = X_train.toarray()\n",
    "X_test = X_test.toarray()"
   ]
  },
  {
   "cell_type": "code",
   "execution_count": 71,
   "id": "b3151cdb-b62b-45c5-8213-cb668501411d",
   "metadata": {},
   "outputs": [
    {
     "name": "stdout",
     "output_type": "stream",
     "text": [
      "Model: \"sequential_9\"\n",
      "_________________________________________________________________\n",
      " Layer (type)                Output Shape              Param #   \n",
      "=================================================================\n",
      " dense_23 (Dense)            (None, 64)                155328    \n",
      "                                                                 \n",
      " dense_24 (Dense)            (None, 1)                 65        \n",
      "                                                                 \n",
      "=================================================================\n",
      "Total params: 155,393\n",
      "Trainable params: 155,393\n",
      "Non-trainable params: 0\n",
      "_________________________________________________________________\n"
     ]
    }
   ],
   "source": [
    "import tensorflow as tf\n",
    "\n",
    "input_shape = [X_train.shape[1]]\n",
    "\n",
    "model = tf.keras.Sequential([\n",
    " \n",
    "    tf.keras.layers.Dense(units=64, activation='relu',\n",
    "                          input_shape=input_shape),\n",
    "    #tf.keras.layers.Dense(units=64, activation='relu'),\n",
    "    tf.keras.layers.Dense(units=1)\n",
    "])\n",
    "model.summary()"
   ]
  },
  {
   "cell_type": "code",
   "execution_count": 72,
   "id": "32baee99-87f8-4f41-821f-a2cff4280a0d",
   "metadata": {},
   "outputs": [
    {
     "name": "stdout",
     "output_type": "stream",
     "text": [
      "Epoch 1/20\n",
      " 7/30 [======>.......................] - ETA: 0s - loss: 0.7759"
     ]
    },
    {
     "name": "stderr",
     "output_type": "stream",
     "text": [
      "2023-01-14 01:22:29.174610: I tensorflow/core/grappler/optimizers/custom_graph_optimizer_registry.cc:113] Plugin optimizer for device_type GPU is enabled.\n"
     ]
    },
    {
     "name": "stdout",
     "output_type": "stream",
     "text": [
      "30/30 [==============================] - 1s 13ms/step - loss: 0.7360 - val_loss: 0.6712\n",
      "Epoch 2/20\n",
      " 9/30 [========>.....................] - ETA: 0s - loss: 0.6311"
     ]
    },
    {
     "name": "stderr",
     "output_type": "stream",
     "text": [
      "2023-01-14 01:22:29.599451: I tensorflow/core/grappler/optimizers/custom_graph_optimizer_registry.cc:113] Plugin optimizer for device_type GPU is enabled.\n"
     ]
    },
    {
     "name": "stdout",
     "output_type": "stream",
     "text": [
      "30/30 [==============================] - 0s 8ms/step - loss: 0.5747 - val_loss: 0.5370\n",
      "Epoch 3/20\n",
      "30/30 [==============================] - 0s 9ms/step - loss: 0.5054 - val_loss: 0.5307\n",
      "Epoch 4/20\n",
      "30/30 [==============================] - 0s 8ms/step - loss: 0.4828 - val_loss: 0.5325\n",
      "Epoch 5/20\n",
      "30/30 [==============================] - 0s 8ms/step - loss: 0.4657 - val_loss: 0.5364\n",
      "Epoch 6/20\n",
      "30/30 [==============================] - 0s 8ms/step - loss: 0.4490 - val_loss: 0.5422\n",
      "Epoch 7/20\n",
      "30/30 [==============================] - 0s 8ms/step - loss: 0.4323 - val_loss: 0.5497\n",
      "Epoch 8/20\n",
      "30/30 [==============================] - 0s 8ms/step - loss: 0.4162 - val_loss: 0.5562\n",
      "Epoch 9/20\n",
      "30/30 [==============================] - 0s 8ms/step - loss: 0.3999 - val_loss: 0.5629\n",
      "Epoch 10/20\n",
      "30/30 [==============================] - 0s 8ms/step - loss: 0.3864 - val_loss: 0.5677\n",
      "Epoch 11/20\n",
      "30/30 [==============================] - 0s 8ms/step - loss: 0.3720 - val_loss: 0.5742\n",
      "Epoch 12/20\n",
      "30/30 [==============================] - 0s 8ms/step - loss: 0.3572 - val_loss: 0.5778\n",
      "Epoch 13/20\n",
      "30/30 [==============================] - 0s 8ms/step - loss: 0.3450 - val_loss: 0.5824\n",
      "Epoch 14/20\n",
      "30/30 [==============================] - 0s 8ms/step - loss: 0.3330 - val_loss: 0.5845\n",
      "Epoch 15/20\n",
      "30/30 [==============================] - 0s 8ms/step - loss: 0.3195 - val_loss: 0.5864\n",
      "Epoch 16/20\n",
      "30/30 [==============================] - 0s 8ms/step - loss: 0.3069 - val_loss: 0.5901\n",
      "Epoch 17/20\n",
      "30/30 [==============================] - 0s 8ms/step - loss: 0.2947 - val_loss: 0.5921\n",
      "Epoch 18/20\n",
      "30/30 [==============================] - 0s 8ms/step - loss: 0.2826 - val_loss: 0.5950\n",
      "Epoch 19/20\n",
      "30/30 [==============================] - 0s 8ms/step - loss: 0.2714 - val_loss: 0.5969\n",
      "Epoch 20/20\n",
      "30/30 [==============================] - 0s 8ms/step - loss: 0.2606 - val_loss: 0.5995\n"
     ]
    }
   ],
   "source": [
    "model.compile(optimizer='adam', loss='mae') \n",
    "\n",
    "\n",
    "losses = model.fit(X_train, y_train,\n",
    "                   validation_data=(X_test, y_test),\n",
    "                   batch_size=256,\n",
    "                   epochs=20,\n",
    "                   )"
   ]
  },
  {
   "cell_type": "code",
   "execution_count": 73,
   "id": "dfaf784d-923b-4aa7-b9db-850852abdb64",
   "metadata": {},
   "outputs": [
    {
     "data": {
      "text/plain": [
       "<AxesSubplot: >"
      ]
     },
     "execution_count": 73,
     "metadata": {},
     "output_type": "execute_result"
    },
    {
     "data": {
      "image/png": "[encoded data removed]",
      "text/plain": [
       "<Figure size 640x480 with 1 Axes>"
      ]
     },
     "metadata": {},
     "output_type": "display_data"
    }
   ],
   "source": [
    "loss_df = pd.DataFrame(losses.history)\n",
    "loss_df.loc[:,['loss','val_loss']].plot()"
   ]
  },
  {
   "cell_type": "markdown",
   "id": "df9373c2-a123-47b0-aeee-f73f4b7cfb44",
   "metadata": {},
   "source": [
    "# test_results = {}\n",
    "\n",
    "test_results['model'] = model.evaluate(\n",
    "    X_test, y_test, verbose=0)\n",
    "\n",
    "print(f\" Accuracy: {test_results}\")"
   ]
  }
 ],
 "metadata": {
  "kernelspec": {
   "display_name": "Python 3 (ipykernel)",
   "language": "python",
   "name": "python3"
  },
  "language_info": {
   "codemirror_mode": {
    "name": "ipython",
    "version": 3
   },
   "file_extension": ".py",
   "mimetype": "text/x-python",
   "name": "python",
   "nbconvert_exporter": "python",
   "pygments_lexer": "ipython3",
   "version": "3.10.8"
  }
 },
 "nbformat": 4,
 "nbformat_minor": 5
}
