{
 "cells": [
  {
   "cell_type": "markdown",
   "id": "1ce8bf34-5077-4b39-ae81-afd6db3d3bbf",
   "metadata": {},
   "source": [
    "# Twitter"
   ]
  },
  {
   "cell_type": "markdown",
   "id": "11b7067e-7426-4923-b120-a5cc47e2b328",
   "metadata": {},
   "source": [
    "### Pre-processing"
   ]
  },
  {
   "cell_type": "markdown",
   "id": "13c52f4a-8fab-45ad-86b8-45a7f1f0e87c",
   "metadata": {},
   "source": [
    "TODO\n",
    "- none"
   ]
  },
  {
   "cell_type": "markdown",
   "id": "ba7d96a7-1686-4c83-b806-cfe85b8f9d2a",
   "metadata": {},
   "source": [
    "Find the most recent dataset and load it"
   ]
  },
  {
   "cell_type": "code",
   "execution_count": 237,
   "id": "55b44b7c-5c61-4219-ae2b-2784dba2e761",
   "metadata": {},
   "outputs": [
    {
     "data": {
      "text/plain": [
       "'\\npath = \"data\"\\n\\n# get the most recent dataset (ordered by the date in the name)\\nfilelist = os.listdir(\"data\") # get the list of files\\nmatching = [s for s in filelist if \"dataset\" in s] # filter only by files containing \"dataset\" in the name\\nmatching.sort(reverse=True)\\n\\nprint(matching[0])\\n\\n# load the dataset\\ndf = pd.read_csv(path+\"/\"+matching[0])\\ndf = df.rename(columns={\"Text\": \"text\", \"Retweet\": \"retweet\", \"Likes\": \"likes\", 3: \"user_id\"})\\n'"
      ]
     },
     "execution_count": 237,
     "metadata": {},
     "output_type": "execute_result"
    }
   ],
   "source": [
    "import pandas as pd\n",
    "import numpy as np\n",
    "import os\n",
    "\n",
    "'''\n",
    "path = \"data\"\n",
    "\n",
    "# get the most recent dataset (ordered by the date in the name)\n",
    "filelist = os.listdir(\"data\") # get the list of files\n",
    "matching = [s for s in filelist if \"dataset\" in s] # filter only by files containing \"dataset\" in the name\n",
    "matching.sort(reverse=True)\n",
    "\n",
    "print(matching[0])\n",
    "\n",
    "# load the dataset\n",
    "df = pd.read_csv(path+\"/\"+matching[0])\n",
    "df = df.rename(columns={\"Text\": \"text\", \"Retweet\": \"retweet\", \"Likes\": \"likes\", 3: \"user_id\"})\n",
    "'''"
   ]
  },
  {
   "cell_type": "code",
   "execution_count": 238,
   "id": "1265be5c-fe2d-456d-acca-6b38024a89b7",
   "metadata": {},
   "outputs": [
    {
     "data": {
      "text/html": [
       "<div>\n",
       "<style scoped>\n",
       "    .dataframe tbody tr th:only-of-type {\n",
       "        vertical-align: middle;\n",
       "    }\n",
       "\n",
       "    .dataframe tbody tr th {\n",
       "        vertical-align: top;\n",
       "    }\n",
       "\n",
       "    .dataframe thead th {\n",
       "        text-align: right;\n",
       "    }\n",
       "</style>\n",
       "<table border=\"1\" class=\"dataframe\">\n",
       "  <thead>\n",
       "    <tr style=\"text-align: right;\">\n",
       "      <th></th>\n",
       "      <th>index</th>\n",
       "      <th>X</th>\n",
       "      <th>likes</th>\n",
       "      <th>followers</th>\n",
       "      <th>popularity</th>\n",
       "      <th>y</th>\n",
       "    </tr>\n",
       "  </thead>\n",
       "  <tbody>\n",
       "    <tr>\n",
       "      <th>0</th>\n",
       "      <td>0</td>\n",
       "      <td>i feel so shitty about my body today I want to...</td>\n",
       "      <td>1.0</td>\n",
       "      <td>343.0</td>\n",
       "      <td>0.829554</td>\n",
       "      <td>1</td>\n",
       "    </tr>\n",
       "    <tr>\n",
       "      <th>1</th>\n",
       "      <td>4</td>\n",
       "      <td>i want you to make yourself your lunch and let...</td>\n",
       "      <td>3.0</td>\n",
       "      <td>277.0</td>\n",
       "      <td>1.710159</td>\n",
       "      <td>2</td>\n",
       "    </tr>\n",
       "    <tr>\n",
       "      <th>2</th>\n",
       "      <td>6</td>\n",
       "      <td>..Wanna go get some lunch?</td>\n",
       "      <td>0.0</td>\n",
       "      <td>329.0</td>\n",
       "      <td>0.417281</td>\n",
       "      <td>0</td>\n",
       "    </tr>\n",
       "    <tr>\n",
       "      <th>3</th>\n",
       "      <td>9</td>\n",
       "      <td>hello! not new to edtwt (switched accs) + look...</td>\n",
       "      <td>4.0</td>\n",
       "      <td>14.0</td>\n",
       "      <td>3.127792</td>\n",
       "      <td>2</td>\n",
       "    </tr>\n",
       "    <tr>\n",
       "      <th>4</th>\n",
       "      <td>10</td>\n",
       "      <td>20-30 min wait to get a dosa at avrebele mela ...</td>\n",
       "      <td>0.0</td>\n",
       "      <td>98.0</td>\n",
       "      <td>0.489201</td>\n",
       "      <td>0</td>\n",
       "    </tr>\n",
       "    <tr>\n",
       "      <th>...</th>\n",
       "      <td>...</td>\n",
       "      <td>...</td>\n",
       "      <td>...</td>\n",
       "      <td>...</td>\n",
       "      <td>...</td>\n",
       "      <td>...</td>\n",
       "    </tr>\n",
       "    <tr>\n",
       "      <th>20140</th>\n",
       "      <td>25390</td>\n",
       "      <td>does the 'thinking' time counter on CELTX vs t...</td>\n",
       "      <td>2.0</td>\n",
       "      <td>138.0</td>\n",
       "      <td>1.405926</td>\n",
       "      <td>1</td>\n",
       "    </tr>\n",
       "    <tr>\n",
       "      <th>20141</th>\n",
       "      <td>25391</td>\n",
       "      <td>Pinto Beans w/smoked Turkey Wings and cornbrea...</td>\n",
       "      <td>1.0</td>\n",
       "      <td>2088.0</td>\n",
       "      <td>0.575502</td>\n",
       "      <td>1</td>\n",
       "    </tr>\n",
       "    <tr>\n",
       "      <th>20142</th>\n",
       "      <td>25393</td>\n",
       "      <td>Back to normal life in Los Angeles means back ...</td>\n",
       "      <td>11.0</td>\n",
       "      <td>6372.0</td>\n",
       "      <td>2.237816</td>\n",
       "      <td>2</td>\n",
       "    </tr>\n",
       "    <tr>\n",
       "      <th>20143</th>\n",
       "      <td>25396</td>\n",
       "      <td>At some point a certain brand of skinny fitnes...</td>\n",
       "      <td>7.0</td>\n",
       "      <td>377.0</td>\n",
       "      <td>3.272493</td>\n",
       "      <td>2</td>\n",
       "    </tr>\n",
       "    <tr>\n",
       "      <th>20144</th>\n",
       "      <td>25398</td>\n",
       "      <td>Ordered a portable smoothie maker for when I'm...</td>\n",
       "      <td>6.0</td>\n",
       "      <td>483.0</td>\n",
       "      <td>2.756539</td>\n",
       "      <td>2</td>\n",
       "    </tr>\n",
       "  </tbody>\n",
       "</table>\n",
       "<p>20145 rows × 6 columns</p>\n",
       "</div>"
      ],
      "text/plain": [
       "       index                                                  X  likes  \\\n",
       "0          0  i feel so shitty about my body today I want to...    1.0   \n",
       "1          4  i want you to make yourself your lunch and let...    3.0   \n",
       "2          6                         ..Wanna go get some lunch?    0.0   \n",
       "3          9  hello! not new to edtwt (switched accs) + look...    4.0   \n",
       "4         10  20-30 min wait to get a dosa at avrebele mela ...    0.0   \n",
       "...      ...                                                ...    ...   \n",
       "20140  25390  does the 'thinking' time counter on CELTX vs t...    2.0   \n",
       "20141  25391  Pinto Beans w/smoked Turkey Wings and cornbrea...    1.0   \n",
       "20142  25393  Back to normal life in Los Angeles means back ...   11.0   \n",
       "20143  25396  At some point a certain brand of skinny fitnes...    7.0   \n",
       "20144  25398  Ordered a portable smoothie maker for when I'm...    6.0   \n",
       "\n",
       "       followers  popularity  y  \n",
       "0          343.0    0.829554  1  \n",
       "1          277.0    1.710159  2  \n",
       "2          329.0    0.417281  0  \n",
       "3           14.0    3.127792  2  \n",
       "4           98.0    0.489201  0  \n",
       "...          ...         ... ..  \n",
       "20140      138.0    1.405926  1  \n",
       "20141     2088.0    0.575502  1  \n",
       "20142     6372.0    2.237816  2  \n",
       "20143      377.0    3.272493  2  \n",
       "20144      483.0    2.756539  2  \n",
       "\n",
       "[20145 rows x 6 columns]"
      ]
     },
     "metadata": {},
     "output_type": "display_data"
    }
   ],
   "source": [
    "#path = \"datasets/619439/\"\n",
    "path = \"datasets/joined/\"\n",
    "#path = \"\"\n",
    "#df = pd.read_csv(path+\"debug_set_614548.csv\")\n",
    "#df = pd.read_csv(path+\"debug_set_619439.csv\")\n",
    "#df = pd.read_csv(path+\"dataset_pop.csv\")\n",
    "df = pd.read_csv(path+\"dataset_pop.csv\")\n",
    "#df = pd.read_csv(path+\"dataset_raw.csv\")\n",
    "\n",
    "\n",
    "#path = \"datasets/619439/\"\n",
    "#df = pd.concat([df, pd.read_csv(path+\"dataset_pop.csv\")])\n",
    "df = df.rename(columns={\"text\": \"X\", \"pop_level\": \"y\"})\n",
    "display(df)"
   ]
  },
  {
   "cell_type": "markdown",
   "id": "606bc3db-54b4-46fa-8829-cd02cdbf89a6",
   "metadata": {},
   "source": [
    "#### Clean\n",
    "Drop duplicates observations"
   ]
  },
  {
   "cell_type": "code",
   "execution_count": 239,
   "id": "60a0280a-5b6c-4bc2-b40b-5217307c50c8",
   "metadata": {},
   "outputs": [
    {
     "name": "stdout",
     "output_type": "stream",
     "text": [
      "(19741, 6)\n"
     ]
    },
    {
     "data": {
      "text/html": [
       "<div>\n",
       "<style scoped>\n",
       "    .dataframe tbody tr th:only-of-type {\n",
       "        vertical-align: middle;\n",
       "    }\n",
       "\n",
       "    .dataframe tbody tr th {\n",
       "        vertical-align: top;\n",
       "    }\n",
       "\n",
       "    .dataframe thead th {\n",
       "        text-align: right;\n",
       "    }\n",
       "</style>\n",
       "<table border=\"1\" class=\"dataframe\">\n",
       "  <thead>\n",
       "    <tr style=\"text-align: right;\">\n",
       "      <th></th>\n",
       "      <th>index</th>\n",
       "      <th>X</th>\n",
       "      <th>likes</th>\n",
       "      <th>followers</th>\n",
       "      <th>popularity</th>\n",
       "      <th>y</th>\n",
       "    </tr>\n",
       "  </thead>\n",
       "  <tbody>\n",
       "    <tr>\n",
       "      <th>0</th>\n",
       "      <td>0</td>\n",
       "      <td>i feel so shitty about my body today I want to...</td>\n",
       "      <td>1.0</td>\n",
       "      <td>343.0</td>\n",
       "      <td>0.829554</td>\n",
       "      <td>1</td>\n",
       "    </tr>\n",
       "    <tr>\n",
       "      <th>1</th>\n",
       "      <td>4</td>\n",
       "      <td>i want you to make yourself your lunch and let...</td>\n",
       "      <td>3.0</td>\n",
       "      <td>277.0</td>\n",
       "      <td>1.710159</td>\n",
       "      <td>2</td>\n",
       "    </tr>\n",
       "    <tr>\n",
       "      <th>2</th>\n",
       "      <td>6</td>\n",
       "      <td>..Wanna go get some lunch?</td>\n",
       "      <td>0.0</td>\n",
       "      <td>329.0</td>\n",
       "      <td>0.417281</td>\n",
       "      <td>0</td>\n",
       "    </tr>\n",
       "    <tr>\n",
       "      <th>3</th>\n",
       "      <td>9</td>\n",
       "      <td>hello! not new to edtwt (switched accs) + look...</td>\n",
       "      <td>4.0</td>\n",
       "      <td>14.0</td>\n",
       "      <td>3.127792</td>\n",
       "      <td>2</td>\n",
       "    </tr>\n",
       "    <tr>\n",
       "      <th>4</th>\n",
       "      <td>10</td>\n",
       "      <td>20-30 min wait to get a dosa at avrebele mela ...</td>\n",
       "      <td>0.0</td>\n",
       "      <td>98.0</td>\n",
       "      <td>0.489201</td>\n",
       "      <td>0</td>\n",
       "    </tr>\n",
       "    <tr>\n",
       "      <th>...</th>\n",
       "      <td>...</td>\n",
       "      <td>...</td>\n",
       "      <td>...</td>\n",
       "      <td>...</td>\n",
       "      <td>...</td>\n",
       "      <td>...</td>\n",
       "    </tr>\n",
       "    <tr>\n",
       "      <th>20140</th>\n",
       "      <td>25390</td>\n",
       "      <td>does the 'thinking' time counter on CELTX vs t...</td>\n",
       "      <td>2.0</td>\n",
       "      <td>138.0</td>\n",
       "      <td>1.405926</td>\n",
       "      <td>1</td>\n",
       "    </tr>\n",
       "    <tr>\n",
       "      <th>20141</th>\n",
       "      <td>25391</td>\n",
       "      <td>Pinto Beans w/smoked Turkey Wings and cornbrea...</td>\n",
       "      <td>1.0</td>\n",
       "      <td>2088.0</td>\n",
       "      <td>0.575502</td>\n",
       "      <td>1</td>\n",
       "    </tr>\n",
       "    <tr>\n",
       "      <th>20142</th>\n",
       "      <td>25393</td>\n",
       "      <td>Back to normal life in Los Angeles means back ...</td>\n",
       "      <td>11.0</td>\n",
       "      <td>6372.0</td>\n",
       "      <td>2.237816</td>\n",
       "      <td>2</td>\n",
       "    </tr>\n",
       "    <tr>\n",
       "      <th>20143</th>\n",
       "      <td>25396</td>\n",
       "      <td>At some point a certain brand of skinny fitnes...</td>\n",
       "      <td>7.0</td>\n",
       "      <td>377.0</td>\n",
       "      <td>3.272493</td>\n",
       "      <td>2</td>\n",
       "    </tr>\n",
       "    <tr>\n",
       "      <th>20144</th>\n",
       "      <td>25398</td>\n",
       "      <td>Ordered a portable smoothie maker for when I'm...</td>\n",
       "      <td>6.0</td>\n",
       "      <td>483.0</td>\n",
       "      <td>2.756539</td>\n",
       "      <td>2</td>\n",
       "    </tr>\n",
       "  </tbody>\n",
       "</table>\n",
       "<p>19741 rows × 6 columns</p>\n",
       "</div>"
      ],
      "text/plain": [
       "       index                                                  X  likes  \\\n",
       "0          0  i feel so shitty about my body today I want to...    1.0   \n",
       "1          4  i want you to make yourself your lunch and let...    3.0   \n",
       "2          6                         ..Wanna go get some lunch?    0.0   \n",
       "3          9  hello! not new to edtwt (switched accs) + look...    4.0   \n",
       "4         10  20-30 min wait to get a dosa at avrebele mela ...    0.0   \n",
       "...      ...                                                ...    ...   \n",
       "20140  25390  does the 'thinking' time counter on CELTX vs t...    2.0   \n",
       "20141  25391  Pinto Beans w/smoked Turkey Wings and cornbrea...    1.0   \n",
       "20142  25393  Back to normal life in Los Angeles means back ...   11.0   \n",
       "20143  25396  At some point a certain brand of skinny fitnes...    7.0   \n",
       "20144  25398  Ordered a portable smoothie maker for when I'm...    6.0   \n",
       "\n",
       "       followers  popularity  y  \n",
       "0          343.0    0.829554  1  \n",
       "1          277.0    1.710159  2  \n",
       "2          329.0    0.417281  0  \n",
       "3           14.0    3.127792  2  \n",
       "4           98.0    0.489201  0  \n",
       "...          ...         ... ..  \n",
       "20140      138.0    1.405926  1  \n",
       "20141     2088.0    0.575502  1  \n",
       "20142     6372.0    2.237816  2  \n",
       "20143      377.0    3.272493  2  \n",
       "20144      483.0    2.756539  2  \n",
       "\n",
       "[19741 rows x 6 columns]"
      ]
     },
     "metadata": {},
     "output_type": "display_data"
    }
   ],
   "source": [
    "# drop duplicates observations, keeping the first occurrence\n",
    "df = df.drop_duplicates(subset='X', keep='first')\n",
    "print(df.shape)\n",
    "display(df)"
   ]
  },
  {
   "cell_type": "markdown",
   "id": "0dfc25a3-4a04-41e9-80ea-0007fcee0ba7",
   "metadata": {},
   "source": [
    "Generate response variable"
   ]
  },
  {
   "cell_type": "markdown",
   "id": "48e0a3e2-e475-4b15-b302-34b7c72a1806",
   "metadata": {},
   "source": [
    "### Training Test Split"
   ]
  },
  {
   "cell_type": "code",
   "execution_count": 240,
   "id": "8f5d713d-ebe6-4f31-97b1-7a69490b0c67",
   "metadata": {},
   "outputs": [
    {
     "name": "stdout",
     "output_type": "stream",
     "text": [
      "Index(['index', 'X', 'likes', 'followers'], dtype='object')\n"
     ]
    },
    {
     "data": {
      "text/plain": [
       "203      What is the keto diet:\\n\\nThe ketogenic diet o...\n",
       "16767    I just love how Mexican food is just like “but...\n",
       "1529     🤍 01/05 calories\\n⁃breakfast: +450\\n⁃lunch: +5...\n",
       "11011                                  I love yakisoba bun\n",
       "9673     I made chocolate chip cookies &amp; didn’t thi...\n",
       "                               ...                        \n",
       "15838    She fell in love with smashing a plátano she s...\n",
       "8068     new comfort food i could eat everyday unlocked...\n",
       "19431    // Doing hospitality and one of the people I a...\n",
       "4472          I was late from lunch reading this damn book\n",
       "3355     I have a list of errands to run but I also wan...\n",
       "Name: X, Length: 15792, dtype: object"
      ]
     },
     "metadata": {},
     "output_type": "display_data"
    },
    {
     "data": {
      "text/html": [
       "<div>\n",
       "<style scoped>\n",
       "    .dataframe tbody tr th:only-of-type {\n",
       "        vertical-align: middle;\n",
       "    }\n",
       "\n",
       "    .dataframe tbody tr th {\n",
       "        vertical-align: top;\n",
       "    }\n",
       "\n",
       "    .dataframe thead th {\n",
       "        text-align: right;\n",
       "    }\n",
       "</style>\n",
       "<table border=\"1\" class=\"dataframe\">\n",
       "  <thead>\n",
       "    <tr style=\"text-align: right;\">\n",
       "      <th></th>\n",
       "      <th>y</th>\n",
       "      <th>popularity</th>\n",
       "    </tr>\n",
       "  </thead>\n",
       "  <tbody>\n",
       "    <tr>\n",
       "      <th>203</th>\n",
       "      <td>0</td>\n",
       "      <td>0.470836</td>\n",
       "    </tr>\n",
       "    <tr>\n",
       "      <th>16767</th>\n",
       "      <td>0</td>\n",
       "      <td>0.473586</td>\n",
       "    </tr>\n",
       "    <tr>\n",
       "      <th>1529</th>\n",
       "      <td>1</td>\n",
       "      <td>1.239854</td>\n",
       "    </tr>\n",
       "    <tr>\n",
       "      <th>11011</th>\n",
       "      <td>0</td>\n",
       "      <td>0.466117</td>\n",
       "    </tr>\n",
       "    <tr>\n",
       "      <th>9673</th>\n",
       "      <td>1</td>\n",
       "      <td>0.954954</td>\n",
       "    </tr>\n",
       "    <tr>\n",
       "      <th>...</th>\n",
       "      <td>...</td>\n",
       "      <td>...</td>\n",
       "    </tr>\n",
       "    <tr>\n",
       "      <th>15838</th>\n",
       "      <td>0</td>\n",
       "      <td>0.436263</td>\n",
       "    </tr>\n",
       "    <tr>\n",
       "      <th>8068</th>\n",
       "      <td>0</td>\n",
       "      <td>0.432671</td>\n",
       "    </tr>\n",
       "    <tr>\n",
       "      <th>19431</th>\n",
       "      <td>0</td>\n",
       "      <td>0.426268</td>\n",
       "    </tr>\n",
       "    <tr>\n",
       "      <th>4472</th>\n",
       "      <td>0</td>\n",
       "      <td>0.413044</td>\n",
       "    </tr>\n",
       "    <tr>\n",
       "      <th>3355</th>\n",
       "      <td>1</td>\n",
       "      <td>1.160578</td>\n",
       "    </tr>\n",
       "  </tbody>\n",
       "</table>\n",
       "<p>15792 rows × 2 columns</p>\n",
       "</div>"
      ],
      "text/plain": [
       "       y  popularity\n",
       "203    0    0.470836\n",
       "16767  0    0.473586\n",
       "1529   1    1.239854\n",
       "11011  0    0.466117\n",
       "9673   1    0.954954\n",
       "...   ..         ...\n",
       "15838  0    0.436263\n",
       "8068   0    0.432671\n",
       "19431  0    0.426268\n",
       "4472   0    0.413044\n",
       "3355   1    1.160578\n",
       "\n",
       "[15792 rows x 2 columns]"
      ]
     },
     "metadata": {},
     "output_type": "display_data"
    }
   ],
   "source": [
    "from sklearn.model_selection import train_test_split\n",
    "\n",
    "sec_col = 'popularity'\n",
    "y_col = ['y', sec_col] ####\n",
    "####y_col = ['y'] ####\n",
    "X_cols = df.columns\n",
    "X_cols = X_cols.drop(y_col)\n",
    "\n",
    "#X_cols = X_cols.drop('likes')\n",
    "#X_cols = X_cols.drop('followers')\n",
    "#X_cols = X_cols.drop('impressions')\n",
    "#X_cols = X_cols.drop('popularity') ####\n",
    "\n",
    "print(X_cols)\n",
    "\n",
    "# split data\n",
    "X_train, X_test, y_train, y_test = train_test_split(\n",
    "    df.loc[:,X_cols], df.loc[:,y_col], test_size=0.2, random_state=0, shuffle=True, stratify=df.loc[:,'y'])\n",
    "\n",
    "# REVIEW THIS:\n",
    "X_train = X_train['X']\n",
    "X_test = X_test['X']\n",
    "\n",
    "# backup\n",
    "X_train_bak = X_train\n",
    "X_test_bak = X_test\n",
    "\n",
    "y_train_reg = y_train[sec_col]\n",
    "y_test_reg = y_test[sec_col]\n",
    "\n",
    "y_train_clf = y_train['y']\n",
    "y_test_clf = y_test['y']\n",
    "\n",
    "display(X_train)\n",
    "display(y_train)"
   ]
  },
  {
   "cell_type": "code",
   "execution_count": 241,
   "id": "d38c0e8f-f986-4f7c-872a-1868083e1208",
   "metadata": {},
   "outputs": [],
   "source": [
    "# SET CLASSIFICATION\n",
    "y_train = y_train_clf\n",
    "y_test = y_test_clf"
   ]
  },
  {
   "cell_type": "markdown",
   "id": "820a2d18-4534-444d-8515-7795c6fcb74d",
   "metadata": {},
   "source": [
    "#### Stemming\n",
    "We can further improve our bag-of-words pre-processing using a normalization technique called stemming.\n",
    "The idea is to reduce each word to its stem, using the stemming algorithm (rule-based heuristic).\n",
    "For example a stemmer reduce words like \"climber\", \"climbed\" and \"climbing\" to \"climb\".\n",
    "\n",
    "The Natural Language Toolkit for Python (NLTK, http://www.nltk.org) implements the Snowball stemming algorithm.\n",
    "\n",
    "#### Bag-of-Words\n",
    "\n",
    "Is used the scikit-learn implementation of bag of word using the CountVectorizer class.\n",
    "It take an array of text as input and return a bag-of-words model.\n",
    "\n",
    "##### Less frequently words\n",
    "To lower the dimension we can clean the words that appears less frequently, is used the \"min_df\" to set the minimum number of documents that the word needs to appear in.\n",
    "\n"
   ]
  },
  {
   "cell_type": "code",
   "execution_count": 242,
   "id": "d76dd029-1e6b-4656-beeb-9912b7f42a8d",
   "metadata": {},
   "outputs": [
    {
     "data": {
      "text/plain": [
       "['the', 'pink', 'sweater', 'fit', 'her', 'perfect']"
      ]
     },
     "execution_count": 242,
     "metadata": {},
     "output_type": "execute_result"
    }
   ],
   "source": [
    "# prepare tokenization\n",
    "from nltk.stem.snowball import SnowballStemmer\n",
    "stemmer = SnowballStemmer(\"english\")\n",
    "\n",
    "# create a function to \n",
    "def tokenizer_snowballStemmer(text):\n",
    "    return [stemmer.stem(word) for word in text.split()]\n",
    "\n",
    "tokenizer_snowballStemmer(\"The pink sweater fit her perfectly\") # test"
   ]
  },
  {
   "cell_type": "markdown",
   "id": "b8a58e08-37cd-494c-9cab-e05821acb438",
   "metadata": {},
   "source": [
    "Bag of word"
   ]
  },
  {
   "cell_type": "code",
   "execution_count": 243,
   "id": "a2ecf08e-bff3-4cca-a97e-5acdcb726519",
   "metadata": {},
   "outputs": [],
   "source": [
    "from sklearn.feature_extraction.text import CountVectorizer\n",
    "\n",
    "def prep_bagofword(X_train, X_test):\n",
    "    count = CountVectorizer(tokenizer = tokenizer_snowballStemmer, min_df=5) # use tokenizer function\n",
    "    count.fit(X_train) # generate Bag-of-words\n",
    "\n",
    "    #print(\"Vocabulary size using stemming: {}\". format(len(count.vocabulary_)))\n",
    "    #print(\"Vocabulary content:\\n {}\".format(count.vocabulary_))\n",
    "\n",
    "    # apply transformation to the data\n",
    "    X_train = count.transform(X_train)\n",
    "    print(\"X_train: {}\".format(X_train.shape))\n",
    "\n",
    "    X_test = count.transform(X_test)\n",
    "    print(\"X_test: {}\".format(X_test.shape))\n",
    "    \n",
    "    feature_names = np.array(count.get_feature_names())\n",
    "    \n",
    "    return X_train, X_test, feature_names\n"
   ]
  },
  {
   "cell_type": "markdown",
   "id": "856b7c68-8baf-4360-9eef-880ca093a29f",
   "metadata": {},
   "source": [
    "Better use bag of word + TF-IDF\n",
    "\n",
    "REFs \n",
    "https://scikit-learn.org/stable/auto_examples/text/plot_document_clustering.html#sphx-glr-auto-examples-text-plot-document-clustering-py"
   ]
  },
  {
   "cell_type": "code",
   "execution_count": 244,
   "id": "4f509602-77a2-4275-a6dc-5f196c58ad63",
   "metadata": {},
   "outputs": [],
   "source": [
    "from sklearn.feature_extraction.text import TfidfVectorizer\n",
    "import time\n",
    "\n",
    "def prep_bagofword_tfidf(X_train, X_test):\n",
    "    vectorizer = TfidfVectorizer(\n",
    "        tokenizer = tokenizer_snowballStemmer,\n",
    "        #max_df=0.01,\n",
    "        min_df=5,\n",
    "        #ngram_range=(1,5),\n",
    "        stop_words=\"english\")\n",
    "\n",
    "    t0 = time.time()\n",
    "    vectorizer.fit(X_train)\n",
    "    X_train = vectorizer.transform(X_train)\n",
    "    print(f\"vectorization done in {time.time() - t0:.3f} s\")\n",
    "\n",
    "    print(f\"n_samples: {X_train.shape[0]}, n_features: {X_train.shape[1]}\")\n",
    "    print(f\"{X_train.nnz / np.prod(X_train.shape):.3f}\")\n",
    "\n",
    "    #print(\"Vocabulary size using stemming: {}\". format(len(count.vocabulary_)))\n",
    "    #print(\"Vocabulary content:\\n {}\".format(vectorizer.vocabulary_))\n",
    "\n",
    "    # apply transformation to the tesr\n",
    "    X_test = vectorizer.transform(X_test)\n",
    "    print(\"X_test: {}\".format(X_test.shape))\n",
    "\n",
    "    feature_names = np.array(vectorizer.get_feature_names())\n",
    "    \n",
    "    return X_train, X_test, features_names"
   ]
  },
  {
   "cell_type": "markdown",
   "id": "9c424a93-edaa-4d5c-a29c-03ecf1d5903f",
   "metadata": {},
   "source": [
    "Main preprocessing function"
   ]
  },
  {
   "cell_type": "code",
   "execution_count": 245,
   "id": "062b906b-62f0-4833-af26-3a0d55a635cd",
   "metadata": {},
   "outputs": [
    {
     "name": "stderr",
     "output_type": "stream",
     "text": [
      "/Users/agustin/miniforge3/envs/dssc-deep/lib/python3.10/site-packages/sklearn/feature_extraction/text.py:516: UserWarning: The parameter 'token_pattern' will not be used since 'tokenizer' is not None'\n",
      "  warnings.warn(\n",
      "/Users/agustin/miniforge3/envs/dssc-deep/lib/python3.10/site-packages/sklearn/feature_extraction/text.py:396: UserWarning: Your stop_words may be inconsistent with your preprocessing. Tokenizing the stop words generated tokens ['abov', 'afterward', 'alon', 'alreadi', 'alway', 'ani', 'anoth', 'anyon', 'anyth', 'anywher', 'becam', 'becaus', 'becom', 'befor', 'besid', 'cri', 'describ', 'dure', 'els', 'elsewher', 'empti', 'everi', 'everyon', 'everyth', 'everywher', 'fifti', 'forti', 'henc', 'hereaft', 'herebi', 'howev', 'hundr', 'inde', 'mani', 'meanwhil', 'moreov', 'nobodi', 'noon', 'noth', 'nowher', 'onc', 'onli', 'otherwis', 'ourselv', 'perhap', 'pleas', 'sever', 'sinc', 'sincer', 'sixti', 'someon', 'someth', 'sometim', 'somewher', 'themselv', 'thenc', 'thereaft', 'therebi', 'therefor', 'togeth', 'twelv', 'twenti', 'veri', 'whatev', 'whenc', 'whenev', 'wherea', 'whereaft', 'wherebi', 'wherev', 'whi', 'yourselv'] not in stop_words.\n",
      "  warnings.warn(\n"
     ]
    },
    {
     "name": "stdout",
     "output_type": "stream",
     "text": [
      "vectorization done in 6.751 s\n",
      "n_samples: 15792, n_features: 4244\n",
      "0.002\n",
      "X_test: (3949, 4244)\n"
     ]
    },
    {
     "name": "stderr",
     "output_type": "stream",
     "text": [
      "/Users/agustin/miniforge3/envs/dssc-deep/lib/python3.10/site-packages/sklearn/utils/deprecation.py:87: FutureWarning: Function get_feature_names is deprecated; get_feature_names is deprecated in 1.0 and will be removed in 1.2. Please use get_feature_names_out instead.\n",
      "  warnings.warn(msg, category=FutureWarning)\n"
     ]
    },
    {
     "data": {
      "text/plain": [
       "[0, 1, 2]"
      ]
     },
     "metadata": {},
     "output_type": "display_data"
    }
   ],
   "source": [
    "# update the variables\n",
    "#X_train = X_train_bak\n",
    "#X_test = X_test_bak\n",
    "\n",
    "# select steps to apply\n",
    "#X_train, X_test, features_names = prep_bagofword(X_train, X_test)\n",
    "\n",
    "# update the variables\n",
    "X_train = X_train_bak\n",
    "X_test = X_test_bak\n",
    "\n",
    "X_train, X_test, features_names = prep_bagofword_tfidf(X_train, X_test)\n",
    "\n",
    "# in case of classification\n",
    "target_names = [0, 1 ,2]\n",
    "display(target_names)"
   ]
  },
  {
   "cell_type": "markdown",
   "id": "ea903bb4-29e1-401b-9e47-3ed258348a55",
   "metadata": {},
   "source": [
    "### GridSearchCV"
   ]
  },
  {
   "cell_type": "code",
   "execution_count": 246,
   "id": "087e1c4f-daa1-4d8e-93cd-6a84a13f987a",
   "metadata": {},
   "outputs": [
    {
     "data": {
      "text/plain": [
       "\"\\nfrom sklearn.ensemble import RandomForestClassifier\\nfrom sklearn.model_selection import GridSearchCV\\nparameters = {'n_estimators':('100', '200'), 'C':[1, 10]}\\nclf = make_pipeline(StandardScaler(), \\n                    GridSearchCV(LogisticRegression(),\\n                                 param_grid={'logisticregression__C': [0.1, 10.]},\\n                                 cv=2,\\n                                 refit=True))\\n\\nclf.fit()\\nclf.predict()\\nclf = GridSearchCV(clf, parameters)\\nclf.fit(X_train, y_train)\\n\\n\\nsorted(clf.cv_results_.keys())\\n\""
      ]
     },
     "execution_count": 246,
     "metadata": {},
     "output_type": "execute_result"
    }
   ],
   "source": [
    "'''\n",
    "from sklearn.ensemble import RandomForestClassifier\n",
    "from sklearn.model_selection import GridSearchCV\n",
    "parameters = {'n_estimators':('100', '200'), 'C':[1, 10]}\n",
    "clf = make_pipeline(StandardScaler(), \n",
    "                    GridSearchCV(LogisticRegression(),\n",
    "                                 param_grid={'logisticregression__C': [0.1, 10.]},\n",
    "                                 cv=2,\n",
    "                                 refit=True))\n",
    "\n",
    "clf.fit()\n",
    "clf.predict()\n",
    "clf = GridSearchCV(clf, parameters)\n",
    "clf.fit(X_train, y_train)\n",
    "\n",
    "\n",
    "sorted(clf.cv_results_.keys())\n",
    "'''"
   ]
  },
  {
   "cell_type": "markdown",
   "id": "92423481-d043-48f4-84a6-cd80fc2b0a3e",
   "metadata": {},
   "source": [
    "### Modeling"
   ]
  },
  {
   "cell_type": "code",
   "execution_count": 247,
   "id": "5ceb3a93-c529-4896-a8ac-1a78dae10399",
   "metadata": {},
   "outputs": [],
   "source": [
    "from sklearn.ensemble import RandomForestClassifier\n",
    "\n",
    "def model_randomforest(X_train, y_train):\n",
    "    # fit a Random Forest model\n",
    "    clf_empty = RandomForestClassifier(n_estimators=100)\n",
    "    clf_fitted = clf_empty.fit(X_train, y_train) \n",
    "    return clf_empty, clf_fitted"
   ]
  },
  {
   "cell_type": "markdown",
   "id": "4a568928-920a-42fa-a5f8-f7698ad480ff",
   "metadata": {},
   "source": [
    "Check the model performance using cross validation (on the training set) and show the accuracy results."
   ]
  },
  {
   "cell_type": "code",
   "execution_count": 248,
   "id": "b1cc297a-8f72-4ee4-aaf1-e2cd81bec709",
   "metadata": {},
   "outputs": [],
   "source": [
    "from sklearn.model_selection import cross_val_score\n",
    "from sklearn.metrics import accuracy_score\n",
    "\n",
    "def eval_cv_classification(clf, X_train, y_train):\n",
    "    # plot CV results\n",
    "    scores = cross_val_score(clf, X_train, y_train, cv=5, scoring='balanced_accuracy')\n",
    "    display(\"CROSS VALIDATION\")\n",
    "    display(\"Cross Validation scores\")\n",
    "    i=1\n",
    "    for a in scores:\n",
    "        display(\"Accuracy cv=\" + str(i) + \": \" + str(round(a*100, 2)))\n",
    "        i = i+1\n",
    "    acc_mean = round(scores.mean(),2)*100\n",
    "    display(\"Accuracy MEAN: \"+str(acc_mean))\n",
    "    return scores.mean()"
   ]
  },
  {
   "cell_type": "code",
   "execution_count": 249,
   "id": "940b42da-2198-420a-87f2-3df9029b32e2",
   "metadata": {},
   "outputs": [],
   "source": [
    "import matplotlib.pyplot as plt\n",
    "from sklearn.metrics import confusion_matrix, ConfusionMatrixDisplay\n",
    "from sklearn.metrics import balanced_accuracy_score\n",
    "\n",
    "def eval_pred_classification(clf, X_test, y_test):\n",
    "    display(\"TEST SET\")\n",
    "    # results on test set\n",
    "    predictions = clf.predict(X_test)\n",
    "    test_accuracy = balanced_accuracy_score(predictions, y_test)\n",
    "    display(\"Test set accuracy: \" + str(round(test_accuracy*100, 2)))\n",
    "    display(confusion_matrix(predictions, y_test)) # display confusion matrix\n",
    "\n",
    "    # results on test set\n",
    "    predictions = clf.predict(X_test)\n",
    "    test_accuracy = balanced_accuracy_score(predictions, y_test)\n",
    "    display(\"Test set accuracy: \" + str(round(test_accuracy*100, 2)))\n",
    "\n",
    "    cm = confusion_matrix(y_test, predictions, labels=clf.classes_)\n",
    "    disp = ConfusionMatrixDisplay(confusion_matrix=cm,\n",
    "                                  display_labels=clf.classes_)\n",
    "    disp.plot()\n",
    "\n",
    "    fig = disp.ax_.get_figure()\n",
    "    fig.set_figwidth(2)\n",
    "    fig.set_figheight(2)\n",
    "\n",
    "    plt.title(\"Test set results\")\n",
    "    plt.show()"
   ]
  },
  {
   "cell_type": "code",
   "execution_count": 250,
   "id": "16aedbfd-bc7c-4e74-9930-eff1075f9f16",
   "metadata": {},
   "outputs": [
    {
     "data": {
      "text/plain": [
       "'Cross Validation scores'"
      ]
     },
     "metadata": {},
     "output_type": "display_data"
    },
    {
     "data": {
      "text/plain": [
       "'Accuracy cv=1: 39.12'"
      ]
     },
     "metadata": {},
     "output_type": "display_data"
    },
    {
     "data": {
      "text/plain": [
       "'Accuracy cv=2: 39.01'"
      ]
     },
     "metadata": {},
     "output_type": "display_data"
    },
    {
     "data": {
      "text/plain": [
       "'Accuracy cv=3: 37.73'"
      ]
     },
     "metadata": {},
     "output_type": "display_data"
    },
    {
     "data": {
      "text/plain": [
       "'Accuracy cv=4: 38.6'"
      ]
     },
     "metadata": {},
     "output_type": "display_data"
    },
    {
     "data": {
      "text/plain": [
       "'Accuracy cv=5: 37.73'"
      ]
     },
     "metadata": {},
     "output_type": "display_data"
    },
    {
     "data": {
      "text/plain": [
       "'Accuracy MEAN: 38.0'"
      ]
     },
     "metadata": {},
     "output_type": "display_data"
    },
    {
     "data": {
      "text/plain": [
       "'Test set accuracy: 41.51'"
      ]
     },
     "metadata": {},
     "output_type": "display_data"
    },
    {
     "data": {
      "text/plain": [
       "array([[1351,  831,  610],\n",
       "       [ 240,  209,  170],\n",
       "       [ 147,  163,  228]])"
      ]
     },
     "metadata": {},
     "output_type": "display_data"
    },
    {
     "data": {
      "text/plain": [
       "'Test set accuracy: 41.51'"
      ]
     },
     "metadata": {},
     "output_type": "display_data"
    },
    {
     "data": {
      "image/png": "[encoded data removed]",
      "text/plain": [
       "<Figure size 200x200 with 2 Axes>"
      ]
     },
     "metadata": {},
     "output_type": "display_data"
    }
   ],
   "source": [
    "# get model\n",
    "clf_empty, clf_fitted = model_randomforest(X_train, y_train)\n",
    "\n",
    "# Cross Validation\n",
    "eval_cv_classification(clf_empty, X_train, y_train)\n",
    "\n",
    "# validation set\n",
    "eval_pred_classification(clf_fitted, X_test, y_test)"
   ]
  },
  {
   "cell_type": "markdown",
   "id": "4661e043-f596-4c4d-98a2-93ada2f6eaf5",
   "metadata": {},
   "source": [
    "## Benchmarking\n",
    "\n",
    "Benchmarking function"
   ]
  },
  {
   "cell_type": "code",
   "execution_count": 251,
   "id": "86617383-6f18-4a97-b655-af43fa211b47",
   "metadata": {},
   "outputs": [],
   "source": [
    "from sklearn.utils.extmath import density\n",
    "from sklearn import metrics\n",
    "\n",
    "def benchmark(clf, custom_name=False):\n",
    "    \n",
    "    score_cv = eval_cv_classification(clf, X_train, y_train)\n",
    "    \n",
    "    print(\"_\" * 80)\n",
    "    print(\"Training: \")\n",
    "    print(clf)\n",
    "    t0 = time.time()\n",
    "    clf.fit(X_train, y_train)\n",
    "    train_time = time.time() - t0\n",
    "    print(f\"train time: {train_time:.3}s\")\n",
    "\n",
    "    t0 = time.time()\n",
    "    pred = clf.predict(X_test)\n",
    "    test_time = time.time() - t0\n",
    "    print(f\"test time:  {test_time:.3}s\")\n",
    "\n",
    "    score = metrics.accuracy_score(y_test, pred)\n",
    "    print(f\"accuracy:   {score:.3}\")\n",
    "\n",
    "    if hasattr(clf, \"coef_\"):\n",
    "        print(f\"dimensionality: {clf.coef_.shape[1]}\")\n",
    "        print(f\"density: {density(clf.coef_)}\")\n",
    "        print()\n",
    "\n",
    "    print()\n",
    "    if custom_name:\n",
    "        clf_descr = str(custom_name)\n",
    "    else:\n",
    "        clf_descr = clf.__class__.__name__\n",
    "        \n",
    "    return clf_descr, score, train_time, test_time, score_cv"
   ]
  },
  {
   "cell_type": "code",
   "execution_count": 252,
   "id": "bedfd5a5-a63a-4c89-ad65-94e1c1860ed2",
   "metadata": {},
   "outputs": [
    {
     "name": "stdout",
     "output_type": "stream",
     "text": [
      "================================================================================\n",
      "Logistic Regression\n"
     ]
    },
    {
     "data": {
      "text/plain": [
       "'Cross Validation scores'"
      ]
     },
     "metadata": {},
     "output_type": "display_data"
    },
    {
     "data": {
      "text/plain": [
       "'Accuracy cv=1: 38.9'"
      ]
     },
     "metadata": {},
     "output_type": "display_data"
    },
    {
     "data": {
      "text/plain": [
       "'Accuracy cv=2: 40.31'"
      ]
     },
     "metadata": {},
     "output_type": "display_data"
    },
    {
     "data": {
      "text/plain": [
       "'Accuracy cv=3: 39.67'"
      ]
     },
     "metadata": {},
     "output_type": "display_data"
    },
    {
     "data": {
      "text/plain": [
       "'Accuracy cv=4: 40.11'"
      ]
     },
     "metadata": {},
     "output_type": "display_data"
    },
    {
     "data": {
      "text/plain": [
       "'Accuracy cv=5: 38.68'"
      ]
     },
     "metadata": {},
     "output_type": "display_data"
    },
    {
     "data": {
      "text/plain": [
       "'Accuracy MEAN: 40.0'"
      ]
     },
     "metadata": {},
     "output_type": "display_data"
    },
    {
     "name": "stdout",
     "output_type": "stream",
     "text": [
      "________________________________________________________________________________\n",
      "Training: \n",
      "LogisticRegression(C=5, max_iter=1000)\n",
      "train time: 2.33s\n",
      "test time:  0.000593s\n",
      "accuracy:   0.427\n",
      "dimensionality: 4244\n",
      "density: 1.0\n",
      "\n",
      "\n",
      "================================================================================\n",
      "kNN\n"
     ]
    },
    {
     "name": "stderr",
     "output_type": "stream",
     "text": [
      "/Users/agustin/miniforge3/envs/dssc-deep/lib/python3.10/site-packages/sklearn/neighbors/_classification.py:228: FutureWarning: Unlike other reduction functions (e.g. `skew`, `kurtosis`), the default behavior of `mode` typically preserves the axis it acts along. In SciPy 1.11.0, this behavior will change: the default value of `keepdims` will become False, the `axis` over which the statistic is taken will be eliminated, and the value None will no longer be accepted. Set `keepdims` to True or False to avoid this warning.\n",
      "  mode, _ = stats.mode(_y[neigh_ind, k], axis=1)\n",
      "/Users/agustin/miniforge3/envs/dssc-deep/lib/python3.10/site-packages/sklearn/neighbors/_classification.py:228: FutureWarning: Unlike other reduction functions (e.g. `skew`, `kurtosis`), the default behavior of `mode` typically preserves the axis it acts along. In SciPy 1.11.0, this behavior will change: the default value of `keepdims` will become False, the `axis` over which the statistic is taken will be eliminated, and the value None will no longer be accepted. Set `keepdims` to True or False to avoid this warning.\n",
      "  mode, _ = stats.mode(_y[neigh_ind, k], axis=1)\n",
      "/Users/agustin/miniforge3/envs/dssc-deep/lib/python3.10/site-packages/sklearn/neighbors/_classification.py:228: FutureWarning: Unlike other reduction functions (e.g. `skew`, `kurtosis`), the default behavior of `mode` typically preserves the axis it acts along. In SciPy 1.11.0, this behavior will change: the default value of `keepdims` will become False, the `axis` over which the statistic is taken will be eliminated, and the value None will no longer be accepted. Set `keepdims` to True or False to avoid this warning.\n",
      "  mode, _ = stats.mode(_y[neigh_ind, k], axis=1)\n",
      "/Users/agustin/miniforge3/envs/dssc-deep/lib/python3.10/site-packages/sklearn/neighbors/_classification.py:228: FutureWarning: Unlike other reduction functions (e.g. `skew`, `kurtosis`), the default behavior of `mode` typically preserves the axis it acts along. In SciPy 1.11.0, this behavior will change: the default value of `keepdims` will become False, the `axis` over which the statistic is taken will be eliminated, and the value None will no longer be accepted. Set `keepdims` to True or False to avoid this warning.\n",
      "  mode, _ = stats.mode(_y[neigh_ind, k], axis=1)\n",
      "/Users/agustin/miniforge3/envs/dssc-deep/lib/python3.10/site-packages/sklearn/neighbors/_classification.py:228: FutureWarning: Unlike other reduction functions (e.g. `skew`, `kurtosis`), the default behavior of `mode` typically preserves the axis it acts along. In SciPy 1.11.0, this behavior will change: the default value of `keepdims` will become False, the `axis` over which the statistic is taken will be eliminated, and the value None will no longer be accepted. Set `keepdims` to True or False to avoid this warning.\n",
      "  mode, _ = stats.mode(_y[neigh_ind, k], axis=1)\n"
     ]
    },
    {
     "data": {
      "text/plain": [
       "'Cross Validation scores'"
      ]
     },
     "metadata": {},
     "output_type": "display_data"
    },
    {
     "data": {
      "text/plain": [
       "'Accuracy cv=1: 33.47'"
      ]
     },
     "metadata": {},
     "output_type": "display_data"
    },
    {
     "data": {
      "text/plain": [
       "'Accuracy cv=2: 33.92'"
      ]
     },
     "metadata": {},
     "output_type": "display_data"
    },
    {
     "data": {
      "text/plain": [
       "'Accuracy cv=3: 33.67'"
      ]
     },
     "metadata": {},
     "output_type": "display_data"
    },
    {
     "data": {
      "text/plain": [
       "'Accuracy cv=4: 33.3'"
      ]
     },
     "metadata": {},
     "output_type": "display_data"
    },
    {
     "data": {
      "text/plain": [
       "'Accuracy cv=5: 33.69'"
      ]
     },
     "metadata": {},
     "output_type": "display_data"
    },
    {
     "data": {
      "text/plain": [
       "'Accuracy MEAN: 34.0'"
      ]
     },
     "metadata": {},
     "output_type": "display_data"
    },
    {
     "name": "stdout",
     "output_type": "stream",
     "text": [
      "________________________________________________________________________________\n",
      "Training: \n",
      "KNeighborsClassifier(n_neighbors=100)\n",
      "train time: 0.00219s\n"
     ]
    },
    {
     "name": "stderr",
     "output_type": "stream",
     "text": [
      "/Users/agustin/miniforge3/envs/dssc-deep/lib/python3.10/site-packages/sklearn/neighbors/_classification.py:228: FutureWarning: Unlike other reduction functions (e.g. `skew`, `kurtosis`), the default behavior of `mode` typically preserves the axis it acts along. In SciPy 1.11.0, this behavior will change: the default value of `keepdims` will become False, the `axis` over which the statistic is taken will be eliminated, and the value None will no longer be accepted. Set `keepdims` to True or False to avoid this warning.\n",
      "  mode, _ = stats.mode(_y[neigh_ind, k], axis=1)\n"
     ]
    },
    {
     "name": "stdout",
     "output_type": "stream",
     "text": [
      "test time:  1.58s\n",
      "accuracy:   0.438\n",
      "\n",
      "================================================================================\n",
      "Random Forest\n"
     ]
    },
    {
     "data": {
      "text/plain": [
       "'Cross Validation scores'"
      ]
     },
     "metadata": {},
     "output_type": "display_data"
    },
    {
     "data": {
      "text/plain": [
       "'Accuracy cv=1: 39.26'"
      ]
     },
     "metadata": {},
     "output_type": "display_data"
    },
    {
     "data": {
      "text/plain": [
       "'Accuracy cv=2: 38.64'"
      ]
     },
     "metadata": {},
     "output_type": "display_data"
    },
    {
     "data": {
      "text/plain": [
       "'Accuracy cv=3: 37.76'"
      ]
     },
     "metadata": {},
     "output_type": "display_data"
    },
    {
     "data": {
      "text/plain": [
       "'Accuracy cv=4: 38.24'"
      ]
     },
     "metadata": {},
     "output_type": "display_data"
    },
    {
     "data": {
      "text/plain": [
       "'Accuracy cv=5: 38.23'"
      ]
     },
     "metadata": {},
     "output_type": "display_data"
    },
    {
     "data": {
      "text/plain": [
       "'Accuracy MEAN: 38.0'"
      ]
     },
     "metadata": {},
     "output_type": "display_data"
    },
    {
     "name": "stdout",
     "output_type": "stream",
     "text": [
      "________________________________________________________________________________\n",
      "Training: \n",
      "RandomForestClassifier()\n",
      "train time: 10.8s\n",
      "test time:  0.496s\n",
      "accuracy:   0.45\n",
      "\n",
      "================================================================================\n",
      "Linear SVC\n"
     ]
    },
    {
     "data": {
      "text/plain": [
       "'Cross Validation scores'"
      ]
     },
     "metadata": {},
     "output_type": "display_data"
    },
    {
     "data": {
      "text/plain": [
       "'Accuracy cv=1: 39.25'"
      ]
     },
     "metadata": {},
     "output_type": "display_data"
    },
    {
     "data": {
      "text/plain": [
       "'Accuracy cv=2: 39.97'"
      ]
     },
     "metadata": {},
     "output_type": "display_data"
    },
    {
     "data": {
      "text/plain": [
       "'Accuracy cv=3: 38.52'"
      ]
     },
     "metadata": {},
     "output_type": "display_data"
    },
    {
     "data": {
      "text/plain": [
       "'Accuracy cv=4: 39.6'"
      ]
     },
     "metadata": {},
     "output_type": "display_data"
    },
    {
     "data": {
      "text/plain": [
       "'Accuracy cv=5: 37.88'"
      ]
     },
     "metadata": {},
     "output_type": "display_data"
    },
    {
     "data": {
      "text/plain": [
       "'Accuracy MEAN: 39.0'"
      ]
     },
     "metadata": {},
     "output_type": "display_data"
    },
    {
     "name": "stdout",
     "output_type": "stream",
     "text": [
      "________________________________________________________________________________\n",
      "Training: \n",
      "LinearSVC(C=0.1, dual=False)\n",
      "train time: 0.0935s\n",
      "test time:  0.000433s\n",
      "accuracy:   0.448\n",
      "dimensionality: 4244\n",
      "density: 1.0\n",
      "\n",
      "\n",
      "================================================================================\n",
      "Complement naive Bayes\n"
     ]
    },
    {
     "data": {
      "text/plain": [
       "'Cross Validation scores'"
      ]
     },
     "metadata": {},
     "output_type": "display_data"
    },
    {
     "data": {
      "text/plain": [
       "'Accuracy cv=1: 38.95'"
      ]
     },
     "metadata": {},
     "output_type": "display_data"
    },
    {
     "data": {
      "text/plain": [
       "'Accuracy cv=2: 40.9'"
      ]
     },
     "metadata": {},
     "output_type": "display_data"
    },
    {
     "data": {
      "text/plain": [
       "'Accuracy cv=3: 42.17'"
      ]
     },
     "metadata": {},
     "output_type": "display_data"
    },
    {
     "data": {
      "text/plain": [
       "'Accuracy cv=4: 41.23'"
      ]
     },
     "metadata": {},
     "output_type": "display_data"
    },
    {
     "data": {
      "text/plain": [
       "'Accuracy cv=5: 39.9'"
      ]
     },
     "metadata": {},
     "output_type": "display_data"
    },
    {
     "data": {
      "text/plain": [
       "'Accuracy MEAN: 41.0'"
      ]
     },
     "metadata": {},
     "output_type": "display_data"
    },
    {
     "name": "stdout",
     "output_type": "stream",
     "text": [
      "________________________________________________________________________________\n",
      "Training: \n",
      "ComplementNB(alpha=0.1)\n",
      "train time: 0.0043s\n",
      "test time:  0.000397s\n",
      "accuracy:   0.423\n",
      "dimensionality: 4244\n",
      "density: 1.0\n",
      "\n",
      "\n"
     ]
    },
    {
     "name": "stderr",
     "output_type": "stream",
     "text": [
      "/Users/agustin/miniforge3/envs/dssc-deep/lib/python3.10/site-packages/sklearn/utils/deprecation.py:103: FutureWarning: Attribute `coef_` was deprecated in version 0.24 and will be removed in 1.1 (renaming of 0.26).\n",
      "  warnings.warn(msg, category=FutureWarning)\n"
     ]
    }
   ],
   "source": [
    "from sklearn.linear_model import LogisticRegression\n",
    "from sklearn.svm import LinearSVC\n",
    "from sklearn.linear_model import SGDClassifier\n",
    "from sklearn.naive_bayes import ComplementNB\n",
    "from sklearn.neighbors import KNeighborsClassifier\n",
    "from sklearn.ensemble import RandomForestClassifier\n",
    "\n",
    "results = []\n",
    "for clf, name in (\n",
    "    (LogisticRegression(C=5, max_iter=1000), \"Logistic Regression\"),\n",
    "    (KNeighborsClassifier(n_neighbors=100), \"kNN\"),\n",
    "    (RandomForestClassifier(), \"Random Forest\"),\n",
    "    # L2 penalty Linear SVC\n",
    "    (LinearSVC(C=0.1, dual=False, max_iter=1000), \"Linear SVC\"),\n",
    "    # Sparse naive Bayes classifier\n",
    "    (ComplementNB(alpha=0.1), \"Complement naive Bayes\"),\n",
    "):\n",
    "    print(\"=\" * 80)\n",
    "    print(name)\n",
    "    results.append(benchmark(clf, name))"
   ]
  },
  {
   "cell_type": "code",
   "execution_count": 253,
   "id": "514c53dc-d65e-4f81-9106-650541a90b2b",
   "metadata": {},
   "outputs": [
    {
     "data": {
      "image/png": "[encoded data removed]",
      "text/plain": [
       "<Figure size 500x300 with 1 Axes>"
      ]
     },
     "metadata": {},
     "output_type": "display_data"
    },
    {
     "data": {
      "image/png": "[encoded data removed]",
      "text/plain": [
       "<Figure size 640x320 with 1 Axes>"
      ]
     },
     "metadata": {},
     "output_type": "display_data"
    },
    {
     "data": {
      "image/png": "[encoded data removed]",
      "text/plain": [
       "<Figure size 640x320 with 1 Axes>"
      ]
     },
     "metadata": {},
     "output_type": "display_data"
    }
   ],
   "source": [
    "indices = np.arange(len(results))\n",
    "\n",
    "results = [[x[i] for x in results] for i in range(5)]\n",
    "\n",
    "clf_names, score, training_time, test_time, score_cv = results\n",
    "training_time = np.array(training_time)\n",
    "test_time = np.array(test_time)\n",
    "\n",
    "# accuracy cv\n",
    "\n",
    "fig = plt.figure(figsize = (5, 3))\n",
    " \n",
    "# creating the bar plot\n",
    "ax = plt.bar(clf_names, score_cv, color ='green', width = 0.4)\n",
    "\n",
    "plt.xticks(ha='right', rotation=20, fontsize=8)\n",
    "plt.ylim(0, 1)\n",
    "plt.xlabel(\"Models\")\n",
    "plt.ylabel(\"accuracy\")\n",
    "plt.title(\"CV accuracy results\")\n",
    "plt.show()\n",
    "    \n",
    "# accuracy validation\n",
    "fig, ax1 = plt.subplots(figsize=(8, 4), dpi=80)\n",
    "ax1.scatter(score, training_time)\n",
    "ax1.set(\n",
    "    title=\"Score-training time trade-off\",\n",
    "    yscale=\"log\",\n",
    "    xlabel=\"test accuracy\",\n",
    "    ylabel=\"training time (s)\",\n",
    ")\n",
    "fig, ax2 = plt.subplots(figsize=(8, 4), dpi=80)\n",
    "ax2.scatter(score, test_time)\n",
    "ax2.set(\n",
    "    title=\"Score-test time trade-off\",\n",
    "    yscale=\"log\",\n",
    "    xlabel=\"test accuracy\",\n",
    "    ylabel=\"test time (s)\",\n",
    ")\n",
    "\n",
    "for i, txt in enumerate(clf_names):\n",
    "    ax1.annotate(txt, (score[i], training_time[i]))\n",
    "    ax2.annotate(txt, (score[i], test_time[i]))"
   ]
  },
  {
   "cell_type": "code",
   "execution_count": 254,
   "id": "b116682b-4f8c-4fc8-9a3b-0dd36d2e9e3a",
   "metadata": {},
   "outputs": [
    {
     "data": {
      "text/plain": [
       "'Test set accuracy: 44.01'"
      ]
     },
     "metadata": {},
     "output_type": "display_data"
    },
    {
     "data": {
      "image/png": "[encoded data removed]",
      "text/plain": [
       "<Figure size 200x200 with 2 Axes>"
      ]
     },
     "metadata": {},
     "output_type": "display_data"
    }
   ],
   "source": [
    "import numpy as np\n",
    "from sklearn.dummy import DummyClassifier\n",
    "dummy_clf = DummyClassifier(strategy=\"most_frequent\")\n",
    "dummy_clf.fit(X_train, y_train)\n",
    "\n",
    "# results on test set\n",
    "predictions = dummy_clf.predict(X_test)\n",
    "test_accuracy = accuracy_score(predictions, y_test)\n",
    "display(\"Test set accuracy: \" + str(round(test_accuracy*100, 2)))\n",
    "\n",
    "cm = confusion_matrix(y_test, predictions, labels=dummy_clf.classes_)\n",
    "disp = ConfusionMatrixDisplay(confusion_matrix=cm,\n",
    "                              display_labels=dummy_clf.classes_)\n",
    "disp.plot()\n",
    "\n",
    "fig = disp.ax_.get_figure()\n",
    "fig.set_figwidth(2)\n",
    "fig.set_figheight(2)\n",
    "\n",
    "plt.title(\"Test set results\")\n",
    "plt.show()"
   ]
  },
  {
   "cell_type": "markdown",
   "id": "53cf6827-0fa7-40fb-b7d1-045ee6e74a02",
   "metadata": {},
   "source": [
    "## Regression"
   ]
  },
  {
   "cell_type": "code",
   "execution_count": 255,
   "id": "4b92762f-7f9d-41b4-841a-8506c63a579e",
   "metadata": {},
   "outputs": [],
   "source": [
    "y_train = y_train_reg\n",
    "y_test = y_test_reg"
   ]
  },
  {
   "cell_type": "code",
   "execution_count": 256,
   "id": "63214e9d-5f43-428f-8b44-ce30b841073a",
   "metadata": {},
   "outputs": [
    {
     "data": {
      "text/plain": [
       "'Cross Validation scores on popularity'"
      ]
     },
     "metadata": {},
     "output_type": "display_data"
    },
    {
     "data": {
      "text/plain": [
       "'R^2 cv=1: -3.49'"
      ]
     },
     "metadata": {},
     "output_type": "display_data"
    },
    {
     "data": {
      "text/plain": [
       "'R^2 cv=2: -341.96'"
      ]
     },
     "metadata": {},
     "output_type": "display_data"
    },
    {
     "data": {
      "text/plain": [
       "'R^2 cv=3: -13.23'"
      ]
     },
     "metadata": {},
     "output_type": "display_data"
    },
    {
     "data": {
      "text/plain": [
       "'R^2 cv=4: -1031.56'"
      ]
     },
     "metadata": {},
     "output_type": "display_data"
    },
    {
     "data": {
      "text/plain": [
       "'R^2 cv=5: -300.41'"
      ]
     },
     "metadata": {},
     "output_type": "display_data"
    },
    {
     "data": {
      "text/plain": [
       "'R^2 MEAN: -338.0'"
      ]
     },
     "metadata": {},
     "output_type": "display_data"
    }
   ],
   "source": [
    "from sklearn import tree\n",
    "clf = tree.DecisionTreeRegressor()\n",
    "clf = clf.fit(X_train, y_train)\n",
    "\n",
    "# plot CV results\n",
    "scores = cross_val_score(clf, X_train, y_train, cv=5, scoring='r2')\n",
    "display(\"Cross Validation scores on popularity\")\n",
    "i=1\n",
    "for a in scores:\n",
    "    display(\"R^2 cv=\" + str(i) + \": \" + str(round(a*100, 2)))\n",
    "    i = i+1\n",
    "\n",
    "display(\"R^2 MEAN: \"+str(round(scores.mean(),2)*100))"
   ]
  },
  {
   "cell_type": "code",
   "execution_count": 257,
   "id": "ddc1f62c-8b99-4d39-bc6a-f4d217917154",
   "metadata": {},
   "outputs": [
    {
     "data": {
      "text/plain": [
       "-0.0004378813628529432"
      ]
     },
     "metadata": {},
     "output_type": "display_data"
    }
   ],
   "source": [
    "from sklearn.dummy import DummyRegressor\n",
    "from sklearn.svm import SVC\n",
    "#clf = SVC(kernel='linear', C=1).fit(X_train, y_train)\n",
    "#display(clf.score(X_test, y_test))\n",
    "\n",
    "clf = DummyRegressor(strategy=\"mean\")\n",
    "clf.fit(X_train, y_train)\n",
    "\n",
    "display(clf.score(X_test, y_test))"
   ]
  },
  {
   "cell_type": "code",
   "execution_count": null,
   "id": "c1386507-2d47-42ca-b4d5-90475395d641",
   "metadata": {},
   "outputs": [],
   "source": []
  }
 ],
 "metadata": {
  "kernelspec": {
   "display_name": "Python 3 (ipykernel)",
   "language": "python",
   "name": "python3"
  },
  "language_info": {
   "codemirror_mode": {
    "name": "ipython",
    "version": 3
   },
   "file_extension": ".py",
   "mimetype": "text/x-python",
   "name": "python",
   "nbconvert_exporter": "python",
   "pygments_lexer": "ipython3",
   "version": "3.10.8"
  }
 },
 "nbformat": 4,
 "nbformat_minor": 5
}
