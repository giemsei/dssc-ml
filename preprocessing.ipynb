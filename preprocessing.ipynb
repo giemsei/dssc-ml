{
 "cells": [
  {
   "cell_type": "markdown",
   "id": "1ce8bf34-5077-4b39-ae81-afd6db3d3bbf",
   "metadata": {},
   "source": [
    "# Twitter"
   ]
  },
  {
   "cell_type": "markdown",
   "id": "11b7067e-7426-4923-b120-a5cc47e2b328",
   "metadata": {},
   "source": [
    "### Pre-processing"
   ]
  },
  {
   "cell_type": "markdown",
   "id": "13c52f4a-8fab-45ad-86b8-45a7f1f0e87c",
   "metadata": {},
   "source": [
    "TODO\n",
    "- none"
   ]
  },
  {
   "cell_type": "markdown",
   "id": "ba7d96a7-1686-4c83-b806-cfe85b8f9d2a",
   "metadata": {},
   "source": [
    "Find the most recent dataset and load it"
   ]
  },
  {
   "cell_type": "code",
   "execution_count": 1,
   "id": "55b44b7c-5c61-4219-ae2b-2784dba2e761",
   "metadata": {},
   "outputs": [
    {
     "name": "stdout",
     "output_type": "stream",
     "text": [
      "dataset_17:19:41_22-12-2022.csv\n"
     ]
    },
    {
     "data": {
      "text/html": [
       "<div>\n",
       "<style scoped>\n",
       "    .dataframe tbody tr th:only-of-type {\n",
       "        vertical-align: middle;\n",
       "    }\n",
       "\n",
       "    .dataframe tbody tr th {\n",
       "        vertical-align: top;\n",
       "    }\n",
       "\n",
       "    .dataframe thead th {\n",
       "        text-align: right;\n",
       "    }\n",
       "</style>\n",
       "<table border=\"1\" class=\"dataframe\">\n",
       "  <thead>\n",
       "    <tr style=\"text-align: right;\">\n",
       "      <th></th>\n",
       "      <th>Unnamed: 0</th>\n",
       "      <th>X</th>\n",
       "      <th>y</th>\n",
       "    </tr>\n",
       "  </thead>\n",
       "  <tbody>\n",
       "    <tr>\n",
       "      <th>0</th>\n",
       "      <td>0</td>\n",
       "      <td>Claudia makes dishonesty her trademark. https:...</td>\n",
       "      <td>1</td>\n",
       "    </tr>\n",
       "    <tr>\n",
       "      <th>1</th>\n",
       "      <td>1</td>\n",
       "      <td>@autumnbueno @alexbruesewitz @PapiTrumpo THAT'...</td>\n",
       "      <td>1</td>\n",
       "    </tr>\n",
       "    <tr>\n",
       "      <th>2</th>\n",
       "      <td>2</td>\n",
       "      <td>I used to have a nice amount in my IRA after 4...</td>\n",
       "      <td>1</td>\n",
       "    </tr>\n",
       "    <tr>\n",
       "      <th>3</th>\n",
       "      <td>3</td>\n",
       "      <td>@CryptoNinjaco @Starinne @DC_Draino @KariLake ...</td>\n",
       "      <td>1</td>\n",
       "    </tr>\n",
       "    <tr>\n",
       "      <th>4</th>\n",
       "      <td>4</td>\n",
       "      <td>https://t.co/ITCjqOVvle   EXCLUSIVE: National ...</td>\n",
       "      <td>1</td>\n",
       "    </tr>\n",
       "    <tr>\n",
       "      <th>...</th>\n",
       "      <td>...</td>\n",
       "      <td>...</td>\n",
       "      <td>...</td>\n",
       "    </tr>\n",
       "    <tr>\n",
       "      <th>2995</th>\n",
       "      <td>995</td>\n",
       "      <td>Have a scary right and get connect your really...</td>\n",
       "      <td>2</td>\n",
       "    </tr>\n",
       "    <tr>\n",
       "      <th>2996</th>\n",
       "      <td>996</td>\n",
       "      <td>A good name is earlier  y p x #推特买粉  IE R I Ll...</td>\n",
       "      <td>2</td>\n",
       "    </tr>\n",
       "    <tr>\n",
       "      <th>2997</th>\n",
       "      <td>997</td>\n",
       "      <td>have a good sleep mark&amp;lt;3 https://t.co/ySxW9...</td>\n",
       "      <td>2</td>\n",
       "    </tr>\n",
       "    <tr>\n",
       "      <th>2998</th>\n",
       "      <td>998</td>\n",
       "      <td>RT @anumeet_insan: @ThathSingh777 @Gurmeetramr...</td>\n",
       "      <td>2</td>\n",
       "    </tr>\n",
       "    <tr>\n",
       "      <th>2999</th>\n",
       "      <td>999</td>\n",
       "      <td>RT @Justice78602373: The real value of setting...</td>\n",
       "      <td>2</td>\n",
       "    </tr>\n",
       "  </tbody>\n",
       "</table>\n",
       "<p>3000 rows × 3 columns</p>\n",
       "</div>"
      ],
      "text/plain": [
       "      Unnamed: 0                                                  X  y\n",
       "0              0  Claudia makes dishonesty her trademark. https:...  1\n",
       "1              1  @autumnbueno @alexbruesewitz @PapiTrumpo THAT'...  1\n",
       "2              2  I used to have a nice amount in my IRA after 4...  1\n",
       "3              3  @CryptoNinjaco @Starinne @DC_Draino @KariLake ...  1\n",
       "4              4  https://t.co/ITCjqOVvle   EXCLUSIVE: National ...  1\n",
       "...          ...                                                ... ..\n",
       "2995         995  Have a scary right and get connect your really...  2\n",
       "2996         996  A good name is earlier  y p x #推特买粉  IE R I Ll...  2\n",
       "2997         997  have a good sleep mark&lt;3 https://t.co/ySxW9...  2\n",
       "2998         998  RT @anumeet_insan: @ThathSingh777 @Gurmeetramr...  2\n",
       "2999         999  RT @Justice78602373: The real value of setting...  2\n",
       "\n",
       "[3000 rows x 3 columns]"
      ]
     },
     "metadata": {},
     "output_type": "display_data"
    }
   ],
   "source": [
    "import pandas as pd\n",
    "import numpy as np\n",
    "import os\n",
    "\n",
    "path = \"data\"\n",
    "\n",
    "# get the most recent dataset (ordered by the date in the name)\n",
    "filelist = os.listdir(\"data\") # get the list of files\n",
    "matching = [s for s in filelist if \"dataset\" in s] # filter only by files containing \"dataset\" in the name\n",
    "matching.sort(reverse=True)\n",
    "\n",
    "print(matching[0])\n",
    "\n",
    "# load the dataset\n",
    "df = pd.read_csv(path+\"/\"+matching[0])\n",
    "display(df)"
   ]
  },
  {
   "cell_type": "markdown",
   "id": "606bc3db-54b4-46fa-8829-cd02cdbf89a6",
   "metadata": {},
   "source": [
    "#### Clean\n",
    "Drop duplicates observations"
   ]
  },
  {
   "cell_type": "code",
   "execution_count": 2,
   "id": "60a0280a-5b6c-4bc2-b40b-5217307c50c8",
   "metadata": {},
   "outputs": [],
   "source": [
    "# drop duplicates observations, keeping the first occurrence\n",
    "df = df.drop_duplicates(subset='X', keep='first', inplace=False)"
   ]
  },
  {
   "cell_type": "markdown",
   "id": "48e0a3e2-e475-4b15-b302-34b7c72a1806",
   "metadata": {},
   "source": [
    "### Training Test Split"
   ]
  },
  {
   "cell_type": "code",
   "execution_count": 3,
   "id": "8f5d713d-ebe6-4f31-97b1-7a69490b0c67",
   "metadata": {},
   "outputs": [],
   "source": [
    "from sklearn.model_selection import train_test_split\n",
    "\n",
    "# split data\n",
    "X_train, X_test, y_train, y_test = train_test_split(\n",
    "    df.loc[:,'X'], df.loc[:,'y'], test_size=0.2, random_state=0, shuffle=True)"
   ]
  },
  {
   "cell_type": "markdown",
   "id": "820a2d18-4534-444d-8515-7795c6fcb74d",
   "metadata": {},
   "source": [
    "#### Stemming\n",
    "We can further improve our bag-of-words pre-processing using a normalization technique called stemming.\n",
    "The idea is to reduce each word to its stem, using the stemming algorithm (rule-based heuristic).\n",
    "For example a stemmer reduce words like \"climber\", \"climbed\" and \"climbing\" to \"climb\".\n",
    "\n",
    "The Natural Language Toolkit for Python (NLTK, http://www.nltk.org) implements the Snowball stemming algorithm.\n",
    "\n",
    "#### Bag-of-Words\n",
    "\n",
    "Is used the scikit-learn implementation of bag of word using the CountVectorizer class.\n",
    "It take an array of text as input and return a bag-of-words model.\n",
    "\n",
    "##### Less frequently words\n",
    "To lower the dimension we can clean the words that appears less frequently, is used the \"min_df\" to set the minimum number of documents that the word needs to appear in.\n",
    "\n"
   ]
  },
  {
   "cell_type": "code",
   "execution_count": 4,
   "id": "a2ecf08e-bff3-4cca-a97e-5acdcb726519",
   "metadata": {},
   "outputs": [
    {
     "data": {
      "text/plain": [
       "'\\n# Apply advance tokenization\\nfrom nltk.stem.snowball import SnowballStemmer\\nstemmer = SnowballStemmer(\"english\")\\n\\n# create a function to \\ndef tokenizer_snowballStemmer(text):\\n    return [stemmer.stem(word) for word in text.split()]\\n\\ntokenizer_snowballStemmer(\"The pink sweater fit her perfectly\") # test\\n\\nfrom sklearn.feature_extraction.text import CountVectorizer\\ncount = CountVectorizer(tokenizer = tokenizer_snowballStemmer, min_df=5) # use tokenizer function\\ncount.fit(X_train) # generate Bag-of-words\\n\\n#print(\"Vocabulary size using stemming: {}\". format(len(count.vocabulary_)))\\n#print(\"Vocabulary content:\\n {}\".format(count.vocabulary_))\\n\\n# apply transformation to the data\\nX_train = count.transform(X_train)\\nprint(\"X_train: {}\".format(X_train.shape))\\n\\nX_test = count.transform(X_test)\\nprint(\"X_test: {}\".format(X_test.shape))\\n'"
      ]
     },
     "execution_count": 4,
     "metadata": {},
     "output_type": "execute_result"
    }
   ],
   "source": [
    "'''\n",
    "# Apply advance tokenization\n",
    "from nltk.stem.snowball import SnowballStemmer\n",
    "stemmer = SnowballStemmer(\"english\")\n",
    "\n",
    "# create a function to \n",
    "def tokenizer_snowballStemmer(text):\n",
    "    return [stemmer.stem(word) for word in text.split()]\n",
    "\n",
    "tokenizer_snowballStemmer(\"The pink sweater fit her perfectly\") # test\n",
    "\n",
    "from sklearn.feature_extraction.text import CountVectorizer\n",
    "count = CountVectorizer(tokenizer = tokenizer_snowballStemmer, min_df=5) # use tokenizer function\n",
    "count.fit(X_train) # generate Bag-of-words\n",
    "\n",
    "#print(\"Vocabulary size using stemming: {}\". format(len(count.vocabulary_)))\n",
    "#print(\"Vocabulary content:\\n {}\".format(count.vocabulary_))\n",
    "\n",
    "# apply transformation to the data\n",
    "X_train = count.transform(X_train)\n",
    "print(\"X_train: {}\".format(X_train.shape))\n",
    "\n",
    "X_test = count.transform(X_test)\n",
    "print(\"X_test: {}\".format(X_test.shape))\n",
    "'''"
   ]
  },
  {
   "cell_type": "markdown",
   "id": "856b7c68-8baf-4360-9eef-880ca093a29f",
   "metadata": {},
   "source": [
    "Better use TF-IDF\n",
    "\n",
    "REFs \n",
    "https://scikit-learn.org/stable/auto_examples/text/plot_document_clustering.html#sphx-glr-auto-examples-text-plot-document-clustering-py"
   ]
  },
  {
   "cell_type": "code",
   "execution_count": 5,
   "id": "4f509602-77a2-4275-a6dc-5f196c58ad63",
   "metadata": {},
   "outputs": [
    {
     "name": "stderr",
     "output_type": "stream",
     "text": [
      "/Users/agustin/opt/anaconda3/lib/python3.9/site-packages/sklearn/feature_extraction/text.py:489: UserWarning: The parameter 'token_pattern' will not be used since 'tokenizer' is not None'\n",
      "  warnings.warn(\"The parameter 'token_pattern' will not be used\"\n",
      "/Users/agustin/opt/anaconda3/lib/python3.9/site-packages/sklearn/feature_extraction/text.py:388: UserWarning: Your stop_words may be inconsistent with your preprocessing. Tokenizing the stop words generated tokens ['abov', 'afterward', 'alon', 'alreadi', 'alway', 'ani', 'anoth', 'anyon', 'anyth', 'anywher', 'becam', 'becaus', 'becom', 'befor', 'besid', 'cri', 'describ', 'dure', 'els', 'elsewher', 'empti', 'everi', 'everyon', 'everyth', 'everywher', 'fifti', 'forti', 'henc', 'hereaft', 'herebi', 'howev', 'hundr', 'inde', 'mani', 'meanwhil', 'moreov', 'nobodi', 'noon', 'noth', 'nowher', 'onc', 'onli', 'otherwis', 'ourselv', 'perhap', 'pleas', 'sever', 'sinc', 'sincer', 'sixti', 'someon', 'someth', 'sometim', 'somewher', 'themselv', 'thenc', 'thereaft', 'therebi', 'therefor', 'togeth', 'twelv', 'twenti', 'veri', 'whatev', 'whenc', 'whenev', 'wherea', 'whereaft', 'wherebi', 'wherev', 'whi', 'yourselv'] not in stop_words.\n",
      "  warnings.warn('Your stop_words may be inconsistent with '\n"
     ]
    },
    {
     "name": "stdout",
     "output_type": "stream",
     "text": [
      "vectorization done in 0.803 s\n",
      "n_samples: 2332, n_features: 1067\n",
      "0.006\n",
      "X_test: (583, 1067)\n"
     ]
    },
    {
     "data": {
      "text/plain": [
       "[0, 1, 2]"
      ]
     },
     "metadata": {},
     "output_type": "display_data"
    }
   ],
   "source": [
    "# Apply advance tokenization\n",
    "from nltk.stem.snowball import SnowballStemmer\n",
    "stemmer = SnowballStemmer(\"english\")\n",
    "\n",
    "# create a function to \n",
    "def tokenizer_snowballStemmer(text):\n",
    "    return [stemmer.stem(word) for word in text.split()]\n",
    "\n",
    "from sklearn.feature_extraction.text import TfidfVectorizer\n",
    "from time import time\n",
    "\n",
    "vectorizer = TfidfVectorizer(\n",
    "    tokenizer = tokenizer_snowballStemmer,\n",
    "    max_df=0.5,\n",
    "    min_df=5,\n",
    "    stop_words=\"english\")\n",
    "\n",
    "t0 = time()\n",
    "vectorizer.fit(X_train)\n",
    "X_train_1 = vectorizer.transform(X_train)\n",
    "print(f\"vectorization done in {time() - t0:.3f} s\")\n",
    "\n",
    "print(f\"n_samples: {X_train_1.shape[0]}, n_features: {X_train_1.shape[1]}\")\n",
    "print(f\"{X_train_1.nnz / np.prod(X_train_1.shape):.3f}\")\n",
    "\n",
    "#print(\"Vocabulary size using stemming: {}\". format(len(count.vocabulary_)))\n",
    "#print(\"Vocabulary content:\\n {}\".format(vectorizer.vocabulary_))\n",
    "\n",
    "# apply transformation to the tesr\n",
    "X_test_1 = vectorizer.transform(X_test)\n",
    "print(\"X_test: {}\".format(X_test_1.shape))\n",
    "\n",
    "\n",
    "feature_names = np.array(vectorizer.get_feature_names())\n",
    "target_names = [0, 1 , 2]\n",
    "\n",
    "display(target_names)"
   ]
  },
  {
   "cell_type": "code",
   "execution_count": 6,
   "id": "08bf18b8-b44e-4200-aea1-d11de9352165",
   "metadata": {},
   "outputs": [],
   "source": [
    "# update the variables\n",
    "X_train = X_train_1\n",
    "X_test = X_test_1"
   ]
  },
  {
   "cell_type": "markdown",
   "id": "92423481-d043-48f4-84a6-cd80fc2b0a3e",
   "metadata": {},
   "source": [
    "### Modeling"
   ]
  },
  {
   "cell_type": "code",
   "execution_count": 7,
   "id": "5ceb3a93-c529-4896-a8ac-1a78dae10399",
   "metadata": {},
   "outputs": [],
   "source": [
    "from sklearn.ensemble import RandomForestClassifier\n",
    "\n",
    "# fit a Random Forest model\n",
    "clf_forest = RandomForestClassifier(n_estimators=100)"
   ]
  },
  {
   "cell_type": "markdown",
   "id": "4a568928-920a-42fa-a5f8-f7698ad480ff",
   "metadata": {},
   "source": [
    "Check the model performance using cross validation (on the training set) and show the accuracy results."
   ]
  },
  {
   "cell_type": "code",
   "execution_count": 8,
   "id": "b1cc297a-8f72-4ee4-aaf1-e2cd81bec709",
   "metadata": {},
   "outputs": [
    {
     "data": {
      "text/plain": [
       "'Cross Validation scores'"
      ]
     },
     "metadata": {},
     "output_type": "display_data"
    },
    {
     "data": {
      "text/plain": [
       "'Accuracy cv=1: 90.36'"
      ]
     },
     "metadata": {},
     "output_type": "display_data"
    },
    {
     "data": {
      "text/plain": [
       "'Accuracy cv=2: 89.72'"
      ]
     },
     "metadata": {},
     "output_type": "display_data"
    },
    {
     "data": {
      "text/plain": [
       "'Accuracy cv=3: 89.06'"
      ]
     },
     "metadata": {},
     "output_type": "display_data"
    },
    {
     "data": {
      "text/plain": [
       "'Accuracy cv=4: 89.27'"
      ]
     },
     "metadata": {},
     "output_type": "display_data"
    },
    {
     "data": {
      "text/plain": [
       "'Accuracy cv=5: 90.99'"
      ]
     },
     "metadata": {},
     "output_type": "display_data"
    },
    {
     "data": {
      "text/plain": [
       "'Accuracy MEAN: 90.0'"
      ]
     },
     "metadata": {},
     "output_type": "display_data"
    }
   ],
   "source": [
    "from sklearn.model_selection import cross_val_score\n",
    "from sklearn.metrics import accuracy_score\n",
    "\n",
    "# plot CV results\n",
    "scores = cross_val_score(clf_forest, X_train, y_train, cv=5, scoring='accuracy')\n",
    "display(\"Cross Validation scores\")\n",
    "i=1\n",
    "for a in scores:\n",
    "    display(\"Accuracy cv=\" + str(i) + \": \" + str(round(a*100, 2)))\n",
    "    i = i+1\n",
    "\n",
    "display(\"Accuracy MEAN: \"+str(round(scores.mean(),2)*100))"
   ]
  },
  {
   "cell_type": "code",
   "execution_count": 9,
   "id": "940b42da-2198-420a-87f2-3df9029b32e2",
   "metadata": {},
   "outputs": [
    {
     "data": {
      "text/plain": [
       "'Test set accuracy: 88.51'"
      ]
     },
     "metadata": {},
     "output_type": "display_data"
    },
    {
     "data": {
      "text/plain": [
       "array([[159,   0,   1],\n",
       "       [  1, 192,  21],\n",
       "       [ 21,  23, 165]])"
      ]
     },
     "metadata": {},
     "output_type": "display_data"
    }
   ],
   "source": [
    "import matplotlib.pyplot as plt\n",
    "from sklearn.metrics import confusion_matrix, ConfusionMatrixDisplay\n",
    "\n",
    "clf_forest = clf_forest.fit(X_train, y_train)\n",
    "\n",
    "# results on test set\n",
    "predictions = clf_forest.predict(X_test)\n",
    "test_accuracy = accuracy_score(predictions, y_test)\n",
    "display(\"Test set accuracy: \" + str(round(test_accuracy*100, 2)))\n",
    "\n",
    "display(confusion_matrix(predictions, y_test)) # display confusion matrix"
   ]
  },
  {
   "cell_type": "code",
   "execution_count": null,
   "id": "16aedbfd-bc7c-4e74-9930-eff1075f9f16",
   "metadata": {},
   "outputs": [],
   "source": []
  },
  {
   "cell_type": "markdown",
   "id": "1ba1ae09-ead5-49af-a84b-be5ff17c3ddc",
   "metadata": {},
   "source": [
    "### plot feature effect"
   ]
  },
  {
   "cell_type": "code",
   "execution_count": 10,
   "id": "57863f17-957f-4241-af3f-648654428c50",
   "metadata": {},
   "outputs": [
    {
     "name": "stdout",
     "output_type": "stream",
     "text": [
      "top 5 keywords per class:\n",
      "                  0                 1      2\n",
      "0         @undisput          @karilak     rt\n",
      "1              @fs1  @karilakewarroom   good\n",
      "2  @realskipbayless            inflat  littl\n",
      "3               fs1    @gregabbott_tx    big\n",
      "4              skip              lake    i'm\n"
     ]
    },
    {
     "data": {
      "image/png": "[encoded data removed]",
      "text/plain": [
       "<Figure size 720x576 with 1 Axes>"
      ]
     },
     "metadata": {
      "needs_background": "light"
     },
     "output_type": "display_data"
    }
   ],
   "source": [
    "from sklearn.linear_model import RidgeClassifier\n",
    "\n",
    "clf = RidgeClassifier(tol=1e-2, solver=\"sparse_cg\")\n",
    "clf.fit(X_train, y_train)\n",
    "\n",
    "def plot_feature_effects():\n",
    "    # learned coefficients weighted by frequency of appearance\n",
    "    average_feature_effects = clf.coef_ * np.asarray(X_train.mean(axis=0)).ravel()\n",
    "    \n",
    "\n",
    "    for i, label in enumerate(target_names):\n",
    "        top5 = np.argsort(average_feature_effects[i])[-5:][::-1]\n",
    "        \n",
    "        if i == 0:\n",
    "            top = pd.DataFrame(feature_names[top5], columns=[label])\n",
    "            top_indices = top5\n",
    "        else:\n",
    "            top[label] = feature_names[top5]\n",
    "            top_indices = np.concatenate((top_indices, top5), axis=None)\n",
    "    top_indices = np.unique(top_indices)\n",
    "    predictive_words = feature_names[top_indices]\n",
    "\n",
    "    # plot feature effects\n",
    "    bar_size = 0.25\n",
    "    padding = 0.75\n",
    "    y_locs = np.arange(len(top_indices)) * (4 * bar_size + padding)\n",
    "\n",
    "    fig, ax = plt.subplots(figsize=(10, 8))\n",
    "    for i, label in enumerate(target_names):\n",
    "        ax.barh(\n",
    "            y_locs + (i - 2) * bar_size,\n",
    "            average_feature_effects[i, top_indices],\n",
    "            height=bar_size,\n",
    "            label=label,\n",
    "        )\n",
    "    ax.set(\n",
    "        yticks=y_locs,\n",
    "        yticklabels=predictive_words,\n",
    "        ylim=[\n",
    "            0 - 4 * bar_size,\n",
    "            len(top_indices) * (4 * bar_size + padding) - 4 * bar_size,\n",
    "        ],\n",
    "    )\n",
    "    ax.legend(loc=\"lower right\")\n",
    "\n",
    "    print(\"top 5 keywords per class:\")\n",
    "    print(top)\n",
    "\n",
    "    return ax\n",
    "\n",
    "\n",
    "_ = plot_feature_effects().set_title(\"Average feature effect on the original data\")"
   ]
  },
  {
   "cell_type": "markdown",
   "id": "1c44c40f-9190-470c-abff-40208317167e",
   "metadata": {},
   "source": [
    "For random forest"
   ]
  },
  {
   "cell_type": "code",
   "execution_count": 53,
   "id": "e1a84367-b0a4-4de8-a00a-6780454426e4",
   "metadata": {},
   "outputs": [
    {
     "name": "stdout",
     "output_type": "stream",
     "text": [
      "Elapsed time to compute the importances: 0.019 seconds\n"
     ]
    },
    {
     "data": {
      "text/plain": [
       "@undisput           0.130474\n",
       "@realskipbayless    0.068763\n",
       "@karilak            0.051271\n",
       "@fs1                0.045820\n",
       "fs1                 0.027365\n",
       "@karilakewarroom    0.022976\n",
       "inflat              0.019611\n",
       "skip                0.015102\n",
       "@bloggingtheboy     0.014085\n",
       "dtype: float64"
      ]
     },
     "metadata": {},
     "output_type": "display_data"
    },
    {
     "data": {
      "image/png": "[encoded data removed]",
      "text/plain": [
       "<Figure size 432x288 with 1 Axes>"
      ]
     },
     "metadata": {
      "needs_background": "light"
     },
     "output_type": "display_data"
    }
   ],
   "source": [
    "import time\n",
    "\n",
    "start_time = time.time()\n",
    "importances = clf_forest.feature_importances_\n",
    "std = np.std([tree.feature_importances_ for tree in clf_forest.estimators_], axis=0)\n",
    "elapsed_time = time.time() - start_time\n",
    "\n",
    "print(f\"Elapsed time to compute the importances: {elapsed_time:.3f} seconds\")\n",
    "\n",
    "forest_importances = pd.Series(importances, index=feature_names)\n",
    "\n",
    "forest_importances = forest_importances.sort_values(ascending=False)\n",
    "forest_importances = forest_importances.iloc[1:10]\n",
    "display(forest_importances)\n",
    "\n",
    "fig, ax = plt.subplots()\n",
    "forest_importances.plot.bar(\n",
    "    #yerr=std,\n",
    "    ax=ax)\n",
    "ax.set_title(\"Feature importances using MDI\")\n",
    "ax.set_ylabel(\"Mean decrease in impurity\")\n",
    "fig.tight_layout()"
   ]
  },
  {
   "cell_type": "code",
   "execution_count": null,
   "id": "93c2c736-7100-4efa-b721-bb15c65d40e5",
   "metadata": {},
   "outputs": [],
   "source": []
  },
  {
   "cell_type": "markdown",
   "id": "dc431c26-99ce-430f-b77e-b7886224f2eb",
   "metadata": {},
   "source": [
    "### Benchmarking classifier"
   ]
  },
  {
   "cell_type": "code",
   "execution_count": null,
   "id": "a1b294d6-75b1-42c9-b796-3dde8ade9b3d",
   "metadata": {},
   "outputs": [],
   "source": [
    "from sklearn.utils.extmath import density\n",
    "from sklearn import metrics\n",
    "\n",
    "\n",
    "def benchmark(clf, custom_name=False):\n",
    "    print(\"_\" * 80)\n",
    "    print(\"Training: \")\n",
    "    print(clf)\n",
    "    t0 = time()\n",
    "    clf.fit(X_train, y_train)\n",
    "    train_time = time() - t0\n",
    "    print(f\"train time: {train_time:.3}s\")\n",
    "\n",
    "    t0 = time()\n",
    "    pred = clf.predict(X_test)\n",
    "    test_time = time() - t0\n",
    "    print(f\"test time:  {test_time:.3}s\")\n",
    "\n",
    "    score = metrics.accuracy_score(y_test, pred)\n",
    "    print(f\"accuracy:   {score:.3}\")\n",
    "\n",
    "    if hasattr(clf, \"coef_\"):\n",
    "        print(f\"dimensionality: {clf.coef_.shape[1]}\")\n",
    "        print(f\"density: {density(clf.coef_)}\")\n",
    "        print()\n",
    "\n",
    "    print()\n",
    "    if custom_name:\n",
    "        clf_descr = str(custom_name)\n",
    "    else:\n",
    "        clf_descr = clf.__class__.__name__\n",
    "    return clf_descr, score, train_time, test_time"
   ]
  },
  {
   "cell_type": "code",
   "execution_count": null,
   "id": "d2e54108-da54-4916-9c6c-5f0ce9628459",
   "metadata": {},
   "outputs": [],
   "source": [
    "from sklearn.linear_model import LogisticRegression\n",
    "from sklearn.svm import LinearSVC\n",
    "from sklearn.linear_model import SGDClassifier\n",
    "from sklearn.naive_bayes import ComplementNB\n",
    "from sklearn.neighbors import KNeighborsClassifier\n",
    "from sklearn.ensemble import RandomForestClassifier\n",
    "\n",
    "\n",
    "results = []\n",
    "for clf, name in (\n",
    "    (LogisticRegression(C=5, max_iter=1000), \"Logistic Regression\"),\n",
    "    (KNeighborsClassifier(n_neighbors=100), \"kNN\"),\n",
    "    (RandomForestClassifier(), \"Random Forest\"),\n",
    "    # L2 penalty Linear SVC\n",
    "    (LinearSVC(C=0.1, dual=False, max_iter=1000), \"Linear SVC\"),\n",
    "    # Sparse naive Bayes classifier\n",
    "    (ComplementNB(alpha=0.1), \"Complement naive Bayes\"),\n",
    "):\n",
    "    print(\"=\" * 80)\n",
    "    print(name)\n",
    "    results.append(benchmark(clf, name))"
   ]
  },
  {
   "cell_type": "code",
   "execution_count": null,
   "id": "7b51de3b-d902-4111-9523-f76bd37ff93f",
   "metadata": {},
   "outputs": [],
   "source": [
    "indices = np.arange(len(results))\n",
    "\n",
    "results = [[x[i] for x in results] for i in range(4)]\n",
    "\n",
    "clf_names, score, training_time, test_time = results\n",
    "training_time = np.array(training_time)\n",
    "test_time = np.array(test_time)\n",
    "\n",
    "fig, ax1 = plt.subplots(figsize=(10, 8))\n",
    "ax1.scatter(score, training_time, s=60)\n",
    "ax1.set(\n",
    "    title=\"Score-training time trade-off\",\n",
    "    yscale=\"log\",\n",
    "    xlabel=\"test accuracy\",\n",
    "    ylabel=\"training time (s)\",\n",
    ")\n",
    "fig, ax2 = plt.subplots(figsize=(10, 8))\n",
    "ax2.scatter(score, test_time, s=60)\n",
    "ax2.set(\n",
    "    title=\"Score-test time trade-off\",\n",
    "    yscale=\"log\",\n",
    "    xlabel=\"test accuracy\",\n",
    "    ylabel=\"test time (s)\",\n",
    ")\n",
    "\n",
    "for i, txt in enumerate(clf_names):\n",
    "    ax1.annotate(txt, (score[i], training_time[i]))\n",
    "    ax2.annotate(txt, (score[i], test_time[i]))"
   ]
  },
  {
   "cell_type": "code",
   "execution_count": 71,
   "id": "be1abc07-646f-46f0-82a0-21d18517583d",
   "metadata": {},
   "outputs": [
    {
     "name": "stdout",
     "output_type": "stream",
     "text": [
      "0\n",
      "99\n",
      "SS\n",
      "100\n",
      "199\n",
      "SS\n"
     ]
    },
    {
     "data": {
      "text/html": [
       "<div>\n",
       "<style scoped>\n",
       "    .dataframe tbody tr th:only-of-type {\n",
       "        vertical-align: middle;\n",
       "    }\n",
       "\n",
       "    .dataframe tbody tr th {\n",
       "        vertical-align: top;\n",
       "    }\n",
       "\n",
       "    .dataframe thead th {\n",
       "        text-align: right;\n",
       "    }\n",
       "</style>\n",
       "<table border=\"1\" class=\"dataframe\">\n",
       "  <thead>\n",
       "    <tr style=\"text-align: right;\">\n",
       "      <th></th>\n",
       "      <th>0</th>\n",
       "    </tr>\n",
       "  </thead>\n",
       "  <tbody>\n",
       "    <tr>\n",
       "      <th>0</th>\n",
       "      <td>1</td>\n",
       "    </tr>\n",
       "    <tr>\n",
       "      <th>1</th>\n",
       "      <td>2</td>\n",
       "    </tr>\n",
       "    <tr>\n",
       "      <th>2</th>\n",
       "      <td>3</td>\n",
       "    </tr>\n",
       "    <tr>\n",
       "      <th>0</th>\n",
       "      <td>1</td>\n",
       "    </tr>\n",
       "    <tr>\n",
       "      <th>1</th>\n",
       "      <td>2</td>\n",
       "    </tr>\n",
       "    <tr>\n",
       "      <th>2</th>\n",
       "      <td>3</td>\n",
       "    </tr>\n",
       "  </tbody>\n",
       "</table>\n",
       "</div>"
      ],
      "text/plain": [
       "   0\n",
       "0  1\n",
       "1  2\n",
       "2  3\n",
       "0  1\n",
       "1  2\n",
       "2  3"
      ]
     },
     "metadata": {},
     "output_type": "display_data"
    }
   ],
   "source": [
    "for i in range(1,3):\n",
    "    print((i-1)*100)\n",
    "    print((i*100)-1)\n",
    "    print(\"SS\")\n",
    "    \n",
    "    \n",
    "followers = pd.DataFrame()\n",
    "f = pd.DataFrame({1, 2, 3})\n",
    "followers = pd.concat([followers, f])\n",
    "followers = pd.concat([followers, f])\n",
    "\n",
    "\n",
    "display(followers)"
   ]
  }
 ],
 "metadata": {
  "kernelspec": {
   "display_name": "Python 3 (ipykernel)",
   "language": "python",
   "name": "python3"
  },
  "language_info": {
   "codemirror_mode": {
    "name": "ipython",
    "version": 3
   },
   "file_extension": ".py",
   "mimetype": "text/x-python",
   "name": "python",
   "nbconvert_exporter": "python",
   "pygments_lexer": "ipython3",
   "version": "3.9.7"
  }
 },
 "nbformat": 4,
 "nbformat_minor": 5
}
