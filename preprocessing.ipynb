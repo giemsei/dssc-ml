{
 "cells": [
  {
   "cell_type": "markdown",
   "id": "1ce8bf34-5077-4b39-ae81-afd6db3d3bbf",
   "metadata": {},
   "source": [
    "# Twitter"
   ]
  },
  {
   "cell_type": "markdown",
   "id": "11b7067e-7426-4923-b120-a5cc47e2b328",
   "metadata": {},
   "source": [
    "### Pre-processing"
   ]
  },
  {
   "cell_type": "markdown",
   "id": "13c52f4a-8fab-45ad-86b8-45a7f1f0e87c",
   "metadata": {},
   "source": [
    "TODO\n",
    "- none"
   ]
  },
  {
   "cell_type": "markdown",
   "id": "ba7d96a7-1686-4c83-b806-cfe85b8f9d2a",
   "metadata": {},
   "source": [
    "Find the most recent dataset and load it"
   ]
  },
  {
   "cell_type": "code",
   "execution_count": 5,
   "id": "55b44b7c-5c61-4219-ae2b-2784dba2e761",
   "metadata": {},
   "outputs": [
    {
     "data": {
      "text/plain": [
       "'\\npath = \"data\"\\n\\n# get the most recent dataset (ordered by the date in the name)\\nfilelist = os.listdir(\"data\") # get the list of files\\nmatching = [s for s in filelist if \"dataset\" in s] # filter only by files containing \"dataset\" in the name\\nmatching.sort(reverse=True)\\n\\nprint(matching[0])\\n\\n# load the dataset\\ndf = pd.read_csv(path+\"/\"+matching[0])\\ndf = df.rename(columns={\"Text\": \"text\", \"Retweet\": \"retweet\", \"Likes\": \"likes\", 3: \"user_id\"})\\n'"
      ]
     },
     "execution_count": 5,
     "metadata": {},
     "output_type": "execute_result"
    }
   ],
   "source": [
    "import pandas as pd\n",
    "import numpy as np\n",
    "import os\n",
    "\n",
    "'''\n",
    "path = \"data\"\n",
    "\n",
    "# get the most recent dataset (ordered by the date in the name)\n",
    "filelist = os.listdir(\"data\") # get the list of files\n",
    "matching = [s for s in filelist if \"dataset\" in s] # filter only by files containing \"dataset\" in the name\n",
    "matching.sort(reverse=True)\n",
    "\n",
    "print(matching[0])\n",
    "\n",
    "# load the dataset\n",
    "df = pd.read_csv(path+\"/\"+matching[0])\n",
    "df = df.rename(columns={\"Text\": \"text\", \"Retweet\": \"retweet\", \"Likes\": \"likes\", 3: \"user_id\"})\n",
    "'''"
   ]
  },
  {
   "cell_type": "code",
   "execution_count": 91,
   "id": "1265be5c-fe2d-456d-acca-6b38024a89b7",
   "metadata": {},
   "outputs": [
    {
     "data": {
      "text/html": [
       "<div>\n",
       "<style scoped>\n",
       "    .dataframe tbody tr th:only-of-type {\n",
       "        vertical-align: middle;\n",
       "    }\n",
       "\n",
       "    .dataframe tbody tr th {\n",
       "        vertical-align: top;\n",
       "    }\n",
       "\n",
       "    .dataframe thead th {\n",
       "        text-align: right;\n",
       "    }\n",
       "</style>\n",
       "<table border=\"1\" class=\"dataframe\">\n",
       "  <thead>\n",
       "    <tr style=\"text-align: right;\">\n",
       "      <th></th>\n",
       "      <th>X</th>\n",
       "      <th>likes</th>\n",
       "      <th>followers</th>\n",
       "      <th>popularity</th>\n",
       "      <th>y</th>\n",
       "    </tr>\n",
       "  </thead>\n",
       "  <tbody>\n",
       "    <tr>\n",
       "      <th>0</th>\n",
       "      <td>i feel so shitty about my body today I want to...</td>\n",
       "      <td>1</td>\n",
       "      <td>343</td>\n",
       "      <td>0.846373</td>\n",
       "      <td>1</td>\n",
       "    </tr>\n",
       "    <tr>\n",
       "      <th>1</th>\n",
       "      <td>i want you to make yourself your lunch and let...</td>\n",
       "      <td>3</td>\n",
       "      <td>277</td>\n",
       "      <td>1.742396</td>\n",
       "      <td>1</td>\n",
       "    </tr>\n",
       "    <tr>\n",
       "      <th>2</th>\n",
       "      <td>..Wanna go get some lunch?</td>\n",
       "      <td>0</td>\n",
       "      <td>329</td>\n",
       "      <td>0.425619</td>\n",
       "      <td>0</td>\n",
       "    </tr>\n",
       "    <tr>\n",
       "      <th>3</th>\n",
       "      <td>hello! not new to edtwt (switched accs) + look...</td>\n",
       "      <td>4</td>\n",
       "      <td>14</td>\n",
       "      <td>3.156175</td>\n",
       "      <td>2</td>\n",
       "    </tr>\n",
       "    <tr>\n",
       "      <th>4</th>\n",
       "      <td>20-30 min wait to get a dosa at avrebele mela ...</td>\n",
       "      <td>0</td>\n",
       "      <td>98</td>\n",
       "      <td>0.496095</td>\n",
       "      <td>0</td>\n",
       "    </tr>\n",
       "    <tr>\n",
       "      <th>...</th>\n",
       "      <td>...</td>\n",
       "      <td>...</td>\n",
       "      <td>...</td>\n",
       "      <td>...</td>\n",
       "      <td>...</td>\n",
       "    </tr>\n",
       "    <tr>\n",
       "      <th>7431</th>\n",
       "      <td>I'm having to challenge myself today. I've not...</td>\n",
       "      <td>86</td>\n",
       "      <td>9633</td>\n",
       "      <td>14.177218</td>\n",
       "      <td>2</td>\n",
       "    </tr>\n",
       "    <tr>\n",
       "      <th>7432</th>\n",
       "      <td>I made me a detox smoothie and I’m almost done</td>\n",
       "      <td>0</td>\n",
       "      <td>1128</td>\n",
       "      <td>0.347708</td>\n",
       "      <td>0</td>\n",
       "    </tr>\n",
       "    <tr>\n",
       "      <th>7433</th>\n",
       "      <td>I ate benachin for the first time yesterday fr...</td>\n",
       "      <td>1</td>\n",
       "      <td>6498</td>\n",
       "      <td>0.398438</td>\n",
       "      <td>0</td>\n",
       "    </tr>\n",
       "    <tr>\n",
       "      <th>7434</th>\n",
       "      <td>Idk how people could randomly take up somebody...</td>\n",
       "      <td>6</td>\n",
       "      <td>916</td>\n",
       "      <td>2.534738</td>\n",
       "      <td>2</td>\n",
       "    </tr>\n",
       "    <tr>\n",
       "      <th>7435</th>\n",
       "      <td>I have the flu UGH cover my lunch £20 💌</td>\n",
       "      <td>5</td>\n",
       "      <td>1079</td>\n",
       "      <td>2.105013</td>\n",
       "      <td>2</td>\n",
       "    </tr>\n",
       "  </tbody>\n",
       "</table>\n",
       "<p>7436 rows × 5 columns</p>\n",
       "</div>"
      ],
      "text/plain": [
       "                                                      X  likes  followers  \\\n",
       "0     i feel so shitty about my body today I want to...      1        343   \n",
       "1     i want you to make yourself your lunch and let...      3        277   \n",
       "2                            ..Wanna go get some lunch?      0        329   \n",
       "3     hello! not new to edtwt (switched accs) + look...      4         14   \n",
       "4     20-30 min wait to get a dosa at avrebele mela ...      0         98   \n",
       "...                                                 ...    ...        ...   \n",
       "7431  I'm having to challenge myself today. I've not...     86       9633   \n",
       "7432     I made me a detox smoothie and I’m almost done      0       1128   \n",
       "7433  I ate benachin for the first time yesterday fr...      1       6498   \n",
       "7434  Idk how people could randomly take up somebody...      6        916   \n",
       "7435            I have the flu UGH cover my lunch £20 💌      5       1079   \n",
       "\n",
       "      popularity  y  \n",
       "0       0.846373  1  \n",
       "1       1.742396  1  \n",
       "2       0.425619  0  \n",
       "3       3.156175  2  \n",
       "4       0.496095  0  \n",
       "...          ... ..  \n",
       "7431   14.177218  2  \n",
       "7432    0.347708  0  \n",
       "7433    0.398438  0  \n",
       "7434    2.534738  2  \n",
       "7435    2.105013  2  \n",
       "\n",
       "[7436 rows x 5 columns]"
      ]
     },
     "metadata": {},
     "output_type": "display_data"
    }
   ],
   "source": [
    "path = \"datasets/619439/\"\n",
    "#path = \"\"\n",
    "#df = pd.read_csv(path+\"debug_set_614548.csv\")\n",
    "#df = pd.read_csv(path+\"debug_set_619439.csv\")\n",
    "df = pd.read_csv(path+\"dataset_pop.csv\")\n",
    "#df = pd.read_csv(path+\"dataset_raw.csv\")\n",
    "df = df.rename(columns={\"text\": \"X\", \"pop_level\": \"y\"})\n",
    "display(df)"
   ]
  },
  {
   "cell_type": "markdown",
   "id": "606bc3db-54b4-46fa-8829-cd02cdbf89a6",
   "metadata": {},
   "source": [
    "#### Clean\n",
    "Drop duplicates observations"
   ]
  },
  {
   "cell_type": "code",
   "execution_count": 92,
   "id": "60a0280a-5b6c-4bc2-b40b-5217307c50c8",
   "metadata": {},
   "outputs": [
    {
     "name": "stdout",
     "output_type": "stream",
     "text": [
      "(7388, 5)\n"
     ]
    },
    {
     "data": {
      "text/html": [
       "<div>\n",
       "<style scoped>\n",
       "    .dataframe tbody tr th:only-of-type {\n",
       "        vertical-align: middle;\n",
       "    }\n",
       "\n",
       "    .dataframe tbody tr th {\n",
       "        vertical-align: top;\n",
       "    }\n",
       "\n",
       "    .dataframe thead th {\n",
       "        text-align: right;\n",
       "    }\n",
       "</style>\n",
       "<table border=\"1\" class=\"dataframe\">\n",
       "  <thead>\n",
       "    <tr style=\"text-align: right;\">\n",
       "      <th></th>\n",
       "      <th>X</th>\n",
       "      <th>likes</th>\n",
       "      <th>followers</th>\n",
       "      <th>popularity</th>\n",
       "      <th>y</th>\n",
       "    </tr>\n",
       "  </thead>\n",
       "  <tbody>\n",
       "    <tr>\n",
       "      <th>0</th>\n",
       "      <td>i feel so shitty about my body today I want to...</td>\n",
       "      <td>1</td>\n",
       "      <td>343</td>\n",
       "      <td>0.846373</td>\n",
       "      <td>1</td>\n",
       "    </tr>\n",
       "    <tr>\n",
       "      <th>1</th>\n",
       "      <td>i want you to make yourself your lunch and let...</td>\n",
       "      <td>3</td>\n",
       "      <td>277</td>\n",
       "      <td>1.742396</td>\n",
       "      <td>1</td>\n",
       "    </tr>\n",
       "    <tr>\n",
       "      <th>2</th>\n",
       "      <td>..Wanna go get some lunch?</td>\n",
       "      <td>0</td>\n",
       "      <td>329</td>\n",
       "      <td>0.425619</td>\n",
       "      <td>0</td>\n",
       "    </tr>\n",
       "    <tr>\n",
       "      <th>3</th>\n",
       "      <td>hello! not new to edtwt (switched accs) + look...</td>\n",
       "      <td>4</td>\n",
       "      <td>14</td>\n",
       "      <td>3.156175</td>\n",
       "      <td>2</td>\n",
       "    </tr>\n",
       "    <tr>\n",
       "      <th>4</th>\n",
       "      <td>20-30 min wait to get a dosa at avrebele mela ...</td>\n",
       "      <td>0</td>\n",
       "      <td>98</td>\n",
       "      <td>0.496095</td>\n",
       "      <td>0</td>\n",
       "    </tr>\n",
       "    <tr>\n",
       "      <th>...</th>\n",
       "      <td>...</td>\n",
       "      <td>...</td>\n",
       "      <td>...</td>\n",
       "      <td>...</td>\n",
       "      <td>...</td>\n",
       "    </tr>\n",
       "    <tr>\n",
       "      <th>7431</th>\n",
       "      <td>I'm having to challenge myself today. I've not...</td>\n",
       "      <td>86</td>\n",
       "      <td>9633</td>\n",
       "      <td>14.177218</td>\n",
       "      <td>2</td>\n",
       "    </tr>\n",
       "    <tr>\n",
       "      <th>7432</th>\n",
       "      <td>I made me a detox smoothie and I’m almost done</td>\n",
       "      <td>0</td>\n",
       "      <td>1128</td>\n",
       "      <td>0.347708</td>\n",
       "      <td>0</td>\n",
       "    </tr>\n",
       "    <tr>\n",
       "      <th>7433</th>\n",
       "      <td>I ate benachin for the first time yesterday fr...</td>\n",
       "      <td>1</td>\n",
       "      <td>6498</td>\n",
       "      <td>0.398438</td>\n",
       "      <td>0</td>\n",
       "    </tr>\n",
       "    <tr>\n",
       "      <th>7434</th>\n",
       "      <td>Idk how people could randomly take up somebody...</td>\n",
       "      <td>6</td>\n",
       "      <td>916</td>\n",
       "      <td>2.534738</td>\n",
       "      <td>2</td>\n",
       "    </tr>\n",
       "    <tr>\n",
       "      <th>7435</th>\n",
       "      <td>I have the flu UGH cover my lunch £20 💌</td>\n",
       "      <td>5</td>\n",
       "      <td>1079</td>\n",
       "      <td>2.105013</td>\n",
       "      <td>2</td>\n",
       "    </tr>\n",
       "  </tbody>\n",
       "</table>\n",
       "<p>7388 rows × 5 columns</p>\n",
       "</div>"
      ],
      "text/plain": [
       "                                                      X  likes  followers  \\\n",
       "0     i feel so shitty about my body today I want to...      1        343   \n",
       "1     i want you to make yourself your lunch and let...      3        277   \n",
       "2                            ..Wanna go get some lunch?      0        329   \n",
       "3     hello! not new to edtwt (switched accs) + look...      4         14   \n",
       "4     20-30 min wait to get a dosa at avrebele mela ...      0         98   \n",
       "...                                                 ...    ...        ...   \n",
       "7431  I'm having to challenge myself today. I've not...     86       9633   \n",
       "7432     I made me a detox smoothie and I’m almost done      0       1128   \n",
       "7433  I ate benachin for the first time yesterday fr...      1       6498   \n",
       "7434  Idk how people could randomly take up somebody...      6        916   \n",
       "7435            I have the flu UGH cover my lunch £20 💌      5       1079   \n",
       "\n",
       "      popularity  y  \n",
       "0       0.846373  1  \n",
       "1       1.742396  1  \n",
       "2       0.425619  0  \n",
       "3       3.156175  2  \n",
       "4       0.496095  0  \n",
       "...          ... ..  \n",
       "7431   14.177218  2  \n",
       "7432    0.347708  0  \n",
       "7433    0.398438  0  \n",
       "7434    2.534738  2  \n",
       "7435    2.105013  2  \n",
       "\n",
       "[7388 rows x 5 columns]"
      ]
     },
     "metadata": {},
     "output_type": "display_data"
    }
   ],
   "source": [
    "# drop duplicates observations, keeping the first occurrence\n",
    "df = df.drop_duplicates(subset='X', keep='first')\n",
    "print(df.shape)\n",
    "display(df)"
   ]
  },
  {
   "cell_type": "markdown",
   "id": "0dfc25a3-4a04-41e9-80ea-0007fcee0ba7",
   "metadata": {},
   "source": [
    "Generate response variable"
   ]
  },
  {
   "cell_type": "markdown",
   "id": "48e0a3e2-e475-4b15-b302-34b7c72a1806",
   "metadata": {},
   "source": [
    "### Training Test Split"
   ]
  },
  {
   "cell_type": "code",
   "execution_count": 93,
   "id": "8f5d713d-ebe6-4f31-97b1-7a69490b0c67",
   "metadata": {},
   "outputs": [
    {
     "name": "stdout",
     "output_type": "stream",
     "text": [
      "Index(['X'], dtype='object')\n"
     ]
    },
    {
     "data": {
      "text/plain": [
       "4268    mfs pulling up on me during lunch just to show...\n",
       "5043    Aldi is my new place to shop for food 🥗🥓🧇 most...\n",
       "4963    chips &amp; dip for lunch? yes\\n\\nhaute cuisin...\n",
       "3464    would you guys like to recommend me some music...\n",
       "3680    New cookbook, all beans, lentils etc. Some var...\n",
       "                              ...                        \n",
       "4347             who wanna tip me for lunch 🥹 $fayesbunny\n",
       "5513                                     Lunch time chop.\n",
       "4150                  Christ lazy that from paella Dave 😂\n",
       "5520    For some reason lunch just hasn’t been hitting...\n",
       "5459    Noise cancellation on the AirPods is sooo cruc...\n",
       "Name: X, Length: 5910, dtype: object"
      ]
     },
     "metadata": {},
     "output_type": "display_data"
    },
    {
     "data": {
      "text/html": [
       "<div>\n",
       "<style scoped>\n",
       "    .dataframe tbody tr th:only-of-type {\n",
       "        vertical-align: middle;\n",
       "    }\n",
       "\n",
       "    .dataframe tbody tr th {\n",
       "        vertical-align: top;\n",
       "    }\n",
       "\n",
       "    .dataframe thead th {\n",
       "        text-align: right;\n",
       "    }\n",
       "</style>\n",
       "<table border=\"1\" class=\"dataframe\">\n",
       "  <thead>\n",
       "    <tr style=\"text-align: right;\">\n",
       "      <th></th>\n",
       "      <th>y</th>\n",
       "      <th>popularity</th>\n",
       "    </tr>\n",
       "  </thead>\n",
       "  <tbody>\n",
       "    <tr>\n",
       "      <th>4268</th>\n",
       "      <td>1</td>\n",
       "      <td>1.206138</td>\n",
       "    </tr>\n",
       "    <tr>\n",
       "      <th>5043</th>\n",
       "      <td>1</td>\n",
       "      <td>1.338899</td>\n",
       "    </tr>\n",
       "    <tr>\n",
       "      <th>4963</th>\n",
       "      <td>2</td>\n",
       "      <td>5.502359</td>\n",
       "    </tr>\n",
       "    <tr>\n",
       "      <th>3464</th>\n",
       "      <td>1</td>\n",
       "      <td>1.429996</td>\n",
       "    </tr>\n",
       "    <tr>\n",
       "      <th>3680</th>\n",
       "      <td>1</td>\n",
       "      <td>0.987392</td>\n",
       "    </tr>\n",
       "    <tr>\n",
       "      <th>...</th>\n",
       "      <td>...</td>\n",
       "      <td>...</td>\n",
       "    </tr>\n",
       "    <tr>\n",
       "      <th>4347</th>\n",
       "      <td>1</td>\n",
       "      <td>1.114646</td>\n",
       "    </tr>\n",
       "    <tr>\n",
       "      <th>5513</th>\n",
       "      <td>0</td>\n",
       "      <td>0.469925</td>\n",
       "    </tr>\n",
       "    <tr>\n",
       "      <th>4150</th>\n",
       "      <td>0</td>\n",
       "      <td>0.344320</td>\n",
       "    </tr>\n",
       "    <tr>\n",
       "      <th>5520</th>\n",
       "      <td>2</td>\n",
       "      <td>11.039934</td>\n",
       "    </tr>\n",
       "    <tr>\n",
       "      <th>5459</th>\n",
       "      <td>0</td>\n",
       "      <td>0.416404</td>\n",
       "    </tr>\n",
       "  </tbody>\n",
       "</table>\n",
       "<p>5910 rows × 2 columns</p>\n",
       "</div>"
      ],
      "text/plain": [
       "      y  popularity\n",
       "4268  1    1.206138\n",
       "5043  1    1.338899\n",
       "4963  2    5.502359\n",
       "3464  1    1.429996\n",
       "3680  1    0.987392\n",
       "...  ..         ...\n",
       "4347  1    1.114646\n",
       "5513  0    0.469925\n",
       "4150  0    0.344320\n",
       "5520  2   11.039934\n",
       "5459  0    0.416404\n",
       "\n",
       "[5910 rows x 2 columns]"
      ]
     },
     "metadata": {},
     "output_type": "display_data"
    }
   ],
   "source": [
    "from sklearn.model_selection import train_test_split\n",
    "\n",
    "y_col = ['y', 'popularity'] ####\n",
    "####y_col = ['y'] ####\n",
    "X_cols = df.columns\n",
    "X_cols = X_cols.drop(y_col)\n",
    "\n",
    "X_cols = X_cols.drop('likes')\n",
    "X_cols = X_cols.drop('followers')\n",
    "#X_cols = X_cols.drop('popularity') ####\n",
    "\n",
    "print(X_cols)\n",
    "\n",
    "# split data\n",
    "X_train, X_test, y_train, y_test = train_test_split(\n",
    "    df.loc[:,X_cols], df.loc[:,y_col], test_size=0.2, random_state=0, shuffle=True, stratify=df.loc[:,'y'])\n",
    "\n",
    "# REVIEW THIS:\n",
    "X_train = X_train['X']\n",
    "X_test = X_test['X']\n",
    "\n",
    "# backup\n",
    "X_train_bak = X_train\n",
    "X_test_bak = X_test\n",
    "\n",
    "y_train_reg = y_train['popularity']\n",
    "y_test_reg = y_test['popularity']\n",
    "\n",
    "y_train_clf = y_train['y']\n",
    "y_test_clf = y_test['y']\n",
    "\n",
    "display(X_train)\n",
    "display(y_train)"
   ]
  },
  {
   "cell_type": "code",
   "execution_count": 94,
   "id": "d38c0e8f-f986-4f7c-872a-1868083e1208",
   "metadata": {},
   "outputs": [],
   "source": [
    "# SET CLASSIFICATION\n",
    "y_train = y_train_clf\n",
    "y_test = y_test_clf"
   ]
  },
  {
   "cell_type": "markdown",
   "id": "820a2d18-4534-444d-8515-7795c6fcb74d",
   "metadata": {},
   "source": [
    "#### Stemming\n",
    "We can further improve our bag-of-words pre-processing using a normalization technique called stemming.\n",
    "The idea is to reduce each word to its stem, using the stemming algorithm (rule-based heuristic).\n",
    "For example a stemmer reduce words like \"climber\", \"climbed\" and \"climbing\" to \"climb\".\n",
    "\n",
    "The Natural Language Toolkit for Python (NLTK, http://www.nltk.org) implements the Snowball stemming algorithm.\n",
    "\n",
    "#### Bag-of-Words\n",
    "\n",
    "Is used the scikit-learn implementation of bag of word using the CountVectorizer class.\n",
    "It take an array of text as input and return a bag-of-words model.\n",
    "\n",
    "##### Less frequently words\n",
    "To lower the dimension we can clean the words that appears less frequently, is used the \"min_df\" to set the minimum number of documents that the word needs to appear in.\n",
    "\n"
   ]
  },
  {
   "cell_type": "code",
   "execution_count": 95,
   "id": "d76dd029-1e6b-4656-beeb-9912b7f42a8d",
   "metadata": {},
   "outputs": [
    {
     "data": {
      "text/plain": [
       "['the', 'pink', 'sweater', 'fit', 'her', 'perfect']"
      ]
     },
     "execution_count": 95,
     "metadata": {},
     "output_type": "execute_result"
    }
   ],
   "source": [
    "# prepare tokenization\n",
    "from nltk.stem.snowball import SnowballStemmer\n",
    "stemmer = SnowballStemmer(\"english\")\n",
    "\n",
    "# create a function to \n",
    "def tokenizer_snowballStemmer(text):\n",
    "    return [stemmer.stem(word) for word in text.split()]\n",
    "\n",
    "tokenizer_snowballStemmer(\"The pink sweater fit her perfectly\") # test"
   ]
  },
  {
   "cell_type": "markdown",
   "id": "b8a58e08-37cd-494c-9cab-e05821acb438",
   "metadata": {},
   "source": [
    "Bag of word"
   ]
  },
  {
   "cell_type": "code",
   "execution_count": 96,
   "id": "a2ecf08e-bff3-4cca-a97e-5acdcb726519",
   "metadata": {},
   "outputs": [],
   "source": [
    "from sklearn.feature_extraction.text import CountVectorizer\n",
    "\n",
    "def prep_bagofword(X_train, X_test):\n",
    "    count = CountVectorizer(tokenizer = tokenizer_snowballStemmer, min_df=5) # use tokenizer function\n",
    "    count.fit(X_train) # generate Bag-of-words\n",
    "\n",
    "    #print(\"Vocabulary size using stemming: {}\". format(len(count.vocabulary_)))\n",
    "    #print(\"Vocabulary content:\\n {}\".format(count.vocabulary_))\n",
    "\n",
    "    # apply transformation to the data\n",
    "    X_train = count.transform(X_train)\n",
    "    print(\"X_train: {}\".format(X_train.shape))\n",
    "\n",
    "    X_test = count.transform(X_test)\n",
    "    print(\"X_test: {}\".format(X_test.shape))\n",
    "    \n",
    "    feature_names = np.array(count.get_feature_names())\n",
    "    \n",
    "    return X_train, X_test, feature_names\n"
   ]
  },
  {
   "cell_type": "markdown",
   "id": "856b7c68-8baf-4360-9eef-880ca093a29f",
   "metadata": {},
   "source": [
    "Better use bag of word + TF-IDF\n",
    "\n",
    "REFs \n",
    "https://scikit-learn.org/stable/auto_examples/text/plot_document_clustering.html#sphx-glr-auto-examples-text-plot-document-clustering-py"
   ]
  },
  {
   "cell_type": "code",
   "execution_count": 97,
   "id": "4f509602-77a2-4275-a6dc-5f196c58ad63",
   "metadata": {},
   "outputs": [],
   "source": [
    "from sklearn.feature_extraction.text import TfidfVectorizer\n",
    "import time\n",
    "\n",
    "def prep_bagofword_tfidf(X_train, X_test):\n",
    "    vectorizer = TfidfVectorizer(\n",
    "        tokenizer = tokenizer_snowballStemmer,\n",
    "        #max_df=0.01,\n",
    "        min_df=20,\n",
    "        stop_words=\"english\")\n",
    "\n",
    "    t0 = time.time()\n",
    "    vectorizer.fit(X_train)\n",
    "    X_train = vectorizer.transform(X_train)\n",
    "    print(f\"vectorization done in {time.time() - t0:.3f} s\")\n",
    "\n",
    "    print(f\"n_samples: {X_train.shape[0]}, n_features: {X_train.shape[1]}\")\n",
    "    print(f\"{X_train.nnz / np.prod(X_train.shape):.3f}\")\n",
    "\n",
    "    #print(\"Vocabulary size using stemming: {}\". format(len(count.vocabulary_)))\n",
    "    #print(\"Vocabulary content:\\n {}\".format(vectorizer.vocabulary_))\n",
    "\n",
    "    # apply transformation to the tesr\n",
    "    X_test = vectorizer.transform(X_test)\n",
    "    print(\"X_test: {}\".format(X_test.shape))\n",
    "\n",
    "    feature_names = np.array(vectorizer.get_feature_names())\n",
    "    \n",
    "    return X_train, X_test, features_names"
   ]
  },
  {
   "cell_type": "markdown",
   "id": "9c424a93-edaa-4d5c-a29c-03ecf1d5903f",
   "metadata": {},
   "source": [
    "Main preprocessing function"
   ]
  },
  {
   "cell_type": "code",
   "execution_count": 98,
   "id": "062b906b-62f0-4833-af26-3a0d55a635cd",
   "metadata": {},
   "outputs": [
    {
     "name": "stderr",
     "output_type": "stream",
     "text": [
      "/Users/agustin/miniforge3/envs/dssc-deep/lib/python3.10/site-packages/sklearn/feature_extraction/text.py:516: UserWarning: The parameter 'token_pattern' will not be used since 'tokenizer' is not None'\n",
      "  warnings.warn(\n",
      "/Users/agustin/miniforge3/envs/dssc-deep/lib/python3.10/site-packages/sklearn/feature_extraction/text.py:396: UserWarning: Your stop_words may be inconsistent with your preprocessing. Tokenizing the stop words generated tokens ['abov', 'afterward', 'alon', 'alreadi', 'alway', 'ani', 'anoth', 'anyon', 'anyth', 'anywher', 'becam', 'becaus', 'becom', 'befor', 'besid', 'cri', 'describ', 'dure', 'els', 'elsewher', 'empti', 'everi', 'everyon', 'everyth', 'everywher', 'fifti', 'forti', 'henc', 'hereaft', 'herebi', 'howev', 'hundr', 'inde', 'mani', 'meanwhil', 'moreov', 'nobodi', 'noon', 'noth', 'nowher', 'onc', 'onli', 'otherwis', 'ourselv', 'perhap', 'pleas', 'sever', 'sinc', 'sincer', 'sixti', 'someon', 'someth', 'sometim', 'somewher', 'themselv', 'thenc', 'thereaft', 'therebi', 'therefor', 'togeth', 'twelv', 'twenti', 'veri', 'whatev', 'whenc', 'whenev', 'wherea', 'whereaft', 'wherebi', 'wherev', 'whi', 'yourselv'] not in stop_words.\n",
      "  warnings.warn(\n"
     ]
    },
    {
     "name": "stdout",
     "output_type": "stream",
     "text": [
      "vectorization done in 2.469 s\n",
      "n_samples: 5910, n_features: 517\n",
      "0.011\n",
      "X_test: (1478, 517)\n"
     ]
    },
    {
     "name": "stderr",
     "output_type": "stream",
     "text": [
      "/Users/agustin/miniforge3/envs/dssc-deep/lib/python3.10/site-packages/sklearn/utils/deprecation.py:87: FutureWarning: Function get_feature_names is deprecated; get_feature_names is deprecated in 1.0 and will be removed in 1.2. Please use get_feature_names_out instead.\n",
      "  warnings.warn(msg, category=FutureWarning)\n"
     ]
    },
    {
     "data": {
      "text/plain": [
       "[0, 1, 2]"
      ]
     },
     "metadata": {},
     "output_type": "display_data"
    }
   ],
   "source": [
    "# update the variables\n",
    "#X_train = X_train_bak\n",
    "#X_test = X_test_bak\n",
    "\n",
    "# select steps to apply\n",
    "#X_train, X_test, features_names = prep_bagofword(X_train, X_test)\n",
    "\n",
    "# update the variables\n",
    "X_train = X_train_bak\n",
    "X_test = X_test_bak\n",
    "\n",
    "X_train, X_test, features_names = prep_bagofword_tfidf(X_train, X_test)\n",
    "\n",
    "# in case of classification\n",
    "target_names = [0, 1 ,2]\n",
    "display(target_names)"
   ]
  },
  {
   "cell_type": "markdown",
   "id": "ea903bb4-29e1-401b-9e47-3ed258348a55",
   "metadata": {},
   "source": [
    "### GridSearchCV"
   ]
  },
  {
   "cell_type": "code",
   "execution_count": 99,
   "id": "087e1c4f-daa1-4d8e-93cd-6a84a13f987a",
   "metadata": {},
   "outputs": [
    {
     "ename": "NameError",
     "evalue": "name 'make_pipeline' is not defined",
     "output_type": "error",
     "traceback": [
      "\u001b[0;31m---------------------------------------------------------------------------\u001b[0m",
      "\u001b[0;31mNameError\u001b[0m                                 Traceback (most recent call last)",
      "Cell \u001b[0;32mIn[99], line 4\u001b[0m\n\u001b[1;32m      2\u001b[0m \u001b[38;5;28;01mfrom\u001b[39;00m \u001b[38;5;21;01msklearn\u001b[39;00m\u001b[38;5;21;01m.\u001b[39;00m\u001b[38;5;21;01mmodel_selection\u001b[39;00m \u001b[38;5;28;01mimport\u001b[39;00m GridSearchCV\n\u001b[1;32m      3\u001b[0m parameters \u001b[38;5;241m=\u001b[39m {\u001b[38;5;124m'\u001b[39m\u001b[38;5;124mn_estimators\u001b[39m\u001b[38;5;124m'\u001b[39m:(\u001b[38;5;124m'\u001b[39m\u001b[38;5;124m100\u001b[39m\u001b[38;5;124m'\u001b[39m, \u001b[38;5;124m'\u001b[39m\u001b[38;5;124m200\u001b[39m\u001b[38;5;124m'\u001b[39m), \u001b[38;5;124m'\u001b[39m\u001b[38;5;124mC\u001b[39m\u001b[38;5;124m'\u001b[39m:[\u001b[38;5;241m1\u001b[39m, \u001b[38;5;241m10\u001b[39m]}\n\u001b[0;32m----> 4\u001b[0m clf \u001b[38;5;241m=\u001b[39m \u001b[43mmake_pipeline\u001b[49m(StandardScaler(), \n\u001b[1;32m      5\u001b[0m                     GridSearchCV(LogisticRegression(),\n\u001b[1;32m      6\u001b[0m                                  param_grid\u001b[38;5;241m=\u001b[39m{\u001b[38;5;124m'\u001b[39m\u001b[38;5;124mlogisticregression__C\u001b[39m\u001b[38;5;124m'\u001b[39m: [\u001b[38;5;241m0.1\u001b[39m, \u001b[38;5;241m10.\u001b[39m]},\n\u001b[1;32m      7\u001b[0m                                  cv\u001b[38;5;241m=\u001b[39m\u001b[38;5;241m2\u001b[39m,\n\u001b[1;32m      8\u001b[0m                                  refit\u001b[38;5;241m=\u001b[39m\u001b[38;5;28;01mTrue\u001b[39;00m))\n\u001b[1;32m     10\u001b[0m clf\u001b[38;5;241m.\u001b[39mfit()\n\u001b[1;32m     11\u001b[0m clf\u001b[38;5;241m.\u001b[39mpredict()\n",
      "\u001b[0;31mNameError\u001b[0m: name 'make_pipeline' is not defined"
     ]
    }
   ],
   "source": [
    "from sklearn.ensemble import RandomForestClassifier\n",
    "from sklearn.model_selection import GridSearchCV\n",
    "parameters = {'n_estimators':('100', '200'), 'C':[1, 10]}\n",
    "clf = make_pipeline(StandardScaler(), \n",
    "                    GridSearchCV(LogisticRegression(),\n",
    "                                 param_grid={'logisticregression__C': [0.1, 10.]},\n",
    "                                 cv=2,\n",
    "                                 refit=True))\n",
    "\n",
    "clf.fit()\n",
    "clf.predict()\n",
    "clf = GridSearchCV(clf, parameters)\n",
    "clf.fit(X_train, y_train)\n",
    "\n",
    "\n",
    "sorted(clf.cv_results_.keys())"
   ]
  },
  {
   "cell_type": "markdown",
   "id": "92423481-d043-48f4-84a6-cd80fc2b0a3e",
   "metadata": {},
   "source": [
    "### Modeling"
   ]
  },
  {
   "cell_type": "code",
   "execution_count": 100,
   "id": "5ceb3a93-c529-4896-a8ac-1a78dae10399",
   "metadata": {},
   "outputs": [],
   "source": [
    "from sklearn.ensemble import RandomForestClassifier\n",
    "\n",
    "def model_randomforest(X_train, y_train):\n",
    "    # fit a Random Forest model\n",
    "    clf_empty = RandomForestClassifier(n_estimators=100)\n",
    "    clf_fitted = clf_empty.fit(X_train, y_train) \n",
    "    return clf_empty, clf_fitted"
   ]
  },
  {
   "cell_type": "markdown",
   "id": "4a568928-920a-42fa-a5f8-f7698ad480ff",
   "metadata": {},
   "source": [
    "Check the model performance using cross validation (on the training set) and show the accuracy results."
   ]
  },
  {
   "cell_type": "code",
   "execution_count": 105,
   "id": "b1cc297a-8f72-4ee4-aaf1-e2cd81bec709",
   "metadata": {},
   "outputs": [],
   "source": [
    "from sklearn.model_selection import cross_val_score\n",
    "from sklearn.metrics import accuracy_score\n",
    "\n",
    "def eval_cv_classification(clf, X_train, y_train):\n",
    "    # plot CV results\n",
    "    scores = cross_val_score(clf, X_train, y_train, cv=5, scoring='balanced_accuracy')\n",
    "    display(\"Cross Validation scores\")\n",
    "    i=1\n",
    "    for a in scores:\n",
    "        display(\"Accuracy cv=\" + str(i) + \": \" + str(round(a*100, 2)))\n",
    "        i = i+1\n",
    "    acc_mean = round(scores.mean(),2)*100\n",
    "    display(\"Accuracy MEAN: \"+str(acc_mean))\n",
    "    return scores.mean()"
   ]
  },
  {
   "cell_type": "code",
   "execution_count": 107,
   "id": "940b42da-2198-420a-87f2-3df9029b32e2",
   "metadata": {},
   "outputs": [],
   "source": [
    "import matplotlib.pyplot as plt\n",
    "from sklearn.metrics import confusion_matrix, ConfusionMatrixDisplay\n",
    "from sklearn.metrics import balanced_accuracy_score\n",
    "\n",
    "def eval_pred_classification(clf, X_test, y_test):\n",
    "    # results on test set\n",
    "    predictions = clf.predict(X_test)\n",
    "    test_accuracy = balanced_accuracy_score(predictions, y_test)\n",
    "    display(\"Test set accuracy: \" + str(round(test_accuracy*100, 2)))\n",
    "    display(confusion_matrix(predictions, y_test)) # display confusion matrix\n",
    "\n",
    "    # results on test set\n",
    "    predictions = clf.predict(X_test)\n",
    "    test_accuracy = balanced_accuracy_score(predictions, y_test)\n",
    "    display(\"Test set accuracy: \" + str(round(test_accuracy*100, 2)))\n",
    "\n",
    "    cm = confusion_matrix(y_test, predictions, labels=clf.classes_)\n",
    "    disp = ConfusionMatrixDisplay(confusion_matrix=cm,\n",
    "                                  display_labels=clf.classes_)\n",
    "    disp.plot()\n",
    "\n",
    "    fig = disp.ax_.get_figure()\n",
    "    fig.set_figwidth(2)\n",
    "    fig.set_figheight(2)\n",
    "\n",
    "    plt.title(\"Test set results\")\n",
    "    plt.show()"
   ]
  },
  {
   "cell_type": "code",
   "execution_count": 108,
   "id": "16aedbfd-bc7c-4e74-9930-eff1075f9f16",
   "metadata": {},
   "outputs": [
    {
     "data": {
      "text/plain": [
       "'Cross Validation scores'"
      ]
     },
     "metadata": {},
     "output_type": "display_data"
    },
    {
     "data": {
      "text/plain": [
       "'Accuracy cv=1: 35.89'"
      ]
     },
     "metadata": {},
     "output_type": "display_data"
    },
    {
     "data": {
      "text/plain": [
       "'Accuracy cv=2: 37.91'"
      ]
     },
     "metadata": {},
     "output_type": "display_data"
    },
    {
     "data": {
      "text/plain": [
       "'Accuracy cv=3: 35.92'"
      ]
     },
     "metadata": {},
     "output_type": "display_data"
    },
    {
     "data": {
      "text/plain": [
       "'Accuracy cv=4: 36.27'"
      ]
     },
     "metadata": {},
     "output_type": "display_data"
    },
    {
     "data": {
      "text/plain": [
       "'Accuracy cv=5: 36.21'"
      ]
     },
     "metadata": {},
     "output_type": "display_data"
    },
    {
     "data": {
      "text/plain": [
       "'Accuracy MEAN: 36.0'"
      ]
     },
     "metadata": {},
     "output_type": "display_data"
    },
    {
     "data": {
      "text/plain": [
       "'Test set accuracy: 40.0'"
      ]
     },
     "metadata": {},
     "output_type": "display_data"
    },
    {
     "data": {
      "text/plain": [
       "array([[431, 308, 145],\n",
       "       [214, 213, 110],\n",
       "       [ 17,  22,  18]])"
      ]
     },
     "metadata": {},
     "output_type": "display_data"
    },
    {
     "data": {
      "text/plain": [
       "'Test set accuracy: 40.0'"
      ]
     },
     "metadata": {},
     "output_type": "display_data"
    },
    {
     "data": {
      "image/png": "[encoded data removed]",
      "text/plain": [
       "<Figure size 200x200 with 2 Axes>"
      ]
     },
     "metadata": {},
     "output_type": "display_data"
    }
   ],
   "source": [
    "# get model\n",
    "clf_empty, clf_fitted = model_randomforest(X_train, y_train)\n",
    "\n",
    "# Cross Validation\n",
    "eval_cv_classification(clf_empty, X_train, y_train)\n",
    "\n",
    "# validation set\n",
    "eval_pred_classification(clf_fitted, X_test, y_test)"
   ]
  },
  {
   "cell_type": "markdown",
   "id": "4661e043-f596-4c4d-98a2-93ada2f6eaf5",
   "metadata": {},
   "source": [
    "## Benchmarking\n",
    "\n",
    "Benchmarking function"
   ]
  },
  {
   "cell_type": "code",
   "execution_count": 18,
   "id": "86617383-6f18-4a97-b655-af43fa211b47",
   "metadata": {},
   "outputs": [],
   "source": [
    "from sklearn.utils.extmath import density\n",
    "from sklearn import metrics\n",
    "\n",
    "def benchmark(clf, custom_name=False):\n",
    "    \n",
    "    score_cv = eval_cv_classification(clf, X_train, y_train)\n",
    "    \n",
    "    print(\"_\" * 80)\n",
    "    print(\"Training: \")\n",
    "    print(clf)\n",
    "    t0 = time.time()\n",
    "    clf.fit(X_train, y_train)\n",
    "    train_time = time.time() - t0\n",
    "    print(f\"train time: {train_time:.3}s\")\n",
    "\n",
    "    t0 = time.time()\n",
    "    pred = clf.predict(X_test)\n",
    "    test_time = time.time() - t0\n",
    "    print(f\"test time:  {test_time:.3}s\")\n",
    "\n",
    "    score = metrics.accuracy_score(y_test, pred)\n",
    "    print(f\"accuracy:   {score:.3}\")\n",
    "\n",
    "    if hasattr(clf, \"coef_\"):\n",
    "        print(f\"dimensionality: {clf.coef_.shape[1]}\")\n",
    "        print(f\"density: {density(clf.coef_)}\")\n",
    "        print()\n",
    "\n",
    "    print()\n",
    "    if custom_name:\n",
    "        clf_descr = str(custom_name)\n",
    "    else:\n",
    "        clf_descr = clf.__class__.__name__\n",
    "        \n",
    "    return clf_descr, score, train_time, test_time, score_cv"
   ]
  },
  {
   "cell_type": "code",
   "execution_count": 19,
   "id": "bedfd5a5-a63a-4c89-ad65-94e1c1860ed2",
   "metadata": {},
   "outputs": [
    {
     "name": "stdout",
     "output_type": "stream",
     "text": [
      "================================================================================\n",
      "Logistic Regression\n"
     ]
    },
    {
     "data": {
      "text/plain": [
       "'Cross Validation scores'"
      ]
     },
     "metadata": {},
     "output_type": "display_data"
    },
    {
     "data": {
      "text/plain": [
       "'Accuracy cv=1: 47.72'"
      ]
     },
     "metadata": {},
     "output_type": "display_data"
    },
    {
     "data": {
      "text/plain": [
       "'Accuracy cv=2: 47.48'"
      ]
     },
     "metadata": {},
     "output_type": "display_data"
    },
    {
     "data": {
      "text/plain": [
       "'Accuracy cv=3: 49.16'"
      ]
     },
     "metadata": {},
     "output_type": "display_data"
    },
    {
     "data": {
      "text/plain": [
       "'Accuracy cv=4: 47.07'"
      ]
     },
     "metadata": {},
     "output_type": "display_data"
    },
    {
     "data": {
      "text/plain": [
       "'Accuracy cv=5: 47.48'"
      ]
     },
     "metadata": {},
     "output_type": "display_data"
    },
    {
     "data": {
      "text/plain": [
       "'Accuracy MEAN: 48.0'"
      ]
     },
     "metadata": {},
     "output_type": "display_data"
    },
    {
     "name": "stdout",
     "output_type": "stream",
     "text": [
      "________________________________________________________________________________\n",
      "Training: \n",
      "LogisticRegression(C=5, max_iter=1000)\n",
      "train time: 0.579s\n",
      "test time:  0.000392s\n",
      "accuracy:   0.463\n",
      "dimensionality: 2426\n",
      "density: 1.0\n",
      "\n",
      "\n",
      "================================================================================\n",
      "kNN\n"
     ]
    },
    {
     "name": "stderr",
     "output_type": "stream",
     "text": [
      "/Users/agustin/miniforge3/envs/dssc-deep/lib/python3.10/site-packages/sklearn/neighbors/_classification.py:228: FutureWarning: Unlike other reduction functions (e.g. `skew`, `kurtosis`), the default behavior of `mode` typically preserves the axis it acts along. In SciPy 1.11.0, this behavior will change: the default value of `keepdims` will become False, the `axis` over which the statistic is taken will be eliminated, and the value None will no longer be accepted. Set `keepdims` to True or False to avoid this warning.\n",
      "  mode, _ = stats.mode(_y[neigh_ind, k], axis=1)\n",
      "/Users/agustin/miniforge3/envs/dssc-deep/lib/python3.10/site-packages/sklearn/neighbors/_classification.py:228: FutureWarning: Unlike other reduction functions (e.g. `skew`, `kurtosis`), the default behavior of `mode` typically preserves the axis it acts along. In SciPy 1.11.0, this behavior will change: the default value of `keepdims` will become False, the `axis` over which the statistic is taken will be eliminated, and the value None will no longer be accepted. Set `keepdims` to True or False to avoid this warning.\n",
      "  mode, _ = stats.mode(_y[neigh_ind, k], axis=1)\n",
      "/Users/agustin/miniforge3/envs/dssc-deep/lib/python3.10/site-packages/sklearn/neighbors/_classification.py:228: FutureWarning: Unlike other reduction functions (e.g. `skew`, `kurtosis`), the default behavior of `mode` typically preserves the axis it acts along. In SciPy 1.11.0, this behavior will change: the default value of `keepdims` will become False, the `axis` over which the statistic is taken will be eliminated, and the value None will no longer be accepted. Set `keepdims` to True or False to avoid this warning.\n",
      "  mode, _ = stats.mode(_y[neigh_ind, k], axis=1)\n",
      "/Users/agustin/miniforge3/envs/dssc-deep/lib/python3.10/site-packages/sklearn/neighbors/_classification.py:228: FutureWarning: Unlike other reduction functions (e.g. `skew`, `kurtosis`), the default behavior of `mode` typically preserves the axis it acts along. In SciPy 1.11.0, this behavior will change: the default value of `keepdims` will become False, the `axis` over which the statistic is taken will be eliminated, and the value None will no longer be accepted. Set `keepdims` to True or False to avoid this warning.\n",
      "  mode, _ = stats.mode(_y[neigh_ind, k], axis=1)\n",
      "/Users/agustin/miniforge3/envs/dssc-deep/lib/python3.10/site-packages/sklearn/neighbors/_classification.py:228: FutureWarning: Unlike other reduction functions (e.g. `skew`, `kurtosis`), the default behavior of `mode` typically preserves the axis it acts along. In SciPy 1.11.0, this behavior will change: the default value of `keepdims` will become False, the `axis` over which the statistic is taken will be eliminated, and the value None will no longer be accepted. Set `keepdims` to True or False to avoid this warning.\n",
      "  mode, _ = stats.mode(_y[neigh_ind, k], axis=1)\n"
     ]
    },
    {
     "data": {
      "text/plain": [
       "'Cross Validation scores'"
      ]
     },
     "metadata": {},
     "output_type": "display_data"
    },
    {
     "data": {
      "text/plain": [
       "'Accuracy cv=1: 50.2'"
      ]
     },
     "metadata": {},
     "output_type": "display_data"
    },
    {
     "data": {
      "text/plain": [
       "'Accuracy cv=2: 50.24'"
      ]
     },
     "metadata": {},
     "output_type": "display_data"
    },
    {
     "data": {
      "text/plain": [
       "'Accuracy cv=3: 51.31'"
      ]
     },
     "metadata": {},
     "output_type": "display_data"
    },
    {
     "data": {
      "text/plain": [
       "'Accuracy cv=4: 48.76'"
      ]
     },
     "metadata": {},
     "output_type": "display_data"
    },
    {
     "data": {
      "text/plain": [
       "'Accuracy cv=5: 48.42'"
      ]
     },
     "metadata": {},
     "output_type": "display_data"
    },
    {
     "data": {
      "text/plain": [
       "'Accuracy MEAN: 50.0'"
      ]
     },
     "metadata": {},
     "output_type": "display_data"
    },
    {
     "name": "stdout",
     "output_type": "stream",
     "text": [
      "________________________________________________________________________________\n",
      "Training: \n",
      "KNeighborsClassifier(n_neighbors=100)\n",
      "train time: 0.0014s\n"
     ]
    },
    {
     "name": "stderr",
     "output_type": "stream",
     "text": [
      "/Users/agustin/miniforge3/envs/dssc-deep/lib/python3.10/site-packages/sklearn/neighbors/_classification.py:228: FutureWarning: Unlike other reduction functions (e.g. `skew`, `kurtosis`), the default behavior of `mode` typically preserves the axis it acts along. In SciPy 1.11.0, this behavior will change: the default value of `keepdims` will become False, the `axis` over which the statistic is taken will be eliminated, and the value None will no longer be accepted. Set `keepdims` to True or False to avoid this warning.\n",
      "  mode, _ = stats.mode(_y[neigh_ind, k], axis=1)\n"
     ]
    },
    {
     "name": "stdout",
     "output_type": "stream",
     "text": [
      "test time:  0.333s\n",
      "accuracy:   0.485\n",
      "\n",
      "================================================================================\n",
      "Random Forest\n"
     ]
    },
    {
     "data": {
      "text/plain": [
       "'Cross Validation scores'"
      ]
     },
     "metadata": {},
     "output_type": "display_data"
    },
    {
     "data": {
      "text/plain": [
       "'Accuracy cv=1: 52.35'"
      ]
     },
     "metadata": {},
     "output_type": "display_data"
    },
    {
     "data": {
      "text/plain": [
       "'Accuracy cv=2: 51.71'"
      ]
     },
     "metadata": {},
     "output_type": "display_data"
    },
    {
     "data": {
      "text/plain": [
       "'Accuracy cv=3: 53.67'"
      ]
     },
     "metadata": {},
     "output_type": "display_data"
    },
    {
     "data": {
      "text/plain": [
       "'Accuracy cv=4: 51.85'"
      ]
     },
     "metadata": {},
     "output_type": "display_data"
    },
    {
     "data": {
      "text/plain": [
       "'Accuracy cv=5: 50.84'"
      ]
     },
     "metadata": {},
     "output_type": "display_data"
    },
    {
     "data": {
      "text/plain": [
       "'Accuracy MEAN: 52.0'"
      ]
     },
     "metadata": {},
     "output_type": "display_data"
    },
    {
     "name": "stdout",
     "output_type": "stream",
     "text": [
      "________________________________________________________________________________\n",
      "Training: \n",
      "RandomForestClassifier()\n",
      "train time: 3.92s\n",
      "test time:  0.221s\n",
      "accuracy:   0.476\n",
      "\n",
      "================================================================================\n",
      "Linear SVC\n"
     ]
    },
    {
     "data": {
      "text/plain": [
       "'Cross Validation scores'"
      ]
     },
     "metadata": {},
     "output_type": "display_data"
    },
    {
     "data": {
      "text/plain": [
       "'Accuracy cv=1: 51.14'"
      ]
     },
     "metadata": {},
     "output_type": "display_data"
    },
    {
     "data": {
      "text/plain": [
       "'Accuracy cv=2: 51.11'"
      ]
     },
     "metadata": {},
     "output_type": "display_data"
    },
    {
     "data": {
      "text/plain": [
       "'Accuracy cv=3: 51.45'"
      ]
     },
     "metadata": {},
     "output_type": "display_data"
    },
    {
     "data": {
      "text/plain": [
       "'Accuracy cv=4: 49.97'"
      ]
     },
     "metadata": {},
     "output_type": "display_data"
    },
    {
     "data": {
      "text/plain": [
       "'Accuracy cv=5: 50.57'"
      ]
     },
     "metadata": {},
     "output_type": "display_data"
    },
    {
     "data": {
      "text/plain": [
       "'Accuracy MEAN: 51.0'"
      ]
     },
     "metadata": {},
     "output_type": "display_data"
    },
    {
     "name": "stdout",
     "output_type": "stream",
     "text": [
      "________________________________________________________________________________\n",
      "Training: \n",
      "LinearSVC(C=0.1, dual=False)\n",
      "train time: 0.0358s\n",
      "test time:  0.000263s\n",
      "accuracy:   0.501\n",
      "dimensionality: 2426\n",
      "density: 1.0\n",
      "\n",
      "\n",
      "================================================================================\n",
      "Complement naive Bayes\n"
     ]
    },
    {
     "data": {
      "text/plain": [
       "'Cross Validation scores'"
      ]
     },
     "metadata": {},
     "output_type": "display_data"
    },
    {
     "data": {
      "text/plain": [
       "'Accuracy cv=1: 46.24'"
      ]
     },
     "metadata": {},
     "output_type": "display_data"
    },
    {
     "data": {
      "text/plain": [
       "'Accuracy cv=2: 44.18'"
      ]
     },
     "metadata": {},
     "output_type": "display_data"
    },
    {
     "data": {
      "text/plain": [
       "'Accuracy cv=3: 45.06'"
      ]
     },
     "metadata": {},
     "output_type": "display_data"
    },
    {
     "data": {
      "text/plain": [
       "'Accuracy cv=4: 43.04'"
      ]
     },
     "metadata": {},
     "output_type": "display_data"
    },
    {
     "data": {
      "text/plain": [
       "'Accuracy cv=5: 43.91'"
      ]
     },
     "metadata": {},
     "output_type": "display_data"
    },
    {
     "data": {
      "text/plain": [
       "'Accuracy MEAN: 44.0'"
      ]
     },
     "metadata": {},
     "output_type": "display_data"
    },
    {
     "name": "stdout",
     "output_type": "stream",
     "text": [
      "________________________________________________________________________________\n",
      "Training: \n",
      "ComplementNB(alpha=0.1)\n",
      "train time: 0.0031s\n",
      "test time:  0.000216s\n",
      "accuracy:   0.434\n",
      "dimensionality: 2426\n",
      "density: 1.0\n",
      "\n",
      "\n"
     ]
    },
    {
     "name": "stderr",
     "output_type": "stream",
     "text": [
      "/Users/agustin/miniforge3/envs/dssc-deep/lib/python3.10/site-packages/sklearn/utils/deprecation.py:103: FutureWarning: Attribute `coef_` was deprecated in version 0.24 and will be removed in 1.1 (renaming of 0.26).\n",
      "  warnings.warn(msg, category=FutureWarning)\n"
     ]
    }
   ],
   "source": [
    "from sklearn.linear_model import LogisticRegression\n",
    "from sklearn.svm import LinearSVC\n",
    "from sklearn.linear_model import SGDClassifier\n",
    "from sklearn.naive_bayes import ComplementNB\n",
    "from sklearn.neighbors import KNeighborsClassifier\n",
    "from sklearn.ensemble import RandomForestClassifier\n",
    "\n",
    "results = []\n",
    "for clf, name in (\n",
    "    (LogisticRegression(C=5, max_iter=1000), \"Logistic Regression\"),\n",
    "    (KNeighborsClassifier(n_neighbors=100), \"kNN\"),\n",
    "    (RandomForestClassifier(), \"Random Forest\"),\n",
    "    # L2 penalty Linear SVC\n",
    "    (LinearSVC(C=0.1, dual=False, max_iter=1000), \"Linear SVC\"),\n",
    "    # Sparse naive Bayes classifier\n",
    "    (ComplementNB(alpha=0.1), \"Complement naive Bayes\"),\n",
    "):\n",
    "    print(\"=\" * 80)\n",
    "    print(name)\n",
    "    results.append(benchmark(clf, name))"
   ]
  },
  {
   "cell_type": "code",
   "execution_count": 20,
   "id": "514c53dc-d65e-4f81-9106-650541a90b2b",
   "metadata": {},
   "outputs": [
    {
     "data": {
      "image/png": "[encoded data removed]",
      "text/plain": [
       "<Figure size 500x300 with 1 Axes>"
      ]
     },
     "metadata": {},
     "output_type": "display_data"
    },
    {
     "data": {
      "image/png": "[encoded data removed]",
      "text/plain": [
       "<Figure size 640x320 with 1 Axes>"
      ]
     },
     "metadata": {},
     "output_type": "display_data"
    },
    {
     "data": {
      "image/png": "[encoded data removed]",
      "text/plain": [
       "<Figure size 640x320 with 1 Axes>"
      ]
     },
     "metadata": {},
     "output_type": "display_data"
    }
   ],
   "source": [
    "indices = np.arange(len(results))\n",
    "\n",
    "results = [[x[i] for x in results] for i in range(5)]\n",
    "\n",
    "clf_names, score, training_time, test_time, score_cv = results\n",
    "training_time = np.array(training_time)\n",
    "test_time = np.array(test_time)\n",
    "\n",
    "# accuracy cv\n",
    "\n",
    "fig = plt.figure(figsize = (5, 3))\n",
    " \n",
    "# creating the bar plot\n",
    "ax = plt.bar(clf_names, score_cv, color ='green', width = 0.4)\n",
    "\n",
    "plt.xticks(ha='right', rotation=20, fontsize=8)\n",
    "plt.ylim(0, 1)\n",
    "plt.xlabel(\"Models\")\n",
    "plt.ylabel(\"accuracy\")\n",
    "plt.title(\"CV accuracy results\")\n",
    "plt.show()\n",
    "    \n",
    "# accuracy validation\n",
    "fig, ax1 = plt.subplots(figsize=(8, 4), dpi=80)\n",
    "ax1.scatter(score, training_time)\n",
    "ax1.set(\n",
    "    title=\"Score-training time trade-off\",\n",
    "    yscale=\"log\",\n",
    "    xlabel=\"test accuracy\",\n",
    "    ylabel=\"training time (s)\",\n",
    ")\n",
    "fig, ax2 = plt.subplots(figsize=(8, 4), dpi=80)\n",
    "ax2.scatter(score, test_time)\n",
    "ax2.set(\n",
    "    title=\"Score-test time trade-off\",\n",
    "    yscale=\"log\",\n",
    "    xlabel=\"test accuracy\",\n",
    "    ylabel=\"test time (s)\",\n",
    ")\n",
    "\n",
    "for i, txt in enumerate(clf_names):\n",
    "    ax1.annotate(txt, (score[i], training_time[i]))\n",
    "    ax2.annotate(txt, (score[i], test_time[i]))"
   ]
  },
  {
   "cell_type": "markdown",
   "id": "53cf6827-0fa7-40fb-b7d1-045ee6e74a02",
   "metadata": {},
   "source": [
    "## Regression"
   ]
  },
  {
   "cell_type": "code",
   "execution_count": 21,
   "id": "4b92762f-7f9d-41b4-841a-8506c63a579e",
   "metadata": {},
   "outputs": [],
   "source": [
    "y_train = y_train_reg\n",
    "y_test = y_test_reg"
   ]
  },
  {
   "cell_type": "code",
   "execution_count": 22,
   "id": "63214e9d-5f43-428f-8b44-ce30b841073a",
   "metadata": {},
   "outputs": [
    {
     "data": {
      "text/plain": [
       "'Cross Validation scores'"
      ]
     },
     "metadata": {},
     "output_type": "display_data"
    },
    {
     "data": {
      "text/plain": [
       "'Accuracy cv=1: -355.8'"
      ]
     },
     "metadata": {},
     "output_type": "display_data"
    },
    {
     "data": {
      "text/plain": [
       "'Accuracy cv=2: -55.71'"
      ]
     },
     "metadata": {},
     "output_type": "display_data"
    },
    {
     "data": {
      "text/plain": [
       "'Accuracy cv=3: -16.35'"
      ]
     },
     "metadata": {},
     "output_type": "display_data"
    },
    {
     "data": {
      "text/plain": [
       "'Accuracy cv=4: -57.57'"
      ]
     },
     "metadata": {},
     "output_type": "display_data"
    },
    {
     "data": {
      "text/plain": [
       "'Accuracy cv=5: -71.24'"
      ]
     },
     "metadata": {},
     "output_type": "display_data"
    },
    {
     "data": {
      "text/plain": [
       "'Accuracy MEAN: -111.00000000000001'"
      ]
     },
     "metadata": {},
     "output_type": "display_data"
    }
   ],
   "source": [
    "from sklearn import tree\n",
    "clf = tree.DecisionTreeRegressor()\n",
    "clf = clf.fit(X_train, y_train)\n",
    "\n",
    "# plot CV results\n",
    "scores = cross_val_score(clf, X_train, y_train, cv=5, scoring='r2')\n",
    "display(\"Cross Validation scores\")\n",
    "i=1\n",
    "for a in scores:\n",
    "    display(\"Accuracy cv=\" + str(i) + \": \" + str(round(a*100, 2)))\n",
    "    i = i+1\n",
    "\n",
    "display(\"Accuracy MEAN: \"+str(round(scores.mean(),2)*100))"
   ]
  },
  {
   "cell_type": "code",
   "execution_count": 65,
   "id": "ddc1f62c-8b99-4d39-bc6a-f4d217917154",
   "metadata": {},
   "outputs": [
    {
     "data": {
      "text/plain": [
       "-0.0004220411729689566"
      ]
     },
     "metadata": {},
     "output_type": "display_data"
    }
   ],
   "source": [
    "from sklearn.dummy import DummyRegressor\n",
    "from sklearn.svm import SVC\n",
    "#clf = SVC(kernel='linear', C=1).fit(X_train, y_train)\n",
    "#display(clf.score(X_test, y_test))\n",
    "\n",
    "clf = DummyRegressor(strategy=\"mean\")\n",
    "clf.fit(X_train, y_train)\n",
    "\n",
    "display(clf.score(X_test, y_test))"
   ]
  }
 ],
 "metadata": {
  "kernelspec": {
   "display_name": "Python 3 (ipykernel)",
   "language": "python",
   "name": "python3"
  },
  "language_info": {
   "codemirror_mode": {
    "name": "ipython",
    "version": 3
   },
   "file_extension": ".py",
   "mimetype": "text/x-python",
   "name": "python",
   "nbconvert_exporter": "python",
   "pygments_lexer": "ipython3",
   "version": "3.10.8"
  }
 },
 "nbformat": 4,
 "nbformat_minor": 5
}
