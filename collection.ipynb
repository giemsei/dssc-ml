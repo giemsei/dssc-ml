{
 "cells": [
  {
   "cell_type": "markdown",
   "id": "fc9fe25f-3693-41ea-8b94-f8be2b6c04ba",
   "metadata": {},
   "source": [
    "### Data Collection\n",
    "\n",
    "Tweepy is a Python library for accessing the Twitter API. Here is used to extract text from the tweets to build our dataset.\n",
    "\n",
    "First we authenticate in order to use the API."
   ]
  },
  {
   "cell_type": "code",
   "execution_count": 1,
   "id": "37b1a4c0-7855-4de7-9101-fde9dc0f1c19",
   "metadata": {},
   "outputs": [],
   "source": [
    "import tweepy\n",
    "\n",
    "bearer_token = \"AAAAAAAAAAAAAAAAAAAAAG5qjgEAAAAAtoQl%2B4SMtiyEYh%2BY4veZ%2BMoki3g%3Dpmjif22YdgqpXBjybNxWX4YxpkKhICZK3Y8adincmrwLm4aR0D\" # Twitter API\n",
    "client = tweepy.Client(bearer_token=bearer_token) # OAuth2.0 Version"
   ]
  },
  {
   "cell_type": "markdown",
   "id": "d016419c-7cbd-488d-90cf-99003c389fa3",
   "metadata": {},
   "source": [
    "Three request are made to get the tweets from the topics:\n",
    "- sport\n",
    "- politics\n",
    "- random topic."
   ]
  },
  {
   "cell_type": "code",
   "execution_count": 2,
   "id": "73958753-e378-4726-b34b-b72fbfe6a266",
   "metadata": {},
   "outputs": [],
   "source": [
    "import pandas as pd\n",
    "\n",
    "limit = 1000 # nr. tweets\n",
    "\n",
    "# request sports tweets\n",
    "query_sports = 'context:47.10050757844 -is:retweet lang:en'\n",
    "tweets_sports = tweepy.Paginator(client.search_recent_tweets, query=query_sports,\n",
    "                              tweet_fields=['text'], max_results=100).flatten(limit=limit)\n",
    "\n",
    "df_tweets_sports = pd.DataFrame([tweet.text for tweet in tweets_sports]) # convert to pandas df\n",
    "\n",
    "# request politics tweets\n",
    "query_politics = 'context:131.1291447199595782144 -is:retweet lang:en'\n",
    "tweets_politics = tweepy.Paginator(client.search_recent_tweets, query=query_politics,\n",
    "                              tweet_fields=['text'], max_results=100).flatten(limit=limit)\n",
    "\n",
    "df_tweets_politics = pd.DataFrame([tweet.text for tweet in tweets_politics]) # convert to pandas df\n",
    "\n",
    "# request random tweets\n",
    "query_random = 'a lang:en' # fix this\n",
    "tweets_random = tweepy.Paginator(client.search_recent_tweets, query=query_random,\n",
    "                              tweet_fields=['text'], max_results=100).flatten(limit=limit)\n",
    "\n",
    "df_tweets_random = pd.DataFrame([tweet.text for tweet in tweets_random]) # convert to pandas df"
   ]
  },
  {
   "cell_type": "markdown",
   "id": "7495ed8b-ff09-4dc0-99a8-8d64763b236b",
   "metadata": {},
   "source": [
    "The three groups will be the labels for each class, so in future they can be used with supervised learning.\n",
    "\n",
    "Then all the collected data is concatenated in an unique dataset and saved to a .csv file."
   ]
  },
  {
   "cell_type": "code",
   "execution_count": 3,
   "id": "31b9a0f0-39bb-4b0d-a073-de51cc08f222",
   "metadata": {},
   "outputs": [
    {
     "data": {
      "text/html": [
       "<div>\n",
       "<style scoped>\n",
       "    .dataframe tbody tr th:only-of-type {\n",
       "        vertical-align: middle;\n",
       "    }\n",
       "\n",
       "    .dataframe tbody tr th {\n",
       "        vertical-align: top;\n",
       "    }\n",
       "\n",
       "    .dataframe thead th {\n",
       "        text-align: right;\n",
       "    }\n",
       "</style>\n",
       "<table border=\"1\" class=\"dataframe\">\n",
       "  <thead>\n",
       "    <tr style=\"text-align: right;\">\n",
       "      <th></th>\n",
       "      <th>X</th>\n",
       "      <th>y</th>\n",
       "    </tr>\n",
       "  </thead>\n",
       "  <tbody>\n",
       "    <tr>\n",
       "      <th>0</th>\n",
       "      <td>Claudia makes dishonesty her trademark. https:...</td>\n",
       "      <td>1</td>\n",
       "    </tr>\n",
       "    <tr>\n",
       "      <th>1</th>\n",
       "      <td>@autumnbueno @alexbruesewitz @PapiTrumpo THAT'...</td>\n",
       "      <td>1</td>\n",
       "    </tr>\n",
       "    <tr>\n",
       "      <th>2</th>\n",
       "      <td>I used to have a nice amount in my IRA after 4...</td>\n",
       "      <td>1</td>\n",
       "    </tr>\n",
       "    <tr>\n",
       "      <th>3</th>\n",
       "      <td>@CryptoNinjaco @Starinne @DC_Draino @KariLake ...</td>\n",
       "      <td>1</td>\n",
       "    </tr>\n",
       "    <tr>\n",
       "      <th>4</th>\n",
       "      <td>https://t.co/ITCjqOVvle   EXCLUSIVE: National ...</td>\n",
       "      <td>1</td>\n",
       "    </tr>\n",
       "    <tr>\n",
       "      <th>...</th>\n",
       "      <td>...</td>\n",
       "      <td>...</td>\n",
       "    </tr>\n",
       "    <tr>\n",
       "      <th>995</th>\n",
       "      <td>Have a scary right and get connect your really...</td>\n",
       "      <td>2</td>\n",
       "    </tr>\n",
       "    <tr>\n",
       "      <th>996</th>\n",
       "      <td>A good name is earlier  y p x #推特买粉  IE R I Ll...</td>\n",
       "      <td>2</td>\n",
       "    </tr>\n",
       "    <tr>\n",
       "      <th>997</th>\n",
       "      <td>have a good sleep mark&amp;lt;3 https://t.co/ySxW9...</td>\n",
       "      <td>2</td>\n",
       "    </tr>\n",
       "    <tr>\n",
       "      <th>998</th>\n",
       "      <td>RT @anumeet_insan: @ThathSingh777 @Gurmeetramr...</td>\n",
       "      <td>2</td>\n",
       "    </tr>\n",
       "    <tr>\n",
       "      <th>999</th>\n",
       "      <td>RT @Justice78602373: The real value of setting...</td>\n",
       "      <td>2</td>\n",
       "    </tr>\n",
       "  </tbody>\n",
       "</table>\n",
       "<p>3000 rows × 2 columns</p>\n",
       "</div>"
      ],
      "text/plain": [
       "                                                     X  y\n",
       "0    Claudia makes dishonesty her trademark. https:...  1\n",
       "1    @autumnbueno @alexbruesewitz @PapiTrumpo THAT'...  1\n",
       "2    I used to have a nice amount in my IRA after 4...  1\n",
       "3    @CryptoNinjaco @Starinne @DC_Draino @KariLake ...  1\n",
       "4    https://t.co/ITCjqOVvle   EXCLUSIVE: National ...  1\n",
       "..                                                 ... ..\n",
       "995  Have a scary right and get connect your really...  2\n",
       "996  A good name is earlier  y p x #推特买粉  IE R I Ll...  2\n",
       "997  have a good sleep mark&lt;3 https://t.co/ySxW9...  2\n",
       "998  RT @anumeet_insan: @ThathSingh777 @Gurmeetramr...  2\n",
       "999  RT @Justice78602373: The real value of setting...  2\n",
       "\n",
       "[3000 rows x 2 columns]"
      ]
     },
     "metadata": {},
     "output_type": "display_data"
    }
   ],
   "source": [
    "# add label column\n",
    "df_tweets_sports['y'] = 0\n",
    "df_tweets_politics['y'] = 1\n",
    "df_tweets_random['y'] = 2\n",
    "\n",
    "\n",
    "# concatenate data by rows\n",
    "df_D = pd.concat([df_tweets_politics, df_tweets_sports, df_tweets_random], axis = 0)\n",
    "df_D = df_D.rename({0: 'X',}, axis=1) # rename features data to X\n",
    "display(df_D)"
   ]
  },
  {
   "cell_type": "code",
   "execution_count": 16,
   "id": "90f438c4-a529-46d7-973e-6a429591e78d",
   "metadata": {},
   "outputs": [],
   "source": [
    "from datetime import datetime\n",
    "current_date = datetime.today().strftime('%H:%M:%S_%d-%m-%Y')\n",
    "\n",
    "# export to csv\n",
    "df_D.to_csv(\"data/dataset_\" + current_date + \".csv\", encoding='utf-8')"
   ]
  },
  {
   "cell_type": "code",
   "execution_count": 13,
   "id": "407c25b1-f5a3-4954-b486-2b097eab64d5",
   "metadata": {},
   "outputs": [
    {
     "data": {
      "text/plain": [
       "'17:15:34_22-12-2022'"
      ]
     },
     "execution_count": 13,
     "metadata": {},
     "output_type": "execute_result"
    }
   ],
   "source": []
  }
 ],
 "metadata": {
  "kernelspec": {
   "display_name": "Python 3 (ipykernel)",
   "language": "python",
   "name": "python3"
  },
  "language_info": {
   "codemirror_mode": {
    "name": "ipython",
    "version": 3
   },
   "file_extension": ".py",
   "mimetype": "text/x-python",
   "name": "python",
   "nbconvert_exporter": "python",
   "pygments_lexer": "ipython3",
   "version": "3.10.8"
  }
 },
 "nbformat": 4,
 "nbformat_minor": 5
}
