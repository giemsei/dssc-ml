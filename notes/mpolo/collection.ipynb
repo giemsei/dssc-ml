{
 "cells": [
  {
   "cell_type": "markdown",
   "id": "79697319-a70f-4669-9981-5ef98e25f6a5",
   "metadata": {},
   "source": [
    "TODO: `search_recent_tweets` is up to 7 days. To search further back, use [search_all_tweets](https://docs.tweepy.org/en/stable/client.html#tweepy.Client.search_all_tweets) instead (and add `start_time` parameter). But it needs the [academic research access](https://developer.twitter.com/en/docs/projects). It also increases the monthly cap from 500,000 to 10 million, `max_results` from 100 to 500, and allows to use `-is:nullcast ` to filter out some ads."
   ]
  },
  {
   "cell_type": "code",
   "execution_count": 6,
   "id": "c7cb945c-5d03-4697-8c35-142a6035f687",
   "metadata": {},
   "outputs": [],
   "source": [
    "from datetime import datetime, timezone, timedelta\n",
    "from collections import defaultdict\n",
    "from time import time\n",
    "import json\n",
    "import os\n",
    "from scipy.optimize import curve_fit\n",
    "import matplotlib.pyplot as plt\n",
    "import pandas as pd\n",
    "import numpy as np\n",
    "import tweepy"
   ]
  },
  {
   "cell_type": "code",
   "execution_count": 128,
   "id": "260c740a-ea26-4923-95ba-4afd259bbe05",
   "metadata": {},
   "outputs": [
    {
     "data": {
      "text/plain": [
       "'debug_sets/634063/'"
      ]
     },
     "execution_count": 128,
     "metadata": {},
     "output_type": "execute_result"
    }
   ],
   "source": [
    "#TODO tune\n",
    "bearer_token = \"AAAAAAAAAAAAAAAAAAAAAH4BlAEAAAAA3Dd4SGtdK%2FWbAqlEdIcXzoPB4%2BA%3DwDjEbymhTQgnmvHM8Vvetae79bgdBz1eyHWSyXZVqRnCCir1nA\" #mpolo\n",
    "limit = 2 #number of requests of `max_results` tweets each\n",
    "\n",
    "#create paginator\n",
    "client = tweepy.Client(bearer_token)\n",
    "paginator = tweepy.Paginator(\n",
    "    method = client.search_recent_tweets,\n",
    "    limit = limit,\n",
    "    query = (\n",
    "        '(context:131.825047692124442624 OR context:152.825047692124442624) ' #https://github.com/twitterdev/twitter-context-annotations\n",
    "        '-is:retweet ' #only original tweets\n",
    "        '-is:reply '\n",
    "        '-is:quote '\n",
    "        '-has:links ' #no tweets with embedded images etc.\n",
    "        '-has:media '\n",
    "        'lang:en'),\n",
    "    end_time = (datetime.now(timezone.utc)-timedelta(days=6)).isoformat(), #go backwards from 6 days ago\n",
    "    expansions = ['author_id'],\n",
    "    max_results = 100,\n",
    "    tweet_fields = ['public_metrics'],\n",
    "    user_fields = ['public_metrics'])\n",
    "\n",
    "#download tweets\n",
    "data = defaultdict(list)\n",
    "for response in paginator:\n",
    "    for tweet, user in zip(response.data, response.includes['users']):\n",
    "        if tweet.author_id == user.id: #some don't match for no reason\n",
    "            data['text'] += [tweet.text]\n",
    "            data['likes'] += [tweet.public_metrics['like_count']]\n",
    "            data['followers'] += [user.public_metrics['followers_count']]\n",
    "\n",
    "#save raw tweets\n",
    "dir_ = f'debug_sets/{int(time() % 1e6)}/' #unique for 11 days\n",
    "os.makedirs(dir_)\n",
    "pd.DataFrame(data).to_csv(dir_+'dataset_raw.csv', index=False)\n",
    "with open(dir_+'metadata.json', mode='w') as fp:\n",
    "    json.dump(paginator.kwargs, fp)\n",
    "dir_"
   ]
  },
  {
   "cell_type": "code",
   "execution_count": 480,
   "id": "b7daead4-6b45-45df-8779-615127e8e879",
   "metadata": {},
   "outputs": [
    {
     "data": {
      "text/html": [
       "<div>\n",
       "<style scoped>\n",
       "    .dataframe tbody tr th:only-of-type {\n",
       "        vertical-align: middle;\n",
       "    }\n",
       "\n",
       "    .dataframe tbody tr th {\n",
       "        vertical-align: top;\n",
       "    }\n",
       "\n",
       "    .dataframe thead th {\n",
       "        text-align: right;\n",
       "    }\n",
       "</style>\n",
       "<table border=\"1\" class=\"dataframe\">\n",
       "  <thead>\n",
       "    <tr style=\"text-align: right;\">\n",
       "      <th></th>\n",
       "      <th>text</th>\n",
       "      <th>likes</th>\n",
       "      <th>followers</th>\n",
       "    </tr>\n",
       "  </thead>\n",
       "  <tbody>\n",
       "    <tr>\n",
       "      <th>9411</th>\n",
       "      <td>One of the things I committed to back in 2022 ...</td>\n",
       "      <td>1</td>\n",
       "      <td>2</td>\n",
       "    </tr>\n",
       "    <tr>\n",
       "      <th>9412</th>\n",
       "      <td>I have the flu UGH cover my lunch £20 💌</td>\n",
       "      <td>6</td>\n",
       "      <td>1079</td>\n",
       "    </tr>\n",
       "  </tbody>\n",
       "</table>\n",
       "</div>"
      ],
      "text/plain": [
       "                                                   text  likes  followers\n",
       "9411  One of the things I committed to back in 2022 ...      1          2\n",
       "9412            I have the flu UGH cover my lunch £20 💌      6       1079"
      ]
     },
     "execution_count": 480,
     "metadata": {},
     "output_type": "execute_result"
    }
   ],
   "source": [
    "#load raw tweets\n",
    "df = pd.read_csv(dir_+'dataset_raw.csv')\n",
    "\n",
    "#start likes from 1 for simplicity\n",
    "df['likes'] += 1\n",
    "df.tail(2)"
   ]
  },
  {
   "cell_type": "code",
   "execution_count": 481,
   "id": "c6bea624-1930-4b7e-94a2-631de639f4f9",
   "metadata": {},
   "outputs": [
    {
     "data": {
      "text/plain": [
       "(0.0003294263735115471, 0.21402271352257862)"
      ]
     },
     "execution_count": 481,
     "metadata": {},
     "output_type": "execute_result"
    },
    {
     "data": {
      "image/png": "[encoded data removed]",
      "text/plain": [
       "<Figure size 640x480 with 1 Axes>"
      ]
     },
     "metadata": {},
     "output_type": "display_data"
    }
   ],
   "source": [
    "#TODO tune\n",
    "q_order = 0.95 #quantile order\n",
    "num_groups = 50 #number of groups\n",
    "\n",
    "#remove outliers from data to plot\n",
    "q = df.quantile(q_order, numeric_only=True) #numeric_only to fix warning\n",
    "df_q = df[(df['likes'] < q['likes']) & (df['followers'] < q['followers'])].copy() #copy to fix warning\n",
    "\n",
    "#group by followers\n",
    "df_q.sort_values(by='followers', inplace=True, ignore_index=True)\n",
    "df_q['group'] = df_q.index//(len(df_q)/num_groups) #groups of same size\n",
    "df_q = df_q.groupby('group').mean(numeric_only=True) #numeric_only to fix warning\n",
    "\n",
    "#plot average likes vs average followers\n",
    "x = df_q['followers']\n",
    "y = df_q['likes']\n",
    "plt.scatter(x, y)\n",
    "plt.xlabel('average followers')\n",
    "plt.ylabel('average likes')\n",
    "\n",
    "#fit curve and plot it\n",
    "def curve(x, a, b):\n",
    "    return 1 + a*x + b*np.log(1+x)\n",
    "(a, b), _ = curve_fit(curve, xdata=x, ydata=y)\n",
    "plt.plot(x, curve(x, a, b))\n",
    "a, b"
   ]
  },
  {
   "cell_type": "code",
   "execution_count": 482,
   "id": "fc7bb645-9199-461f-a075-0cbdba103da8",
   "metadata": {},
   "outputs": [
    {
     "data": {
      "text/html": [
       "<div>\n",
       "<style scoped>\n",
       "    .dataframe tbody tr th:only-of-type {\n",
       "        vertical-align: middle;\n",
       "    }\n",
       "\n",
       "    .dataframe tbody tr th {\n",
       "        vertical-align: top;\n",
       "    }\n",
       "\n",
       "    .dataframe thead th {\n",
       "        text-align: right;\n",
       "    }\n",
       "</style>\n",
       "<table border=\"1\" class=\"dataframe\">\n",
       "  <thead>\n",
       "    <tr style=\"text-align: right;\">\n",
       "      <th></th>\n",
       "      <th>text</th>\n",
       "      <th>likes</th>\n",
       "      <th>followers</th>\n",
       "      <th>popularity</th>\n",
       "      <th>pop_level</th>\n",
       "    </tr>\n",
       "  </thead>\n",
       "  <tbody>\n",
       "    <tr>\n",
       "      <th>6205</th>\n",
       "      <td>Can’t get over how much I love my steam deck. ...</td>\n",
       "      <td>3</td>\n",
       "      <td>1016</td>\n",
       "      <td>1.420091</td>\n",
       "      <td>1</td>\n",
       "    </tr>\n",
       "    <tr>\n",
       "      <th>957</th>\n",
       "      <td>While dieting, please if you don't have diabet...</td>\n",
       "      <td>16</td>\n",
       "      <td>1650</td>\n",
       "      <td>5.432565</td>\n",
       "      <td>2</td>\n",
       "    </tr>\n",
       "  </tbody>\n",
       "</table>\n",
       "</div>"
      ],
      "text/plain": [
       "                                                   text  likes  followers  \\\n",
       "6205  Can’t get over how much I love my steam deck. ...      3       1016   \n",
       "957   While dieting, please if you don't have diabet...     16       1650   \n",
       "\n",
       "      popularity  pop_level  \n",
       "6205    1.420091          1  \n",
       "957     5.432565          2  "
      ]
     },
     "execution_count": 482,
     "metadata": {},
     "output_type": "execute_result"
    }
   ],
   "source": [
    "#TODO tune\n",
    "lower = 0.5 #lower bound for medium popularity\n",
    "upper = 2 #upper bound for medium popularity\n",
    "\n",
    "#get popularity by normalizing likes\n",
    "df['popularity'] = df['likes']/curve(df['followers'], a, b) #likes start from 1\n",
    "df['pop_level'] = df['popularity'].apply(lambda x: 0 if x<lower else 1 if x<upper else 2)\n",
    "\n",
    "#prevent a low pop tweet with 0 likes from being labeled as medium pop if it hasn't enough followers\n",
    "df = df[(df['likes']>1) | (1/curve(df['followers'], a, b)<lower)]\n",
    "\n",
    "#set likes back to the original values\n",
    "df_pop = df.copy() #new dataframe for robustness against multiple cell execution\n",
    "df_pop['likes'] -= 1\n",
    "\n",
    "#save tweets with popularity \n",
    "df_pop.to_csv(dir_+'dataset_pop.csv', index=False)\n",
    "df_pop.sample(2)"
   ]
  },
  {
   "cell_type": "code",
   "execution_count": null,
   "id": "54b4702f-f564-43cf-8c3b-378b910b61e6",
   "metadata": {},
   "outputs": [],
   "source": []
  }
 ],
 "metadata": {
  "kernelspec": {
   "display_name": "Python 3 (ipykernel)",
   "language": "python",
   "name": "python3"
  },
  "language_info": {
   "codemirror_mode": {
    "name": "ipython",
    "version": 3
   },
   "file_extension": ".py",
   "mimetype": "text/x-python",
   "name": "python",
   "nbconvert_exporter": "python",
   "pygments_lexer": "ipython3",
   "version": "3.10.8"
  }
 },
 "nbformat": 4,
 "nbformat_minor": 5
}
