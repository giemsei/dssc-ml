{
 "cells": [
  {
   "cell_type": "markdown",
   "id": "79697319-a70f-4669-9981-5ef98e25f6a5",
   "metadata": {},
   "source": [
    "TODO: `search_recent_tweets` is up to 7 days. To search further back, use [search_all_tweets](https://docs.tweepy.org/en/stable/client.html#tweepy.Client.search_all_tweets) instead (and add `start_time` parameter). But it needs the [academic research access](https://developer.twitter.com/en/docs/projects). It also increases the monthly cap from 500,000 to 10 million, `max_results` from 100 to 500, and allows to use `-is:nullcast ` to filter out some ads."
   ]
  },
  {
   "cell_type": "code",
   "execution_count": 26,
   "id": "c7cb945c-5d03-4697-8c35-142a6035f687",
   "metadata": {},
   "outputs": [],
   "source": [
    "from datetime import datetime, timezone, timedelta\n",
    "from collections import defaultdict\n",
    "from time import time\n",
    "import json\n",
    "import os\n",
    "from scipy.optimize import curve_fit\n",
    "import matplotlib.pyplot as plt\n",
    "import pandas as pd\n",
    "import numpy as np\n",
    "import tweepy"
   ]
  },
  {
   "cell_type": "code",
   "execution_count": 2,
   "id": "260c740a-ea26-4923-95ba-4afd259bbe05",
   "metadata": {},
   "outputs": [
    {
     "data": {
      "text/plain": [
       "'debug_sets/710527/'"
      ]
     },
     "execution_count": 2,
     "metadata": {},
     "output_type": "execute_result"
    }
   ],
   "source": [
    "#TODO tune\n",
    "bearer_token = \"AAAAAAAAAAAAAAAAAAAAAH4BlAEAAAAA3Dd4SGtdK%2FWbAqlEdIcXzoPB4%2BA%3DwDjEbymhTQgnmvHM8Vvetae79bgdBz1eyHWSyXZVqRnCCir1nA\" #mpolo\n",
    "limit = 200 #number of requests of `max_results` tweets each\n",
    "\n",
    "#create paginator\n",
    "client = tweepy.Client(bearer_token)\n",
    "paginator = tweepy.Paginator(\n",
    "    method = client.search_recent_tweets,\n",
    "    limit = limit,\n",
    "    query = (\n",
    "        '(context:131.825047692124442624 OR context:152.825047692124442624) ' #https://github.com/twitterdev/twitter-context-annotations\n",
    "        '-is:retweet ' #only original tweets\n",
    "        '-is:reply '\n",
    "        '-is:quote '\n",
    "        '-has:links ' #no tweets with embedded images etc.\n",
    "        '-has:media '\n",
    "        'lang:en'),\n",
    "    end_time = (datetime.now(timezone.utc)-timedelta(days=6)).isoformat(), #go backwards from 6 days ago\n",
    "    expansions = ['author_id'],\n",
    "    max_results = 100,\n",
    "    tweet_fields = ['public_metrics'],\n",
    "    user_fields = ['public_metrics'])\n",
    "\n",
    "#download tweets\n",
    "data = defaultdict(list)\n",
    "for response in paginator:\n",
    "    for tweet, user in zip(response.data, response.includes['users']):\n",
    "        if tweet.author_id == user.id: #some don't match for no reason\n",
    "            data['text'] += [tweet.text]\n",
    "            data['likes'] += [tweet.public_metrics['like_count']]\n",
    "            data['impressions'] += [tweet.public_metrics['impression_count']]\n",
    "            data['followers'] += [user.public_metrics['followers_count']]\n",
    "\n",
    "#save raw tweets\n",
    "dir_ = f'debug_sets/{int(time() % 1e6)}/' #unique for 11 days\n",
    "os.makedirs(dir_)\n",
    "pd.DataFrame(data).to_csv(dir_+'dataset_raw.csv', index=False)\n",
    "with open(dir_+'metadata.json', mode='w') as fp:\n",
    "    json.dump(paginator.kwargs, fp)\n",
    "dir_"
   ]
  },
  {
   "cell_type": "code",
   "execution_count": 72,
   "id": "b7daead4-6b45-45df-8779-615127e8e879",
   "metadata": {},
   "outputs": [
    {
     "data": {
      "text/html": [
       "<div>\n",
       "<style scoped>\n",
       "    .dataframe tbody tr th:only-of-type {\n",
       "        vertical-align: middle;\n",
       "    }\n",
       "\n",
       "    .dataframe tbody tr th {\n",
       "        vertical-align: top;\n",
       "    }\n",
       "\n",
       "    .dataframe thead th {\n",
       "        text-align: right;\n",
       "    }\n",
       "</style>\n",
       "<table border=\"1\" class=\"dataframe\">\n",
       "  <thead>\n",
       "    <tr style=\"text-align: right;\">\n",
       "      <th></th>\n",
       "      <th>text</th>\n",
       "      <th>likes</th>\n",
       "      <th>impressions</th>\n",
       "      <th>followers</th>\n",
       "    </tr>\n",
       "  </thead>\n",
       "  <tbody>\n",
       "    <tr>\n",
       "      <th>7803</th>\n",
       "      <td>Guinness Blonde $1.80 per oz of alcohol.  #boo...</td>\n",
       "      <td>1.0</td>\n",
       "      <td>19.0</td>\n",
       "      <td>14.0</td>\n",
       "    </tr>\n",
       "    <tr>\n",
       "      <th>7804</th>\n",
       "      <td>Fundraising to send food trucks with coffee an...</td>\n",
       "      <td>106.0</td>\n",
       "      <td>4199.0</td>\n",
       "      <td>2077.0</td>\n",
       "    </tr>\n",
       "  </tbody>\n",
       "</table>\n",
       "</div>"
      ],
      "text/plain": [
       "                                                   text  likes  impressions  \\\n",
       "7803  Guinness Blonde $1.80 per oz of alcohol.  #boo...    1.0         19.0   \n",
       "7804  Fundraising to send food trucks with coffee an...  106.0       4199.0   \n",
       "\n",
       "      followers  \n",
       "7803       14.0  \n",
       "7804     2077.0  "
      ]
     },
     "execution_count": 72,
     "metadata": {},
     "output_type": "execute_result"
    }
   ],
   "source": [
    "#load raw tweets\n",
    "df = pd.read_csv(dir_+'dataset_raw.csv')\n",
    "\n",
    "#start likes and impressions from 1 for simplicity\n",
    "df['likes'] += 1\n",
    "df['impressions'] += 1\n",
    "df.tail(2)"
   ]
  },
  {
   "cell_type": "code",
   "execution_count": 79,
   "id": "c6bea624-1930-4b7e-94a2-631de639f4f9",
   "metadata": {},
   "outputs": [
    {
     "data": {
      "text/plain": [
       "0.0007411884264423407"
      ]
     },
     "metadata": {},
     "output_type": "display_data"
    },
    {
     "data": {
      "text/plain": [
       "0.4251956098145834"
      ]
     },
     "metadata": {},
     "output_type": "display_data"
    },
    {
     "data": {
      "text/plain": [
       "0.07276196523743456"
      ]
     },
     "metadata": {},
     "output_type": "display_data"
    },
    {
     "data": {
      "text/plain": [
       "32.587028495334756"
      ]
     },
     "metadata": {},
     "output_type": "display_data"
    },
    {
     "data": {
      "image/png": "[encoded data removed]",
      "text/plain": [
       "<Figure size 640x480 with 2 Axes>"
      ]
     },
     "metadata": {},
     "output_type": "display_data"
    }
   ],
   "source": [
    "#TODO tune\n",
    "q_order = 0.99 #quantile order\n",
    "num_groups = 50 #number of groups\n",
    "\n",
    "#remove outliers from data to plot\n",
    "q = df.quantile(q_order, numeric_only=True) #numeric_only to fix warning\n",
    "df_q = df[\n",
    "    (df['likes'] < q['likes']) &\n",
    "    (df['impressions'] < q['impressions']) &\n",
    "    (df['followers'] < q['followers'])].copy() #copy to fix warning\n",
    "\n",
    "#group by followers\n",
    "df_q.sort_values(by='followers', inplace=True, ignore_index=True)\n",
    "df_q['group'] = df_q.index//(len(df_q)/num_groups) #groups of same size\n",
    "df_q = df_q.groupby('group').mean(numeric_only=True) #numeric_only to fix warning\n",
    "\n",
    "#plot average likes vs average followers\n",
    "x = df_q['followers']\n",
    "y = df_q['likes']\n",
    "fig, axs = plt.subplots(1, 2)\n",
    "axs[0].scatter(x, y)\n",
    "#axs[0].xlabel('average followers')\n",
    "#axs[0].ylabel('average likes')\n",
    "\n",
    "#fit curve and plot it\n",
    "def curve(x, a, b):\n",
    "    return 1 + a*x + b*np.log(1+x)\n",
    "(a, b), _ = curve_fit(curve, xdata=x, ydata=y)\n",
    "axs[0].plot(x, curve(x, a, b))\n",
    "display(a, b)\n",
    "\n",
    "#plot average impressions vs average followers\n",
    "y = df_q['impressions']\n",
    "axs[1].scatter(x, y)\n",
    "#axs[1].xlabel('average followers')\n",
    "#axs[1].ylabel('average likes')\n",
    "\n",
    "#fit curve and plot it\n",
    "def curve(x, c, d):\n",
    "    return 1 + c*x + d*np.log(1+x)\n",
    "(c, d), _ = curve_fit(curve, xdata=x, ydata=y)\n",
    "axs[1].plot(x, curve(x, c, d))\n",
    "display(c, d)"
   ]
  },
  {
   "cell_type": "code",
   "execution_count": 78,
   "id": "fc7bb645-9199-461f-a075-0cbdba103da8",
   "metadata": {},
   "outputs": [
    {
     "data": {
      "text/html": [
       "<div>\n",
       "<style scoped>\n",
       "    .dataframe tbody tr th:only-of-type {\n",
       "        vertical-align: middle;\n",
       "    }\n",
       "\n",
       "    .dataframe tbody tr th {\n",
       "        vertical-align: top;\n",
       "    }\n",
       "\n",
       "    .dataframe thead th {\n",
       "        text-align: right;\n",
       "    }\n",
       "</style>\n",
       "<table border=\"1\" class=\"dataframe\">\n",
       "  <thead>\n",
       "    <tr style=\"text-align: right;\">\n",
       "      <th></th>\n",
       "      <th>text</th>\n",
       "      <th>likes</th>\n",
       "      <th>impressions</th>\n",
       "      <th>followers</th>\n",
       "      <th>like_pop</th>\n",
       "      <th>like_pop_level</th>\n",
       "      <th>impr_pop</th>\n",
       "      <th>impr_pop_level</th>\n",
       "    </tr>\n",
       "  </thead>\n",
       "  <tbody>\n",
       "    <tr>\n",
       "      <th>7528</th>\n",
       "      <td>Breakfast at the redneck corral, the farmers m...</td>\n",
       "      <td>1.0</td>\n",
       "      <td>84.0</td>\n",
       "      <td>136.0</td>\n",
       "      <td>0.939334</td>\n",
       "      <td>1</td>\n",
       "      <td>0.910766</td>\n",
       "      <td>1</td>\n",
       "    </tr>\n",
       "    <tr>\n",
       "      <th>5031</th>\n",
       "      <td>“Having a yummy lunch along with great coffee....</td>\n",
       "      <td>0.0</td>\n",
       "      <td>13.0</td>\n",
       "      <td>228.0</td>\n",
       "      <td>0.439146</td>\n",
       "      <td>0</td>\n",
       "      <td>0.130672</td>\n",
       "      <td>0</td>\n",
       "    </tr>\n",
       "  </tbody>\n",
       "</table>\n",
       "</div>"
      ],
      "text/plain": [
       "                                                   text  likes  impressions  \\\n",
       "7528  Breakfast at the redneck corral, the farmers m...    1.0         84.0   \n",
       "5031  “Having a yummy lunch along with great coffee....    0.0         13.0   \n",
       "\n",
       "      followers  like_pop  like_pop_level  impr_pop  impr_pop_level  \n",
       "7528      136.0  0.939334               1  0.910766               1  \n",
       "5031      228.0  0.439146               0  0.130672               0  "
      ]
     },
     "execution_count": 78,
     "metadata": {},
     "output_type": "execute_result"
    }
   ],
   "source": [
    "#TODO tune\n",
    "lower = 0.5 #lower bound for medium popularity\n",
    "upper = 2 #upper bound for medium popularity\n",
    "\n",
    "#get popularity by normalizing metrics\n",
    "df['like_pop'] = df['likes']/curve(df['followers'], a, b) #likes starts from 1\n",
    "df['like_pop_level'] = df['like_pop'].apply(lambda x: 0 if x<lower else 1 if x<upper else 2)\n",
    "df['impr_pop'] = df['impressions']/curve(df['followers'], c, d) #impressions starts from 1\n",
    "df['impr_pop_level'] = df['impr_pop'].apply(lambda x: 0 if x<lower else 1 if x<upper else 2)\n",
    "\n",
    "#prevent a low pop tweet with 0 likes from being labeled as medium pop if it hasn't enough followers\n",
    "df = df[(df['likes']>1) | (1/curve(df['followers'], a, b)<lower)]\n",
    "#prevent a low pop tweet with 0 impressions from being labeled as medium pop if it hasn't enough followers\n",
    "df = df[(df['impressions']>1) | (1/curve(df['followers'], a, b)<lower)]\n",
    "\n",
    "#set likes and impressions back to the original values #TODO\n",
    "df_pop = df.copy() #new dataframe for robustness against multiple cell execution\n",
    "df_pop['likes'] -= 1\n",
    "df_pop['impressions'] -= 1\n",
    "\n",
    "#save tweets with popularity \n",
    "df_pop.to_csv(dir_+'dataset_pop.csv', index=False)\n",
    "df_pop.sample(2)"
   ]
  },
  {
   "cell_type": "code",
   "execution_count": null,
   "id": "281ab957-4265-48c0-8a98-6fc2e97f90e1",
   "metadata": {},
   "outputs": [],
   "source": []
  }
 ],
 "metadata": {
  "kernelspec": {
   "display_name": "Python 3 (ipykernel)",
   "language": "python",
   "name": "python3"
  },
  "language_info": {
   "codemirror_mode": {
    "name": "ipython",
    "version": 3
   },
   "file_extension": ".py",
   "mimetype": "text/x-python",
   "name": "python",
   "nbconvert_exporter": "python",
   "pygments_lexer": "ipython3",
   "version": "3.10.8"
  }
 },
 "nbformat": 4,
 "nbformat_minor": 5
}
