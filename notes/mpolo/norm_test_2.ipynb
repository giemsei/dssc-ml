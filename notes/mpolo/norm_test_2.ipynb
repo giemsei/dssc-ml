{
 "cells": [
  {
   "cell_type": "code",
   "execution_count": 134,
   "id": "c7cb945c-5d03-4697-8c35-142a6035f687",
   "metadata": {},
   "outputs": [],
   "source": [
    "from datetime import datetime, timedelta\n",
    "from collections import defaultdict\n",
    "from time import time\n",
    "import os\n",
    "import matplotlib.pyplot as plt\n",
    "import pandas as pd\n",
    "import tweepy"
   ]
  },
  {
   "cell_type": "code",
   "execution_count": 135,
   "id": "09a7e112-7148-4ef2-a5ae-7c260d339b79",
   "metadata": {},
   "outputs": [],
   "source": [
    "#inputs\n",
    "bearer_token = \"AAAAAAAAAAAAAAAAAAAAAH4BlAEAAAAA3Dd4SGtdK%2FWbAqlEdIcXzoPB4%2BA%3DwDjEbymhTQgnmvHM8Vvetae79bgdBz1eyHWSyXZVqRnCCir1nA\" #mpolo\n",
    "limit = 2 #number of requests of `max_results` tweets each"
   ]
  },
  {
   "cell_type": "code",
   "execution_count": 137,
   "id": "260c740a-ea26-4923-95ba-4afd259bbe05",
   "metadata": {},
   "outputs": [
    {
     "data": {
      "text/plain": [
       "394387"
      ]
     },
     "execution_count": 137,
     "metadata": {},
     "output_type": "execute_result"
    }
   ],
   "source": [
    "#create paginator\n",
    "client = tweepy.Client(bearer_token)\n",
    "paginator = tweepy.Paginator( #TODO vedi come filtrare via tutti i tweet con media file\n",
    "    method=client.search_recent_tweets,\n",
    "    limit=limit,\n",
    "    query=(\n",
    "        '(context:131.825047692124442624 OR context:152.825047692124442624) ' #https://github.com/twitterdev/twitter-context-annotations\n",
    "        '-is:retweet ' #TODO check and search doc for other usefull operators\n",
    "        'lang:en'),\n",
    "    end_time=datetime.utcnow()-timedelta(days=6), #go backwards starting from 6 days ago\n",
    "    expansions=['author_id'], #TODO search doc for other usefull expansions\n",
    "    max_results=10, #TODO 100 after debugging (500 if academic research access)\n",
    "    sort_order=None, #'recency' (default, most recent first) or 'relevancy' TODO test\n",
    "    tweet_fields=['public_metrics'], #TODO search doc for other usefull tweet fields\n",
    "    user_fields=['public_metrics']) #TODO search doc for usefull user fields\n",
    "\n",
    "#download tweets\n",
    "data = defaultdict(list)\n",
    "for response in paginator:\n",
    "    for tweet, user in zip(response.data, response.includes['users']):\n",
    "        data['text'] += [tweet.text]\n",
    "        data['likes'] += [tweet.public_metrics['like_count']]\n",
    "        data['followers'] += [user.public_metrics['followers_count']]\n",
    "        \n",
    "#save tweets\n",
    "os.makedirs('debug_sets', exist_ok=True)\n",
    "set_id = int(time() % 1e6) #unique for 11 days\n",
    "pd.DataFrame(data).to_csv(f'debug_sets/{set_id}.csv', index=False)\n",
    "set_id"
   ]
  },
  {
   "cell_type": "markdown",
   "id": "79697319-a70f-4669-9981-5ef98e25f6a5",
   "metadata": {},
   "source": [
    "TODO `search_recent_tweets` is up to 7 days. To search further back, use [search_all_tweets](https://docs.tweepy.org/en/stable/client.html#tweepy.Client.search_all_tweets) instead (and add `start_time` parameter). But it needs the [academic research access](https://developer.twitter.com/en/docs/projects). It also increases the monthly cap from 500,000 to 10 million."
   ]
  },
  {
   "cell_type": "code",
   "execution_count": 138,
   "id": "b7daead4-6b45-45df-8779-615127e8e879",
   "metadata": {},
   "outputs": [
    {
     "data": {
      "text/html": [
       "<div>\n",
       "<style scoped>\n",
       "    .dataframe tbody tr th:only-of-type {\n",
       "        vertical-align: middle;\n",
       "    }\n",
       "\n",
       "    .dataframe tbody tr th {\n",
       "        vertical-align: top;\n",
       "    }\n",
       "\n",
       "    .dataframe thead th {\n",
       "        text-align: right;\n",
       "    }\n",
       "</style>\n",
       "<table border=\"1\" class=\"dataframe\">\n",
       "  <thead>\n",
       "    <tr style=\"text-align: right;\">\n",
       "      <th></th>\n",
       "      <th>text</th>\n",
       "      <th>likes</th>\n",
       "      <th>followers</th>\n",
       "    </tr>\n",
       "  </thead>\n",
       "  <tbody>\n",
       "    <tr>\n",
       "      <th>0</th>\n",
       "      <td>Aside from that lunch, it’s been water, water,...</td>\n",
       "      <td>0</td>\n",
       "      <td>313</td>\n",
       "    </tr>\n",
       "    <tr>\n",
       "      <th>1</th>\n",
       "      <td>Coronado Brewing Announces Major Additions to ...</td>\n",
       "      <td>1</td>\n",
       "      <td>12575</td>\n",
       "    </tr>\n",
       "  </tbody>\n",
       "</table>\n",
       "</div>"
      ],
      "text/plain": [
       "                                                text  likes  followers\n",
       "0  Aside from that lunch, it’s been water, water,...      0        313\n",
       "1  Coronado Brewing Announces Major Additions to ...      1      12575"
      ]
     },
     "execution_count": 138,
     "metadata": {},
     "output_type": "execute_result"
    }
   ],
   "source": [
    "#load tweets\n",
    "df = pd.read_csv(f'debug_sets/{set_id}.csv')\n",
    "df.head(2)"
   ]
  },
  {
   "cell_type": "markdown",
   "id": "43eac3dc-a8f7-4f81-8046-d52826521fda",
   "metadata": {},
   "source": [
    "# ADJUST BELOW"
   ]
  },
  {
   "cell_type": "code",
   "execution_count": null,
   "id": "2438cac2-4c50-43c2-9286-dd72310eddf0",
   "metadata": {},
   "outputs": [],
   "source": [
    "#between: https://stackoverflow.com/a/67711603\n",
    "\n",
    "splits = [df_tweets[df_tweets['followers'].between(200*i, 200*(i+1), inclusive='left')] for i in range(10)]\n",
    "for i, split in enumerate(splits):\n",
    "    split['range'] = i\n",
    "df = pd.concat(splits)\n",
    "df = df.groupby(df['range']).mean() #poi mean quando trovi range significativi\n",
    "df"
   ]
  },
  {
   "cell_type": "code",
   "execution_count": 19,
   "id": "eb9aad46-b946-4373-b063-56a006cadce7",
   "metadata": {},
   "outputs": [
    {
     "data": {
      "text/plain": [
       "<matplotlib.collections.PathCollection at 0x7fbf56b65cc0>"
      ]
     },
     "execution_count": 19,
     "metadata": {},
     "output_type": "execute_result"
    },
    {
     "data": {
      "image/png": "[encoded data removed]",
      "text/plain": [
       "<Figure size 640x480 with 1 Axes>"
      ]
     },
     "metadata": {},
     "output_type": "display_data"
    }
   ],
   "source": [
    "plt.scatter(df.index, df['likes'])"
   ]
  },
  {
   "cell_type": "code",
   "execution_count": null,
   "id": "a40251e1-6210-4b84-b8f8-1e06b886321f",
   "metadata": {},
   "outputs": [],
   "source": []
  },
  {
   "cell_type": "code",
   "execution_count": null,
   "id": "379cf3e6-1988-4c61-96a4-93c2af81b9dd",
   "metadata": {},
   "outputs": [],
   "source": []
  },
  {
   "cell_type": "code",
   "execution_count": null,
   "id": "7aa67108-29b9-4391-b8bf-de1c19785cbf",
   "metadata": {},
   "outputs": [],
   "source": []
  }
 ],
 "metadata": {
  "kernelspec": {
   "display_name": "Python 3 (ipykernel)",
   "language": "python",
   "name": "python3"
  },
  "language_info": {
   "codemirror_mode": {
    "name": "ipython",
    "version": 3
   },
   "file_extension": ".py",
   "mimetype": "text/x-python",
   "name": "python",
   "nbconvert_exporter": "python",
   "pygments_lexer": "ipython3",
   "version": "3.10.8"
  }
 },
 "nbformat": 4,
 "nbformat_minor": 5
}
