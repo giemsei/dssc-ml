{
 "cells": [
  {
   "cell_type": "code",
   "execution_count": 6,
   "id": "c7cb945c-5d03-4697-8c35-142a6035f687",
   "metadata": {},
   "outputs": [],
   "source": [
    "from datetime import datetime, timezone, timedelta\n",
    "from collections import defaultdict\n",
    "from time import time\n",
    "import json\n",
    "import os\n",
    "from scipy.optimize import curve_fit\n",
    "import matplotlib.pyplot as plt\n",
    "import pandas as pd\n",
    "import numpy as np\n",
    "import tweepy"
   ]
  },
  {
   "cell_type": "code",
   "execution_count": 7,
   "id": "09a7e112-7148-4ef2-a5ae-7c260d339b79",
   "metadata": {},
   "outputs": [],
   "source": [
    "#inputs\n",
    "bearer_token = \"AAAAAAAAAAAAAAAAAAAAAH4BlAEAAAAA3Dd4SGtdK%2FWbAqlEdIcXzoPB4%2BA%3DwDjEbymhTQgnmvHM8Vvetae79bgdBz1eyHWSyXZVqRnCCir1nA\" #mpolo\n",
    "limit = 2 #number of requests of `max_results` tweets each"
   ]
  },
  {
   "cell_type": "markdown",
   "id": "79697319-a70f-4669-9981-5ef98e25f6a5",
   "metadata": {},
   "source": [
    "TODO: `search_recent_tweets` is up to 7 days. To search further back, use [search_all_tweets](https://docs.tweepy.org/en/stable/client.html#tweepy.Client.search_all_tweets) instead (and add `start_time` parameter). But it needs the [academic research access](https://developer.twitter.com/en/docs/projects). It also increases the monthly cap from 500,000 to 10 million, `max_results` from 100 to 500, and allows to use `-is:nullcast ` to filter out some ads."
   ]
  },
  {
   "cell_type": "code",
   "execution_count": 8,
   "id": "260c740a-ea26-4923-95ba-4afd259bbe05",
   "metadata": {},
   "outputs": [
    {
     "data": {
      "text/plain": [
       "'debug_sets/619688/'"
      ]
     },
     "execution_count": 8,
     "metadata": {},
     "output_type": "execute_result"
    }
   ],
   "source": [
    "#create paginator\n",
    "client = tweepy.Client(bearer_token)\n",
    "paginator = tweepy.Paginator(\n",
    "    method = client.search_recent_tweets,\n",
    "    limit = limit,\n",
    "    query = (\n",
    "        '(context:131.825047692124442624 OR context:152.825047692124442624) ' #https://github.com/twitterdev/twitter-context-annotations\n",
    "        '-is:retweet ' #only original tweets\n",
    "        '-is:reply '\n",
    "        '-is:quote '\n",
    "        '-has:links ' #no tweets with embedded images etc.\n",
    "        '-has:media '\n",
    "        'lang:en'),\n",
    "    end_time = (datetime.now(timezone.utc)-timedelta(days=6)).isoformat(), #go backwards from 6 days ago\n",
    "    expansions = ['author_id'], #TODO search doc for other usefull expansions\n",
    "    max_results = 100,\n",
    "    tweet_fields = ['public_metrics'], #TODO search doc for other usefull tweet fields\n",
    "    user_fields = ['public_metrics']) #TODO search doc for other usefull user fields\n",
    "\n",
    "#download tweets\n",
    "data = defaultdict(list)\n",
    "for response in paginator:\n",
    "    for tweet, user in zip(response.data, response.includes['users']):\n",
    "        if tweet.author_id == user.id: #some don't match for no reason\n",
    "            data['text'] += [tweet.text]\n",
    "            data['likes'] += [tweet.public_metrics['like_count']]\n",
    "            data['followers'] += [user.public_metrics['followers_count']]\n",
    "\n",
    "#save tweets\n",
    "dir_ = f'debug_sets/{int(time() % 1e6)}/' #unique for 11 days\n",
    "os.makedirs(dir_)\n",
    "pd.DataFrame(data).to_csv(dir_+'dataset.csv', index=False)\n",
    "with open(dir_+'metadata.json', mode='w') as fp:\n",
    "    json.dump(paginator.kwargs, fp)\n",
    "dir_"
   ]
  },
  {
   "cell_type": "code",
   "execution_count": 57,
   "id": "b7daead4-6b45-45df-8779-615127e8e879",
   "metadata": {},
   "outputs": [
    {
     "data": {
      "text/html": [
       "<div>\n",
       "<style scoped>\n",
       "    .dataframe tbody tr th:only-of-type {\n",
       "        vertical-align: middle;\n",
       "    }\n",
       "\n",
       "    .dataframe tbody tr th {\n",
       "        vertical-align: top;\n",
       "    }\n",
       "\n",
       "    .dataframe thead th {\n",
       "        text-align: right;\n",
       "    }\n",
       "</style>\n",
       "<table border=\"1\" class=\"dataframe\">\n",
       "  <thead>\n",
       "    <tr style=\"text-align: right;\">\n",
       "      <th></th>\n",
       "      <th>text</th>\n",
       "      <th>likes</th>\n",
       "      <th>followers</th>\n",
       "    </tr>\n",
       "  </thead>\n",
       "  <tbody>\n",
       "    <tr>\n",
       "      <th>9074</th>\n",
       "      <td>Issit weird that I prefer having hot drinks in...</td>\n",
       "      <td>11</td>\n",
       "      <td>5566</td>\n",
       "    </tr>\n",
       "    <tr>\n",
       "      <th>9075</th>\n",
       "      <td>this is a lunch's menu, Stewed Chicken🍗, sever...</td>\n",
       "      <td>1</td>\n",
       "      <td>32</td>\n",
       "    </tr>\n",
       "  </tbody>\n",
       "</table>\n",
       "</div>"
      ],
      "text/plain": [
       "                                                   text  likes  followers\n",
       "9074  Issit weird that I prefer having hot drinks in...     11       5566\n",
       "9075  this is a lunch's menu, Stewed Chicken🍗, sever...      1         32"
      ]
     },
     "execution_count": 57,
     "metadata": {},
     "output_type": "execute_result"
    }
   ],
   "source": [
    "#load tweets\n",
    "df = pd.read_csv(dir_+'dataset.csv')\n",
    "df['likes'] += 1 #start likes from 1 for simplicity\n",
    "df['followers'] += 1 #start followers from 1 for simplicity\n",
    "df.tail(2)"
   ]
  },
  {
   "cell_type": "code",
   "execution_count": 67,
   "id": "c6bea624-1930-4b7e-94a2-631de639f4f9",
   "metadata": {},
   "outputs": [
    {
     "data": {
      "text/plain": [
       "(0.00038013004165193397, 0.21627973459819225)"
      ]
     },
     "execution_count": 67,
     "metadata": {},
     "output_type": "execute_result"
    },
    {
     "data": {
      "image/png": "[encoded data removed]",
      "text/plain": [
       "<Figure size 640x480 with 1 Axes>"
      ]
     },
     "metadata": {},
     "output_type": "display_data"
    }
   ],
   "source": [
    "#remove outliers TODO tune q (eg.: 0.95)\n",
    "q = df.quantile(0.95, numeric_only=True) #numeric_only to fix warning\n",
    "df_q = df[(df['likes'] < q['likes']) & (df['followers'] < q['followers'])].copy() #copy to fix warning\n",
    "\n",
    "#group by followers TODO tune number of groups (eg.: 50)\n",
    "df_q.sort_values(by='followers', inplace=True, ignore_index=True)\n",
    "df_q['group'] = df_q.index//(len(df_q)/50) #groups of same size\n",
    "df_q = df_q.groupby('group').mean(numeric_only=True) #numeric_only to fix warning\n",
    "\n",
    "#plot average followers vs average likes\n",
    "x = df_q['followers']\n",
    "y = df_q['likes']\n",
    "plt.scatter(x, y)\n",
    "\n",
    "#fit curve and plot it\n",
    "def curve(x, a, b):\n",
    "    return 1 + a*x + b*np.log(x) #both followers and likes start from 1\n",
    "(a, b), _ = curve_fit(curve, xdata=x, ydata=y)\n",
    "plt.plot(x, curve(x, a, b))\n",
    "a, b"
   ]
  },
  {
   "cell_type": "code",
   "execution_count": 82,
   "id": "fc7bb645-9199-461f-a075-0cbdba103da8",
   "metadata": {},
   "outputs": [
    {
     "data": {
      "text/html": [
       "<div>\n",
       "<style scoped>\n",
       "    .dataframe tbody tr th:only-of-type {\n",
       "        vertical-align: middle;\n",
       "    }\n",
       "\n",
       "    .dataframe tbody tr th {\n",
       "        vertical-align: top;\n",
       "    }\n",
       "\n",
       "    .dataframe thead th {\n",
       "        text-align: right;\n",
       "    }\n",
       "</style>\n",
       "<table border=\"1\" class=\"dataframe\">\n",
       "  <thead>\n",
       "    <tr style=\"text-align: right;\">\n",
       "      <th></th>\n",
       "      <th>text</th>\n",
       "      <th>likes</th>\n",
       "      <th>followers</th>\n",
       "      <th>popularity</th>\n",
       "      <th>pop_level</th>\n",
       "    </tr>\n",
       "  </thead>\n",
       "  <tbody>\n",
       "    <tr>\n",
       "      <th>5111</th>\n",
       "      <td>Note to self: don’t eat two steaks, AND a frie...</td>\n",
       "      <td>8</td>\n",
       "      <td>320</td>\n",
       "      <td>3.376649</td>\n",
       "      <td>2</td>\n",
       "    </tr>\n",
       "    <tr>\n",
       "      <th>7735</th>\n",
       "      <td>Leftover brown stew chicken 🥰🥰🥰🥰🥰 The place we...</td>\n",
       "      <td>2</td>\n",
       "      <td>1566</td>\n",
       "      <td>0.627688</td>\n",
       "      <td>1</td>\n",
       "    </tr>\n",
       "  </tbody>\n",
       "</table>\n",
       "</div>"
      ],
      "text/plain": [
       "                                                   text  likes  followers  \\\n",
       "5111  Note to self: don’t eat two steaks, AND a frie...      8        320   \n",
       "7735  Leftover brown stew chicken 🥰🥰🥰🥰🥰 The place we...      2       1566   \n",
       "\n",
       "      popularity  pop_level  \n",
       "5111    3.376649          2  \n",
       "7735    0.627688          1  "
      ]
     },
     "execution_count": 82,
     "metadata": {},
     "output_type": "execute_result"
    }
   ],
   "source": [
    "#get popularity by normalizing likes\n",
    "df['popularity'] = df['likes']/curve(df['followers'], a, b)\n",
    "\n",
    "#assign popularity level\n",
    "df['pop_level'] = df['popularity'].apply(lambda x: 0 if x<0.5 else 1 if x<2 else 2)\n",
    "df.sample(2)"
   ]
  },
  {
   "cell_type": "markdown",
   "id": "7b053b7b-c026-47ec-8bb4-54dc5fb58f6a",
   "metadata": {},
   "source": [
    "TODO imo vedi grafico sopra (quello dove fitti il log) e vedi a quanti follower ci si aspetta almeno un like (2 visto che uno lo hai regalato). Elimina tutti i tweet con zero like  (1 visto che...) e meno follower perché non danno informazioni.\n",
    "Cioè se ha pochissimi follower e cmq 2 like allora sai che buono, ma se ha 1 like e boh tipo 20 follower non puoi dire che il tweet fa schifo visto che non ci si aspetta più like comunque. Cioè son praticamente delle osservazioni senza label e quindi vanno tolte. Pensa anche a 1 like e 1 follower (entrambi regalati), viene popularity 1 cioé nella media ma in verità non si può giudicare. O forse boh van bene lo stesso perché spostano gli altri (cioé fanno scalare di classe quelli con stesso numero di like e più follower, che ci sta). pensaci. intanto lasciali per semplicità"
   ]
  },
  {
   "cell_type": "code",
   "execution_count": null,
   "id": "f5f0d84a-089b-441d-8bb5-a1a124c17056",
   "metadata": {},
   "outputs": [],
   "source": [
    "\"\"\"\n",
    "set_id = 000000\n",
    "df[['text', 'pop_level']].to_csv(f'debug_set_{set_id}.csv', index=False)\n",
    "df = pd.read_csv(f'debug_set_{set_id}.csv')\n",
    "df\n",
    "#\"\"\""
   ]
  }
 ],
 "metadata": {
  "kernelspec": {
   "display_name": "Python 3 (ipykernel)",
   "language": "python",
   "name": "python3"
  },
  "language_info": {
   "codemirror_mode": {
    "name": "ipython",
    "version": 3
   },
   "file_extension": ".py",
   "mimetype": "text/x-python",
   "name": "python",
   "nbconvert_exporter": "python",
   "pygments_lexer": "ipython3",
   "version": "3.10.8"
  }
 },
 "nbformat": 4,
 "nbformat_minor": 5
}
