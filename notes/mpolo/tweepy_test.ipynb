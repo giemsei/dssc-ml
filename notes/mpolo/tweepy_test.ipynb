{
 "cells": [
  {
   "cell_type": "code",
   "execution_count": 320,
   "id": "c7cb945c-5d03-4697-8c35-142a6035f687",
   "metadata": {},
   "outputs": [],
   "source": [
    "from datetime import datetime, timedelta\n",
    "from collections import defaultdict\n",
    "from time import time\n",
    "import os\n",
    "from scipy.optimize import curve_fit\n",
    "import matplotlib.pyplot as plt\n",
    "import pandas as pd\n",
    "import numpy as np\n",
    "import tweepy"
   ]
  },
  {
   "cell_type": "code",
   "execution_count": 2,
   "id": "09a7e112-7148-4ef2-a5ae-7c260d339b79",
   "metadata": {},
   "outputs": [],
   "source": [
    "#inputs\n",
    "bearer_token = \"AAAAAAAAAAAAAAAAAAAAAH4BlAEAAAAA3Dd4SGtdK%2FWbAqlEdIcXzoPB4%2BA%3DwDjEbymhTQgnmvHM8Vvetae79bgdBz1eyHWSyXZVqRnCCir1nA\" #mpolo\n",
    "limit = 2 #number of requests of `max_results` tweets each"
   ]
  },
  {
   "cell_type": "code",
   "execution_count": 3,
   "id": "260c740a-ea26-4923-95ba-4afd259bbe05",
   "metadata": {},
   "outputs": [
    {
     "data": {
      "text/plain": [
       "409165"
      ]
     },
     "execution_count": 3,
     "metadata": {},
     "output_type": "execute_result"
    }
   ],
   "source": [
    "#create paginator\n",
    "client = tweepy.Client(bearer_token)\n",
    "paginator = tweepy.Paginator( #TODO vedi come filtrare via tutti i tweet con media file\n",
    "    method=client.search_recent_tweets,\n",
    "    limit=limit,\n",
    "    query=(\n",
    "        '(context:131.825047692124442624 OR context:152.825047692124442624) ' #https://github.com/twitterdev/twitter-context-annotations\n",
    "        '-is:retweet ' #TODO check and search doc for other usefull operators\n",
    "        'lang:en'),\n",
    "    end_time=datetime.utcnow()-timedelta(days=6), #go backwards starting from 6 days ago\n",
    "    expansions=['author_id'], #TODO search doc for other usefull expansions\n",
    "    max_results=100, #500 if academic research access\n",
    "    tweet_fields=['public_metrics'], #TODO search doc for other usefull tweet fields\n",
    "    user_fields=['public_metrics']) #TODO search doc for usefull user fields\n",
    "\n",
    "#download tweets\n",
    "data = defaultdict(list)\n",
    "for response in paginator:\n",
    "    for tweet, user in zip(response.data, response.includes['users']):\n",
    "        if tweet.author_id == user.id: #some don't match for no reason\n",
    "            data['text'] += [tweet.text]\n",
    "            data['likes'] += [tweet.public_metrics['like_count']]\n",
    "            data['followers'] += [user.public_metrics['followers_count']]\n",
    "\n",
    "#save tweets\n",
    "os.makedirs('debug_sets', exist_ok=True)\n",
    "set_id = int(time() % 1e6) #unique for 11 days\n",
    "pd.DataFrame(data).to_csv(f'debug_sets/{set_id}.csv', index=False)\n",
    "set_id"
   ]
  },
  {
   "cell_type": "markdown",
   "id": "79697319-a70f-4669-9981-5ef98e25f6a5",
   "metadata": {},
   "source": [
    "TODO `search_recent_tweets` is up to 7 days. To search further back, use [search_all_tweets](https://docs.tweepy.org/en/stable/client.html#tweepy.Client.search_all_tweets) instead (and add `start_time` parameter). But it needs the [academic research access](https://developer.twitter.com/en/docs/projects). It also increases the monthly cap from 500,000 to 10 million."
   ]
  },
  {
   "cell_type": "code",
   "execution_count": 393,
   "id": "b7daead4-6b45-45df-8779-615127e8e879",
   "metadata": {},
   "outputs": [
    {
     "data": {
      "text/html": [
       "<div>\n",
       "<style scoped>\n",
       "    .dataframe tbody tr th:only-of-type {\n",
       "        vertical-align: middle;\n",
       "    }\n",
       "\n",
       "    .dataframe tbody tr th {\n",
       "        vertical-align: top;\n",
       "    }\n",
       "\n",
       "    .dataframe thead th {\n",
       "        text-align: right;\n",
       "    }\n",
       "</style>\n",
       "<table border=\"1\" class=\"dataframe\">\n",
       "  <thead>\n",
       "    <tr style=\"text-align: right;\">\n",
       "      <th></th>\n",
       "      <th>text</th>\n",
       "      <th>likes</th>\n",
       "      <th>followers</th>\n",
       "    </tr>\n",
       "  </thead>\n",
       "  <tbody>\n",
       "    <tr>\n",
       "      <th>0</th>\n",
       "      <td>I guess I had too much soju and ume on a weekd...</td>\n",
       "      <td>0.0</td>\n",
       "      <td>39.0</td>\n",
       "    </tr>\n",
       "    <tr>\n",
       "      <th>1</th>\n",
       "      <td>Egyptian rice, tuna, ground beef, onions, and ...</td>\n",
       "      <td>2.0</td>\n",
       "      <td>90.0</td>\n",
       "    </tr>\n",
       "  </tbody>\n",
       "</table>\n",
       "</div>"
      ],
      "text/plain": [
       "                                                text  likes  followers\n",
       "0  I guess I had too much soju and ume on a weekd...    0.0       39.0\n",
       "1  Egyptian rice, tuna, ground beef, onions, and ...    2.0       90.0"
      ]
     },
     "execution_count": 393,
     "metadata": {},
     "output_type": "execute_result"
    }
   ],
   "source": [
    "#load tweets\n",
    "set_id = 407729\n",
    "df = pd.read_csv(f'debug_sets/{set_id}.csv')\n",
    "df = df[df['followers'] > 0] #drop those without followers\n",
    "df.head(2)"
   ]
  },
  {
   "cell_type": "code",
   "execution_count": 394,
   "id": "c6bea624-1930-4b7e-94a2-631de639f4f9",
   "metadata": {},
   "outputs": [
    {
     "data": {
      "text/plain": [
       "array([0.21254942])"
      ]
     },
     "execution_count": 394,
     "metadata": {},
     "output_type": "execute_result"
    },
    {
     "data": {
      "image/png": "[encoded data removed]",
      "text/plain": [
       "<Figure size 640x480 with 1 Axes>"
      ]
     },
     "metadata": {},
     "output_type": "display_data"
    }
   ],
   "source": [
    "#remove outliers TODO tune q (eg.: 0.95)\n",
    "q = df.quantile(0.95, numeric_only=True) #numeric_only to fix warning\n",
    "df_q = df[(df['likes'] < q['likes']) & (df['followers'] < q['followers'])].copy() #copy to fix warning\n",
    "\n",
    "#group by followers TODO tune number of groups (eg.: 10)\n",
    "df_q.sort_values(by='followers', inplace=True, ignore_index=True)\n",
    "df_q['group'] = df_q.index//(len(df_q)/10) #groups of same size\n",
    "df_q = df_q.groupby('group').mean(numeric_only=True) #numeric_only to fix warning\n",
    "\n",
    "#plot average followers vs average likes\n",
    "x = df_q['followers']\n",
    "y = df_q['likes']\n",
    "plt.scatter(x, y)\n",
    "\n",
    "#fit log curve and plot it\n",
    "def curve(x, coeff):\n",
    "    return coeff * np.log(1+x)\n",
    "coeff, _ = curve_fit(f, xdata=x, ydata=y)\n",
    "plt.plot(x, curve(x, coeff))\n",
    "coeff"
   ]
  },
  {
   "cell_type": "markdown",
   "id": "2d17d0b4-12cb-45d6-b4be-0ba317050e27",
   "metadata": {},
   "source": [
    "TODO togli tweet con immagini ecc.\n",
    "\n",
    "TODO studia query [qua](https://developer.twitter.com/en/docs/twitter-api/tweets/search/integrate/build-a-query)\n",
    "    * continua a studiare link al tutorial \"Building high-quality...\" (da \"Example queries & rules\")\n",
    "        * finora interessante solo:\n",
    "            * link ad [annotations](https://developer.twitter.com/en/docs/twitter-api/annotations/overview)\n",
    "            * In the new Twitter API (recent search and filtered stream), AND is applied before OR\n",
    "\n",
    "verifica quello che dice chatGPT (i like invece credo li abbia solo il tweet originale):\n",
    "\"When you search for tweets using Tweepy, you will get the original tweet and any retweeted versions of that tweet as separate results. Retweets are considered to be separate tweets from the original, so you will receive multiple results for the same content if it has been retweeted multiple times. To avoid receiving duplicate results, you can use the .dedup() method of the Cursor object to remove duplicates. This will only return one result for each unique tweet, even if it has been retweeted multiple times.\"\n",
    "\n",
    "inoltre like sempre a [zero se è retweet](https://twittercommunity.com/t/tweets-having-likes-more-than-zero-always-shows-zero-while-on-twitter-it-shows-more-than-zero-likes-it-only-shows-retweets-counts-accurate-please-tell-me-how-to-get-the-correct-like-count-as-well-i-am-using-twitter-v2-search-api/160840/4)"
   ]
  },
  {
   "cell_type": "code",
   "execution_count": 432,
   "id": "fc7bb645-9199-461f-a075-0cbdba103da8",
   "metadata": {},
   "outputs": [
    {
     "data": {
      "text/html": [
       "<div>\n",
       "<style scoped>\n",
       "    .dataframe tbody tr th:only-of-type {\n",
       "        vertical-align: middle;\n",
       "    }\n",
       "\n",
       "    .dataframe tbody tr th {\n",
       "        vertical-align: top;\n",
       "    }\n",
       "\n",
       "    .dataframe thead th {\n",
       "        text-align: right;\n",
       "    }\n",
       "</style>\n",
       "<table border=\"1\" class=\"dataframe\">\n",
       "  <thead>\n",
       "    <tr style=\"text-align: right;\">\n",
       "      <th></th>\n",
       "      <th>text</th>\n",
       "      <th>likes</th>\n",
       "      <th>followers</th>\n",
       "      <th>popularity</th>\n",
       "      <th>pop_level</th>\n",
       "    </tr>\n",
       "  </thead>\n",
       "  <tbody>\n",
       "    <tr>\n",
       "      <th>3100</th>\n",
       "      <td>@ukrainiansquad @joncoopertweets To every sing...</td>\n",
       "      <td>0.0</td>\n",
       "      <td>99.0</td>\n",
       "      <td>0.000002</td>\n",
       "      <td>0.0</td>\n",
       "    </tr>\n",
       "    <tr>\n",
       "      <th>3101</th>\n",
       "      <td>Click L*i*nk for More INFO&amp;gt;&amp;gt;&amp;gt;&amp;gt;http...</td>\n",
       "      <td>0.0</td>\n",
       "      <td>99.0</td>\n",
       "      <td>0.000002</td>\n",
       "      <td>1.0</td>\n",
       "    </tr>\n",
       "    <tr>\n",
       "      <th>3102</th>\n",
       "      <td>So many things! You can drive an hour west and...</td>\n",
       "      <td>0.0</td>\n",
       "      <td>99.0</td>\n",
       "      <td>0.000002</td>\n",
       "      <td>1.0</td>\n",
       "    </tr>\n",
       "    <tr>\n",
       "      <th>3103</th>\n",
       "      <td>@TerrillCharming Did you get a BGE? If you eat...</td>\n",
       "      <td>0.0</td>\n",
       "      <td>99.0</td>\n",
       "      <td>0.000002</td>\n",
       "      <td>1.0</td>\n",
       "    </tr>\n",
       "    <tr>\n",
       "      <th>3104</th>\n",
       "      <td>@ChampMcCall @DisgruntledPat1 @Jessrocks71 @ja...</td>\n",
       "      <td>0.0</td>\n",
       "      <td>99.0</td>\n",
       "      <td>0.000002</td>\n",
       "      <td>1.0</td>\n",
       "    </tr>\n",
       "    <tr>\n",
       "      <th>3105</th>\n",
       "      <td>30 day challenge day 4 complete 25 sit-ups, cr...</td>\n",
       "      <td>0.0</td>\n",
       "      <td>99.0</td>\n",
       "      <td>0.000002</td>\n",
       "      <td>1.0</td>\n",
       "    </tr>\n",
       "    <tr>\n",
       "      <th>3106</th>\n",
       "      <td>@KFooglefam @davidmweissman @mattgaetz Yes and...</td>\n",
       "      <td>0.0</td>\n",
       "      <td>99.0</td>\n",
       "      <td>0.000002</td>\n",
       "      <td>1.0</td>\n",
       "    </tr>\n",
       "    <tr>\n",
       "      <th>3107</th>\n",
       "      <td>Bale Breaker Flaming Alternator  (@balebreaker...</td>\n",
       "      <td>0.0</td>\n",
       "      <td>99.0</td>\n",
       "      <td>0.000002</td>\n",
       "      <td>1.0</td>\n",
       "    </tr>\n",
       "    <tr>\n",
       "      <th>3108</th>\n",
       "      <td>Eating healthy kills people according to moron...</td>\n",
       "      <td>0.0</td>\n",
       "      <td>99.0</td>\n",
       "      <td>0.000002</td>\n",
       "      <td>1.0</td>\n",
       "    </tr>\n",
       "    <tr>\n",
       "      <th>3109</th>\n",
       "      <td>Drinking a Holiday Ale by @newbelgium @ Untapp...</td>\n",
       "      <td>0.0</td>\n",
       "      <td>98.0</td>\n",
       "      <td>0.000002</td>\n",
       "      <td>1.0</td>\n",
       "    </tr>\n",
       "  </tbody>\n",
       "</table>\n",
       "</div>"
      ],
      "text/plain": [
       "                                                   text  likes  followers  \\\n",
       "3100  @ukrainiansquad @joncoopertweets To every sing...    0.0       99.0   \n",
       "3101  Click L*i*nk for More INFO&gt;&gt;&gt;&gt;http...    0.0       99.0   \n",
       "3102  So many things! You can drive an hour west and...    0.0       99.0   \n",
       "3103  @TerrillCharming Did you get a BGE? If you eat...    0.0       99.0   \n",
       "3104  @ChampMcCall @DisgruntledPat1 @Jessrocks71 @ja...    0.0       99.0   \n",
       "3105  30 day challenge day 4 complete 25 sit-ups, cr...    0.0       99.0   \n",
       "3106  @KFooglefam @davidmweissman @mattgaetz Yes and...    0.0       99.0   \n",
       "3107  Bale Breaker Flaming Alternator  (@balebreaker...    0.0       99.0   \n",
       "3108  Eating healthy kills people according to moron...    0.0       99.0   \n",
       "3109  Drinking a Holiday Ale by @newbelgium @ Untapp...    0.0       98.0   \n",
       "\n",
       "      popularity  pop_level  \n",
       "3100    0.000002        0.0  \n",
       "3101    0.000002        1.0  \n",
       "3102    0.000002        1.0  \n",
       "3103    0.000002        1.0  \n",
       "3104    0.000002        1.0  \n",
       "3105    0.000002        1.0  \n",
       "3106    0.000002        1.0  \n",
       "3107    0.000002        1.0  \n",
       "3108    0.000002        1.0  \n",
       "3109    0.000002        1.0  "
      ]
     },
     "execution_count": 432,
     "metadata": {},
     "output_type": "execute_result"
    }
   ],
   "source": [
    "#normalize likes\n",
    "epsilon = 1e-5\n",
    "df['popularity'] = (df['likes']+epsilon)/np.log1p(df['followers']) #problema se likes 0 perché tutti 0\n",
    "                        #servirebbe modo che anche tweet senza like siano più popolari di tweet con pochi\n",
    "                        #like e tantissimi follower se ci si aspetterebbero molti più like\n",
    "\n",
    "#group by popularity\n",
    "df.sort_values(by='popularity', inplace=True, ignore_index=True)\n",
    "df['pop_level'] = df.index//(len(df)/3) #groups of same size\n",
    "df.iloc[3100:3110]"
   ]
  },
  {
   "cell_type": "code",
   "execution_count": 409,
   "id": "62daea89-7a6c-4991-a9f8-bb37e75a6a37",
   "metadata": {},
   "outputs": [
    {
     "data": {
      "text/plain": [
       "likes           0.0\n",
       "followers     108.0\n",
       "popularity      0.0\n",
       "pop_level       0.0\n",
       "Name: 0.3, dtype: float64"
      ]
     },
     "execution_count": 409,
     "metadata": {},
     "output_type": "execute_result"
    }
   ],
   "source": [
    "df.quantile(0.30, numeric_only=True)"
   ]
  },
  {
   "cell_type": "code",
   "execution_count": 420,
   "id": "4bfe33cf-ee81-4bf1-ba5c-654d8ac3637a",
   "metadata": {},
   "outputs": [
    {
     "data": {
      "text/plain": [
       "False"
      ]
     },
     "execution_count": 420,
     "metadata": {},
     "output_type": "execute_result"
    }
   ],
   "source": [
    "1e-5 == 0.0000001"
   ]
  },
  {
   "cell_type": "code",
   "execution_count": 423,
   "id": "ee3a84d4-7ef1-48f5-b20d-a6330b78f7ab",
   "metadata": {},
   "outputs": [
    {
     "data": {
      "text/plain": [
       "20.72326583794641"
      ]
     },
     "execution_count": 423,
     "metadata": {},
     "output_type": "execute_result"
    }
   ],
   "source": [
    "np.log1p(1000e6)"
   ]
  },
  {
   "cell_type": "code",
   "execution_count": null,
   "id": "3ea51c35-e15f-4e89-83af-49051782ed72",
   "metadata": {},
   "outputs": [],
   "source": []
  }
 ],
 "metadata": {
  "kernelspec": {
   "display_name": "Python 3 (ipykernel)",
   "language": "python",
   "name": "python3"
  },
  "language_info": {
   "codemirror_mode": {
    "name": "ipython",
    "version": 3
   },
   "file_extension": ".py",
   "mimetype": "text/x-python",
   "name": "python",
   "nbconvert_exporter": "python",
   "pygments_lexer": "ipython3",
   "version": "3.10.8"
  }
 },
 "nbformat": 4,
 "nbformat_minor": 5
}
