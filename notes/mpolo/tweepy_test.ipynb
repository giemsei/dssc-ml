{
 "cells": [
  {
   "cell_type": "code",
   "execution_count": 1,
   "id": "c7cb945c-5d03-4697-8c35-142a6035f687",
   "metadata": {},
   "outputs": [],
   "source": [
    "from datetime import datetime, timedelta\n",
    "from collections import defaultdict\n",
    "from time import time\n",
    "import os\n",
    "import matplotlib.pyplot as plt\n",
    "import pandas as pd\n",
    "import tweepy"
   ]
  },
  {
   "cell_type": "code",
   "execution_count": 2,
   "id": "09a7e112-7148-4ef2-a5ae-7c260d339b79",
   "metadata": {},
   "outputs": [],
   "source": [
    "#inputs\n",
    "bearer_token = \"AAAAAAAAAAAAAAAAAAAAAH4BlAEAAAAA3Dd4SGtdK%2FWbAqlEdIcXzoPB4%2BA%3DwDjEbymhTQgnmvHM8Vvetae79bgdBz1eyHWSyXZVqRnCCir1nA\" #mpolo\n",
    "limit = 2 #number of requests of `max_results` tweets each"
   ]
  },
  {
   "cell_type": "code",
   "execution_count": 3,
   "id": "260c740a-ea26-4923-95ba-4afd259bbe05",
   "metadata": {},
   "outputs": [
    {
     "data": {
      "text/plain": [
       "409165"
      ]
     },
     "execution_count": 3,
     "metadata": {},
     "output_type": "execute_result"
    }
   ],
   "source": [
    "#create paginator\n",
    "client = tweepy.Client(bearer_token)\n",
    "paginator = tweepy.Paginator( #TODO vedi come filtrare via tutti i tweet con media file\n",
    "    method=client.search_recent_tweets,\n",
    "    limit=limit,\n",
    "    query=(\n",
    "        '(context:131.825047692124442624 OR context:152.825047692124442624) ' #https://github.com/twitterdev/twitter-context-annotations\n",
    "        '-is:retweet ' #TODO check and search doc for other usefull operators\n",
    "        'lang:en'),\n",
    "    end_time=datetime.utcnow()-timedelta(days=6), #go backwards starting from 6 days ago\n",
    "    expansions=['author_id'], #TODO search doc for other usefull expansions\n",
    "    max_results=100, #500 if academic research access\n",
    "    tweet_fields=['public_metrics'], #TODO search doc for other usefull tweet fields\n",
    "    user_fields=['public_metrics']) #TODO search doc for usefull user fields\n",
    "\n",
    "#download tweets\n",
    "data = defaultdict(list)\n",
    "for response in paginator:\n",
    "    for tweet, user in zip(response.data, response.includes['users']):\n",
    "        if tweet.author_id == user.id: #some don't match for no reason\n",
    "            data['text'] += [tweet.text]\n",
    "            data['likes'] += [tweet.public_metrics['like_count']]\n",
    "            data['followers'] += [user.public_metrics['followers_count']]\n",
    "\n",
    "#save tweets\n",
    "os.makedirs('debug_sets', exist_ok=True)\n",
    "set_id = int(time() % 1e6) #unique for 11 days\n",
    "pd.DataFrame(data).to_csv(f'debug_sets/{set_id}.csv', index=False)\n",
    "set_id"
   ]
  },
  {
   "cell_type": "markdown",
   "id": "79697319-a70f-4669-9981-5ef98e25f6a5",
   "metadata": {},
   "source": [
    "TODO `search_recent_tweets` is up to 7 days. To search further back, use [search_all_tweets](https://docs.tweepy.org/en/stable/client.html#tweepy.Client.search_all_tweets) instead (and add `start_time` parameter). But it needs the [academic research access](https://developer.twitter.com/en/docs/projects). It also increases the monthly cap from 500,000 to 10 million."
   ]
  },
  {
   "cell_type": "code",
   "execution_count": 4,
   "id": "b7daead4-6b45-45df-8779-615127e8e879",
   "metadata": {},
   "outputs": [
    {
     "data": {
      "text/html": [
       "<div>\n",
       "<style scoped>\n",
       "    .dataframe tbody tr th:only-of-type {\n",
       "        vertical-align: middle;\n",
       "    }\n",
       "\n",
       "    .dataframe tbody tr th {\n",
       "        vertical-align: top;\n",
       "    }\n",
       "\n",
       "    .dataframe thead th {\n",
       "        text-align: right;\n",
       "    }\n",
       "</style>\n",
       "<table border=\"1\" class=\"dataframe\">\n",
       "  <thead>\n",
       "    <tr style=\"text-align: right;\">\n",
       "      <th></th>\n",
       "      <th>text</th>\n",
       "      <th>likes</th>\n",
       "      <th>followers</th>\n",
       "    </tr>\n",
       "  </thead>\n",
       "  <tbody>\n",
       "    <tr>\n",
       "      <th>0</th>\n",
       "      <td>Roasted chicken rice, char siew chicken rice, ...</td>\n",
       "      <td>0</td>\n",
       "      <td>1352</td>\n",
       "    </tr>\n",
       "    <tr>\n",
       "      <th>1</th>\n",
       "      <td>Away from high blood pressure, diet is the mos...</td>\n",
       "      <td>0</td>\n",
       "      <td>0</td>\n",
       "    </tr>\n",
       "  </tbody>\n",
       "</table>\n",
       "</div>"
      ],
      "text/plain": [
       "                                                text  likes  followers\n",
       "0  Roasted chicken rice, char siew chicken rice, ...      0       1352\n",
       "1  Away from high blood pressure, diet is the mos...      0          0"
      ]
     },
     "execution_count": 4,
     "metadata": {},
     "output_type": "execute_result"
    }
   ],
   "source": [
    "#load tweets\n",
    "df = pd.read_csv(f'debug_sets/{set_id}.csv')\n",
    "df.head(2)"
   ]
  },
  {
   "cell_type": "code",
   "execution_count": 6,
   "id": "514f6b20-aac8-4bec-a27b-a75600236443",
   "metadata": {},
   "outputs": [
    {
     "name": "stderr",
     "output_type": "stream",
     "text": [
      "/tmp/ipykernel_53939/2694474455.py:7: FutureWarning: The default value of numeric_only in DataFrameGroupBy.mean is deprecated. In a future version, numeric_only will default to False. Either specify numeric_only or select only columns which should be valid for the function.\n",
      "  'avg_likes': df.groupby('foll_range').mean()['likes'],\n"
     ]
    },
    {
     "data": {
      "image/png": "[encoded data removed]",
      "text/plain": [
       "<Figure size 640x480 with 1 Axes>"
      ]
     },
     "metadata": {},
     "output_type": "display_data"
    }
   ],
   "source": [
    "range_size = 100 #TODO adjust\n",
    "max_ranges = 10 #TODO adjust\n",
    "\n",
    "#group followers into ranges\n",
    "df['foll_range'] = df['followers']//range_size\n",
    "foll_ranges = pd.DataFrame({\n",
    "    'avg_likes': df.groupby('foll_range').mean()['likes'],\n",
    "    'tweets': df.groupby('foll_range').count()['likes']})\n",
    "foll_ranges = foll_ranges.head(max_ranges)\n",
    "\n",
    "#plot ranges vs average likes and annotate with number of tweets\n",
    "x = foll_ranges.index\n",
    "y = foll_ranges['avg_likes']\n",
    "plt.scatter(x, y)\n",
    "for i, tweets in enumerate(foll_ranges['tweets']):\n",
    "    plt.annotate(tweets, (x[i], y[i]))"
   ]
  },
  {
   "cell_type": "markdown",
   "id": "2d17d0b4-12cb-45d6-b4be-0ba317050e27",
   "metadata": {},
   "source": [
    "TODO con Dataset1.csv sembrava esserci buona correlazione e invece poi con altri dataset analoghi non più\n",
    "quindi era solo un caso e sarebbe da provare con dataset molto più grande\n",
    "\n",
    "TODO studia query [qua](https://developer.twitter.com/en/docs/twitter-api/tweets/search/integrate/build-a-query)\n",
    "    * continua a studiare link al tutorial \"Building high-quality...\" (da \"Example queries & rules\")\n",
    "        * finora interessante solo:\n",
    "            * link ad [annotations](https://developer.twitter.com/en/docs/twitter-api/annotations/overview)\n",
    "            * In the new Twitter API (recent search and filtered stream), AND is applied before OR\n",
    "\n",
    "verifica quello che dice chatGPT (i like invece credo li abbia solo il tweet originale):\n",
    "\"When you search for tweets using Tweepy, you will get the original tweet and any retweeted versions of that tweet as separate results. Retweets are considered to be separate tweets from the original, so you will receive multiple results for the same content if it has been retweeted multiple times. To avoid receiving duplicate results, you can use the .dedup() method of the Cursor object to remove duplicates. This will only return one result for each unique tweet, even if it has been retweeted multiple times.\"\n",
    "\n",
    "inoltre like sempre a [zero se è retweet](https://twittercommunity.com/t/tweets-having-likes-more-than-zero-always-shows-zero-while-on-twitter-it-shows-more-than-zero-likes-it-only-shows-retweets-counts-accurate-please-tell-me-how-to-get-the-correct-like-count-as-well-i-am-using-twitter-v2-search-api/160840/4)"
   ]
  },
  {
   "cell_type": "code",
   "execution_count": null,
   "id": "b932e2c7-4497-4e9e-b9c8-90cbd7636485",
   "metadata": {},
   "outputs": [],
   "source": []
  }
 ],
 "metadata": {
  "kernelspec": {
   "display_name": "Python 3 (ipykernel)",
   "language": "python",
   "name": "python3"
  },
  "language_info": {
   "codemirror_mode": {
    "name": "ipython",
    "version": 3
   },
   "file_extension": ".py",
   "mimetype": "text/x-python",
   "name": "python",
   "nbconvert_exporter": "python",
   "pygments_lexer": "ipython3",
   "version": "3.10.8"
  }
 },
 "nbformat": 4,
 "nbformat_minor": 5
}
