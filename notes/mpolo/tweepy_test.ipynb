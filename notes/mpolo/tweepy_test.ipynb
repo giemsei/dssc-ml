{
 "cells": [
  {
   "cell_type": "code",
   "execution_count": 320,
   "id": "c7cb945c-5d03-4697-8c35-142a6035f687",
   "metadata": {},
   "outputs": [],
   "source": [
    "from datetime import datetime, timedelta\n",
    "from collections import defaultdict\n",
    "from time import time\n",
    "import os\n",
    "from scipy.optimize import curve_fit\n",
    "import matplotlib.pyplot as plt\n",
    "import pandas as pd\n",
    "import numpy as np\n",
    "import tweepy"
   ]
  },
  {
   "cell_type": "code",
   "execution_count": 2,
   "id": "09a7e112-7148-4ef2-a5ae-7c260d339b79",
   "metadata": {},
   "outputs": [],
   "source": [
    "#inputs\n",
    "bearer_token = \"AAAAAAAAAAAAAAAAAAAAAH4BlAEAAAAA3Dd4SGtdK%2FWbAqlEdIcXzoPB4%2BA%3DwDjEbymhTQgnmvHM8Vvetae79bgdBz1eyHWSyXZVqRnCCir1nA\" #mpolo\n",
    "limit = 2 #number of requests of `max_results` tweets each"
   ]
  },
  {
   "cell_type": "code",
   "execution_count": 3,
   "id": "260c740a-ea26-4923-95ba-4afd259bbe05",
   "metadata": {},
   "outputs": [
    {
     "data": {
      "text/plain": [
       "409165"
      ]
     },
     "execution_count": 3,
     "metadata": {},
     "output_type": "execute_result"
    }
   ],
   "source": [
    "#create paginator\n",
    "client = tweepy.Client(bearer_token)\n",
    "paginator = tweepy.Paginator( #TODO vedi come filtrare via tutti i tweet con media file\n",
    "    method=client.search_recent_tweets,\n",
    "    limit=limit,\n",
    "    query=(\n",
    "        '(context:131.825047692124442624 OR context:152.825047692124442624) ' #https://github.com/twitterdev/twitter-context-annotations\n",
    "        '-is:retweet ' #TODO check and search doc for other usefull operators\n",
    "        'lang:en'),\n",
    "    end_time=datetime.utcnow()-timedelta(days=6), #go backwards starting from 6 days ago\n",
    "    expansions=['author_id'], #TODO search doc for other usefull expansions\n",
    "    max_results=100, #500 if academic research access\n",
    "    tweet_fields=['public_metrics'], #TODO search doc for other usefull tweet fields\n",
    "    user_fields=['public_metrics']) #TODO search doc for usefull user fields\n",
    "\n",
    "#download tweets\n",
    "data = defaultdict(list)\n",
    "for response in paginator:\n",
    "    for tweet, user in zip(response.data, response.includes['users']):\n",
    "        if tweet.author_id == user.id: #some don't match for no reason\n",
    "            data['text'] += [tweet.text]\n",
    "            data['likes'] += [tweet.public_metrics['like_count']]\n",
    "            data['followers'] += [user.public_metrics['followers_count']]\n",
    "\n",
    "#save tweets\n",
    "os.makedirs('debug_sets', exist_ok=True)\n",
    "set_id = int(time() % 1e6) #unique for 11 days\n",
    "pd.DataFrame(data).to_csv(f'debug_sets/{set_id}.csv', index=False)\n",
    "set_id"
   ]
  },
  {
   "cell_type": "markdown",
   "id": "79697319-a70f-4669-9981-5ef98e25f6a5",
   "metadata": {},
   "source": [
    "TODO `search_recent_tweets` is up to 7 days. To search further back, use [search_all_tweets](https://docs.tweepy.org/en/stable/client.html#tweepy.Client.search_all_tweets) instead (and add `start_time` parameter). But it needs the [academic research access](https://developer.twitter.com/en/docs/projects). It also increases the monthly cap from 500,000 to 10 million."
   ]
  },
  {
   "cell_type": "code",
   "execution_count": 583,
   "id": "b7daead4-6b45-45df-8779-615127e8e879",
   "metadata": {},
   "outputs": [
    {
     "data": {
      "text/html": [
       "<div>\n",
       "<style scoped>\n",
       "    .dataframe tbody tr th:only-of-type {\n",
       "        vertical-align: middle;\n",
       "    }\n",
       "\n",
       "    .dataframe tbody tr th {\n",
       "        vertical-align: top;\n",
       "    }\n",
       "\n",
       "    .dataframe thead th {\n",
       "        text-align: right;\n",
       "    }\n",
       "</style>\n",
       "<table border=\"1\" class=\"dataframe\">\n",
       "  <thead>\n",
       "    <tr style=\"text-align: right;\">\n",
       "      <th></th>\n",
       "      <th>text</th>\n",
       "      <th>likes</th>\n",
       "      <th>followers</th>\n",
       "    </tr>\n",
       "  </thead>\n",
       "  <tbody>\n",
       "    <tr>\n",
       "      <th>0</th>\n",
       "      <td>I guess I had too much soju and ume on a weekd...</td>\n",
       "      <td>1.0</td>\n",
       "      <td>40.0</td>\n",
       "    </tr>\n",
       "    <tr>\n",
       "      <th>1</th>\n",
       "      <td>Egyptian rice, tuna, ground beef, onions, and ...</td>\n",
       "      <td>3.0</td>\n",
       "      <td>91.0</td>\n",
       "    </tr>\n",
       "  </tbody>\n",
       "</table>\n",
       "</div>"
      ],
      "text/plain": [
       "                                                text  likes  followers\n",
       "0  I guess I had too much soju and ume on a weekd...    1.0       40.0\n",
       "1  Egyptian rice, tuna, ground beef, onions, and ...    3.0       91.0"
      ]
     },
     "execution_count": 583,
     "metadata": {},
     "output_type": "execute_result"
    }
   ],
   "source": [
    "#load tweets\n",
    "set_id = 407729\n",
    "df = pd.read_csv(f'debug_sets/{set_id}.csv')\n",
    "df['likes'] += 1 #start likes from 1 for simplicity\n",
    "df['followers'] += 1 #start followers from 1 for simplicity\n",
    "df.head(2)"
   ]
  },
  {
   "cell_type": "code",
   "execution_count": 588,
   "id": "c6bea624-1930-4b7e-94a2-631de639f4f9",
   "metadata": {},
   "outputs": [
    {
     "data": {
      "text/plain": [
       "array([0.21266962])"
      ]
     },
     "execution_count": 588,
     "metadata": {},
     "output_type": "execute_result"
    },
    {
     "data": {
      "image/png": "[encoded data removed]",
      "text/plain": [
       "<Figure size 640x480 with 1 Axes>"
      ]
     },
     "metadata": {},
     "output_type": "display_data"
    }
   ],
   "source": [
    "#remove outliers TODO tune q (eg.: 0.95)\n",
    "q = df.quantile(0.95, numeric_only=True) #numeric_only to fix warning\n",
    "df_q = df[(df['likes'] < q['likes']) & (df['followers'] < q['followers'])].copy() #copy to fix warning\n",
    "\n",
    "#group by followers TODO tune number of groups (eg.: 10)\n",
    "df_q.sort_values(by='followers', inplace=True, ignore_index=True)\n",
    "df_q['group'] = df_q.index//(len(df_q)/10) #groups of same size\n",
    "df_q = df_q.groupby('group').mean(numeric_only=True) #numeric_only to fix warning\n",
    "\n",
    "#plot average followers vs average likes\n",
    "x = df_q['followers']\n",
    "y = df_q['likes']\n",
    "plt.scatter(x, y)\n",
    "\n",
    "#fit log curve and plot it\n",
    "def curve(x, coeff):\n",
    "    return 1 + coeff * np.log(x) #not log1p for simplicity\n",
    "coeff, _ = curve_fit(curve, xdata=x, ydata=y)\n",
    "plt.plot(x, curve(x, coeff))\n",
    "coeff"
   ]
  },
  {
   "cell_type": "markdown",
   "id": "2d17d0b4-12cb-45d6-b4be-0ba317050e27",
   "metadata": {},
   "source": [
    "TODO togli tweet con immagini ecc.\n",
    "\n",
    "TODO studia query [qua](https://developer.twitter.com/en/docs/twitter-api/tweets/search/integrate/build-a-query)\n",
    "    * continua a studiare link al tutorial \"Building high-quality...\" (da \"Example queries & rules\")\n",
    "        * finora interessante solo:\n",
    "            * link ad [annotations](https://developer.twitter.com/en/docs/twitter-api/annotations/overview)\n",
    "            * In the new Twitter API (recent search and filtered stream), AND is applied before OR\n",
    "\n",
    "verifica quello che dice chatGPT (i like invece credo li abbia solo il tweet originale):\n",
    "\"When you search for tweets using Tweepy, you will get the original tweet and any retweeted versions of that tweet as separate results. Retweets are considered to be separate tweets from the original, so you will receive multiple results for the same content if it has been retweeted multiple times. To avoid receiving duplicate results, you can use the .dedup() method of the Cursor object to remove duplicates. This will only return one result for each unique tweet, even if it has been retweeted multiple times.\"\n",
    "\n",
    "inoltre like sempre a [zero se è retweet](https://twittercommunity.com/t/tweets-having-likes-more-than-zero-always-shows-zero-while-on-twitter-it-shows-more-than-zero-likes-it-only-shows-retweets-counts-accurate-please-tell-me-how-to-get-the-correct-like-count-as-well-i-am-using-twitter-v2-search-api/160840/4)"
   ]
  },
  {
   "cell_type": "code",
   "execution_count": 617,
   "id": "fc7bb645-9199-461f-a075-0cbdba103da8",
   "metadata": {},
   "outputs": [
    {
     "data": {
      "text/html": [
       "<div>\n",
       "<style scoped>\n",
       "    .dataframe tbody tr th:only-of-type {\n",
       "        vertical-align: middle;\n",
       "    }\n",
       "\n",
       "    .dataframe tbody tr th {\n",
       "        vertical-align: top;\n",
       "    }\n",
       "\n",
       "    .dataframe thead th {\n",
       "        text-align: right;\n",
       "    }\n",
       "</style>\n",
       "<table border=\"1\" class=\"dataframe\">\n",
       "  <thead>\n",
       "    <tr style=\"text-align: right;\">\n",
       "      <th></th>\n",
       "      <th>text</th>\n",
       "      <th>likes</th>\n",
       "      <th>followers</th>\n",
       "      <th>popularity</th>\n",
       "      <th>pop_level</th>\n",
       "    </tr>\n",
       "  </thead>\n",
       "  <tbody>\n",
       "    <tr>\n",
       "      <th>0</th>\n",
       "      <td>@FoodLiesOrg There was barely any processed fo...</td>\n",
       "      <td>1.0</td>\n",
       "      <td>6949712.0</td>\n",
       "      <td>0.229862</td>\n",
       "      <td>0.0</td>\n",
       "    </tr>\n",
       "    <tr>\n",
       "      <th>1</th>\n",
       "      <td>Photo By pixel2013 | Pixabay \\n #macarons #ros...</td>\n",
       "      <td>1.0</td>\n",
       "      <td>5247908.0</td>\n",
       "      <td>0.233062</td>\n",
       "      <td>0.0</td>\n",
       "    </tr>\n",
       "    <tr>\n",
       "      <th>2</th>\n",
       "      <td>@BigOtrivia If Australia was at 56 for 4 at lu...</td>\n",
       "      <td>1.0</td>\n",
       "      <td>1000447.0</td>\n",
       "      <td>0.253921</td>\n",
       "      <td>0.0</td>\n",
       "    </tr>\n",
       "    <tr>\n",
       "      <th>3</th>\n",
       "      <td>We’re serving up some Capital Punishment in Bi...</td>\n",
       "      <td>1.0</td>\n",
       "      <td>702746.0</td>\n",
       "      <td>0.258858</td>\n",
       "      <td>0.0</td>\n",
       "    </tr>\n",
       "    <tr>\n",
       "      <th>4</th>\n",
       "      <td>CTSZOOM Electric Lunch Box Food Warmer for Car...</td>\n",
       "      <td>1.0</td>\n",
       "      <td>660248.0</td>\n",
       "      <td>0.259750</td>\n",
       "      <td>0.0</td>\n",
       "    </tr>\n",
       "    <tr>\n",
       "      <th>...</th>\n",
       "      <td>...</td>\n",
       "      <td>...</td>\n",
       "      <td>...</td>\n",
       "      <td>...</td>\n",
       "      <td>...</td>\n",
       "    </tr>\n",
       "    <tr>\n",
       "      <th>9482</th>\n",
       "      <td>I went out to visit some friends today for lun...</td>\n",
       "      <td>1325.0</td>\n",
       "      <td>361.0</td>\n",
       "      <td>588.265215</td>\n",
       "      <td>2.0</td>\n",
       "    </tr>\n",
       "    <tr>\n",
       "      <th>9483</th>\n",
       "      <td>@BadLipReading @MarcACaputo Omg poor AOC she’s...</td>\n",
       "      <td>1866.0</td>\n",
       "      <td>1392.0</td>\n",
       "      <td>734.816829</td>\n",
       "      <td>2.0</td>\n",
       "    </tr>\n",
       "    <tr>\n",
       "      <th>9484</th>\n",
       "      <td>Meet Me On Your Lunch Break 🤭 https://t.co/9Es...</td>\n",
       "      <td>2802.0</td>\n",
       "      <td>191840.0</td>\n",
       "      <td>781.153750</td>\n",
       "      <td>2.0</td>\n",
       "    </tr>\n",
       "    <tr>\n",
       "      <th>9485</th>\n",
       "      <td>I saw the guy that owns Freddy's leave on his ...</td>\n",
       "      <td>22611.0</td>\n",
       "      <td>111.0</td>\n",
       "      <td>11296.609614</td>\n",
       "      <td>2.0</td>\n",
       "    </tr>\n",
       "    <tr>\n",
       "      <th>9486</th>\n",
       "      <td>Y2K Style Japanese Shirt - M Men's Black - £14...</td>\n",
       "      <td>NaN</td>\n",
       "      <td>NaN</td>\n",
       "      <td>NaN</td>\n",
       "      <td>2.0</td>\n",
       "    </tr>\n",
       "  </tbody>\n",
       "</table>\n",
       "<p>9487 rows × 5 columns</p>\n",
       "</div>"
      ],
      "text/plain": [
       "                                                   text    likes  followers  \\\n",
       "0     @FoodLiesOrg There was barely any processed fo...      1.0  6949712.0   \n",
       "1     Photo By pixel2013 | Pixabay \\n #macarons #ros...      1.0  5247908.0   \n",
       "2     @BigOtrivia If Australia was at 56 for 4 at lu...      1.0  1000447.0   \n",
       "3     We’re serving up some Capital Punishment in Bi...      1.0   702746.0   \n",
       "4     CTSZOOM Electric Lunch Box Food Warmer for Car...      1.0   660248.0   \n",
       "...                                                 ...      ...        ...   \n",
       "9482  I went out to visit some friends today for lun...   1325.0      361.0   \n",
       "9483  @BadLipReading @MarcACaputo Omg poor AOC she’s...   1866.0     1392.0   \n",
       "9484  Meet Me On Your Lunch Break 🤭 https://t.co/9Es...   2802.0   191840.0   \n",
       "9485  I saw the guy that owns Freddy's leave on his ...  22611.0      111.0   \n",
       "9486  Y2K Style Japanese Shirt - M Men's Black - £14...      NaN        NaN   \n",
       "\n",
       "        popularity  pop_level  \n",
       "0         0.229862        0.0  \n",
       "1         0.233062        0.0  \n",
       "2         0.253921        0.0  \n",
       "3         0.258858        0.0  \n",
       "4         0.259750        0.0  \n",
       "...            ...        ...  \n",
       "9482    588.265215        2.0  \n",
       "9483    734.816829        2.0  \n",
       "9484    781.153750        2.0  \n",
       "9485  11296.609614        2.0  \n",
       "9486           NaN        2.0  \n",
       "\n",
       "[9487 rows x 5 columns]"
      ]
     },
     "execution_count": 617,
     "metadata": {},
     "output_type": "execute_result"
    }
   ],
   "source": [
    "#get popularity by normalizing likes\n",
    "df['popularity'] = df['likes']/curve(df['followers'], coeff)\n",
    "\n",
    "#assign popularity level\n",
    "df.sort_values(by='popularity', inplace=True, ignore_index=True)\n",
    "df['pop_level'] = df.index//(len(df)/3) #groups of same size\n",
    "df"
   ]
  },
  {
   "cell_type": "markdown",
   "id": "7b053b7b-c026-47ec-8bb4-54dc5fb58f6a",
   "metadata": {},
   "source": [
    "TODO imo vedi grafico sopra (quello dove fitti il log) e vedi a quanti follower ci si aspetta almeno un like (2 visto che uno lo hai regalato). Elimina tutti i tweet con zero like  (1 visto che...) e meno follower perché non danno informazioni.\n",
    "Cioè se ha pochissimi follower e cmq 2 like allora sai che buono, ma se ha 1 like e boh tipo 20 follower non puoi dire che il tweet fa schifo visto che non ci si aspetta più like comunque. Cioè son praticamente delle osservazioni senza label e quindi vanno tolte. Pensa anche a 1 like e 1 follower (entrambi regalati), viene popularity 1 cioé nella media ma in verità non si può giudicare. O forse boh van bene lo stesso perché spostano gli altri (cioé fanno scalare di classe quelli con stesso numero di like e più follower, che ci sta). pensaci. intanto lasciali per semplicità"
   ]
  },
  {
   "cell_type": "code",
   "execution_count": null,
   "id": "f5f0d84a-089b-441d-8bb5-a1a124c17056",
   "metadata": {},
   "outputs": [],
   "source": []
  }
 ],
 "metadata": {
  "kernelspec": {
   "display_name": "Python 3 (ipykernel)",
   "language": "python",
   "name": "python3"
  },
  "language_info": {
   "codemirror_mode": {
    "name": "ipython",
    "version": 3
   },
   "file_extension": ".py",
   "mimetype": "text/x-python",
   "name": "python",
   "nbconvert_exporter": "python",
   "pygments_lexer": "ipython3",
   "version": "3.10.8"
  }
 },
 "nbformat": 4,
 "nbformat_minor": 5
}
