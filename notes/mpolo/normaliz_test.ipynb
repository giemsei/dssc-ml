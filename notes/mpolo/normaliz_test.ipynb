{
 "cells": [
  {
   "cell_type": "code",
   "execution_count": 1,
   "id": "11c848b1-d042-416e-bb3f-2d1e86613add",
   "metadata": {},
   "outputs": [],
   "source": [
    "from random import randint, gauss\n",
    "from matplotlib import pyplot as plt\n",
    "import numpy as np"
   ]
  },
  {
   "cell_type": "code",
   "execution_count": 2,
   "id": "8c5c1d58-3842-4550-a5d8-690975307999",
   "metadata": {},
   "outputs": [],
   "source": [
    "#quando normalizzi attento a non dividere per 0"
   ]
  },
  {
   "cell_type": "code",
   "execution_count": 3,
   "id": "8d03b675-c62c-4f6f-aea7-64bbb033e2e3",
   "metadata": {},
   "outputs": [],
   "source": [
    "def noise(x):\n",
    "    n = randint(0,6)\n",
    "    if n==0:\n",
    "        return x * 1.5\n",
    "    if n==1:\n",
    "        return x / 1.5\n",
    "    return x"
   ]
  },
  {
   "cell_type": "code",
   "execution_count": 4,
   "id": "dc40a7e2-61e3-444b-b15d-de1b6b5bda58",
   "metadata": {},
   "outputs": [],
   "source": [
    "rel = lambda x: 1/100 * (np.log(x**2)**3 + x**2) #if linear there is only 1/100 and maybe plus something\n",
    "nums_foll = np.arange(2, 50)\n",
    "likes = np.array([rel(num_foll) for num_foll in nums_foll]) #1 like every rel(num_foll) in average\n",
    "likes = np.array([noise(l) for l in likes])"
   ]
  },
  {
   "cell_type": "code",
   "execution_count": 5,
   "id": "0a9f49fa-e6fc-420a-ae56-86672e826df1",
   "metadata": {},
   "outputs": [
    {
     "data": {
      "text/plain": [
       "array([ 0.06664197,  0.19607752,  0.55970367,  0.58351293,  0.82018145,\n",
       "        1.07946542,  1.35933325,  1.65862013,  2.96496859,  3.46951946,\n",
       "        2.66749639,  3.03997701,  3.43040327,  3.83876667,  4.26508622,\n",
       "        4.70939846,  5.17175081,  5.65219713,  6.15079482,  6.66760274,\n",
       "        7.20267995,  7.75608476,  8.32787414,  5.94540227,  9.5268259 ,\n",
       "       10.15409295, 10.79995379, 11.46445552, 12.14764319, 12.84955983,\n",
       "       20.35536978, 14.30974247, 15.0680851 , 23.76796519, 11.09430109,\n",
       "       26.18481325, 27.43591924, 19.14369332, 20.01581204, 20.90699615,\n",
       "       21.81727165, 22.7466634 , 23.69519525, 24.66289003, 25.64976964,\n",
       "       26.6558551 , 27.68116656, 43.0885851 ])"
      ]
     },
     "execution_count": 5,
     "metadata": {},
     "output_type": "execute_result"
    }
   ],
   "source": [
    "likes"
   ]
  },
  {
   "cell_type": "code",
   "execution_count": 6,
   "id": "f2b38496-3447-4881-ac95-82f17b81ed4f",
   "metadata": {},
   "outputs": [
    {
     "data": {
      "text/plain": [
       "<matplotlib.collections.PathCollection at 0x7ff11c1632b0>"
      ]
     },
     "execution_count": 6,
     "metadata": {},
     "output_type": "execute_result"
    },
    {
     "data": {
      "image/png": "[encoded data removed]",
      "text/plain": [
       "<Figure size 640x480 with 1 Axes>"
      ]
     },
     "metadata": {},
     "output_type": "display_data"
    }
   ],
   "source": [
    "plt.scatter(nums_foll, likes)"
   ]
  },
  {
   "cell_type": "code",
   "execution_count": 7,
   "id": "a210e71a-bd0c-4a3a-ab11-498007c51388",
   "metadata": {},
   "outputs": [
    {
     "data": {
      "text/plain": [
       "array([1.        , 1.        , 1.5       , 1.        , 1.        ,\n",
       "       1.        , 1.        , 1.        , 1.5       , 1.5       ,\n",
       "       1.        , 1.        , 1.        , 1.        , 1.        ,\n",
       "       1.        , 1.        , 1.        , 1.        , 1.        ,\n",
       "       1.        , 1.        , 1.        , 0.66666667, 1.        ,\n",
       "       1.        , 1.        , 1.        , 1.        , 1.        ,\n",
       "       1.5       , 1.        , 1.        , 1.5       , 0.66666667,\n",
       "       1.5       , 1.5       , 1.        , 1.        , 1.        ,\n",
       "       1.        , 1.        , 1.        , 1.        , 1.        ,\n",
       "       1.        , 1.        , 1.5       ])"
      ]
     },
     "execution_count": 7,
     "metadata": {},
     "output_type": "execute_result"
    }
   ],
   "source": [
    "norm_likes = likes/rel(nums_foll)\n",
    "norm_likes"
   ]
  },
  {
   "cell_type": "code",
   "execution_count": 8,
   "id": "86c28923-a534-44c5-afac-71dd5231958e",
   "metadata": {},
   "outputs": [
    {
     "data": {
      "text/plain": [
       "<matplotlib.collections.PathCollection at 0x7ff108e62fb0>"
      ]
     },
     "execution_count": 8,
     "metadata": {},
     "output_type": "execute_result"
    },
    {
     "data": {
      "image/png": "[encoded data removed]",
      "text/plain": [
       "<Figure size 640x480 with 1 Axes>"
      ]
     },
     "metadata": {},
     "output_type": "display_data"
    }
   ],
   "source": [
    "plt.scatter(nums_foll, norm_likes) #imo finché qua stanno dritti è ok"
   ]
  },
  {
   "cell_type": "code",
   "execution_count": null,
   "id": "4e6c76e9-575b-4d26-a66a-125997c8fec9",
   "metadata": {},
   "outputs": [],
   "source": []
  },
  {
   "cell_type": "code",
   "execution_count": null,
   "id": "00387c68-8ede-4716-bd34-8572fd4c07f1",
   "metadata": {},
   "outputs": [],
   "source": []
  },
  {
   "cell_type": "code",
   "execution_count": null,
   "id": "178301f8-2b01-437f-8245-70f23158e31d",
   "metadata": {},
   "outputs": [],
   "source": []
  }
 ],
 "metadata": {
  "kernelspec": {
   "display_name": "Python 3 (ipykernel)",
   "language": "python",
   "name": "python3"
  },
  "language_info": {
   "codemirror_mode": {
    "name": "ipython",
    "version": 3
   },
   "file_extension": ".py",
   "mimetype": "text/x-python",
   "name": "python",
   "nbconvert_exporter": "python",
   "pygments_lexer": "ipython3",
   "version": "3.10.8"
  }
 },
 "nbformat": 4,
 "nbformat_minor": 5
}
