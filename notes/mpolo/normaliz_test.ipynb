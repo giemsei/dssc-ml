{
 "cells": [
  {
   "cell_type": "code",
   "execution_count": 15,
   "id": "11c848b1-d042-416e-bb3f-2d1e86613add",
   "metadata": {},
   "outputs": [],
   "source": [
    "from random import randint, gauss\n",
    "from math import log\n",
    "from matplotlib import pyplot as plt"
   ]
  },
  {
   "cell_type": "code",
   "execution_count": 16,
   "id": "8c5c1d58-3842-4550-a5d8-690975307999",
   "metadata": {},
   "outputs": [],
   "source": [
    "#quando normalizzi attento a non dividere per 0"
   ]
  },
  {
   "cell_type": "code",
   "execution_count": 17,
   "id": "dc40a7e2-61e3-444b-b15d-de1b6b5bda58",
   "metadata": {},
   "outputs": [],
   "source": [
    "nums_followers = [randint(1,10e5)]\n",
    "mean_likes = [0.01*log(num_followers)+gauss(mu=0, sigma=1) for num_followers in nums_followers]"
   ]
  },
  {
   "cell_type": "code",
   "execution_count": null,
   "id": "f2b38496-3447-4881-ac95-82f17b81ed4f",
   "metadata": {},
   "outputs": [],
   "source": []
  },
  {
   "cell_type": "code",
   "execution_count": null,
   "id": "f4598975-3869-4b64-bdc0-3994628c27f1",
   "metadata": {},
   "outputs": [],
   "source": []
  }
 ],
 "metadata": {
  "kernelspec": {
   "display_name": "Python 3 (ipykernel)",
   "language": "python",
   "name": "python3"
  },
  "language_info": {
   "codemirror_mode": {
    "name": "ipython",
    "version": 3
   },
   "file_extension": ".py",
   "mimetype": "text/x-python",
   "name": "python",
   "nbconvert_exporter": "python",
   "pygments_lexer": "ipython3",
   "version": "3.10.8"
  }
 },
 "nbformat": 4,
 "nbformat_minor": 5
}
