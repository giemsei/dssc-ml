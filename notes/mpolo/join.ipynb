{
 "cells": [
  {
   "cell_type": "code",
   "execution_count": 2,
   "id": "eb17dd71-2255-472b-a544-5b920cabe861",
   "metadata": {},
   "outputs": [],
   "source": [
    "import pandas as pd\n",
    "import os"
   ]
  },
  {
   "cell_type": "code",
   "execution_count": 3,
   "id": "ca09a8d8-303d-4812-9d7a-b5d8c76a0e0e",
   "metadata": {},
   "outputs": [
    {
     "data": {
      "text/html": [
       "<div>\n",
       "<style scoped>\n",
       "    .dataframe tbody tr th:only-of-type {\n",
       "        vertical-align: middle;\n",
       "    }\n",
       "\n",
       "    .dataframe tbody tr th {\n",
       "        vertical-align: top;\n",
       "    }\n",
       "\n",
       "    .dataframe thead th {\n",
       "        text-align: right;\n",
       "    }\n",
       "</style>\n",
       "<table border=\"1\" class=\"dataframe\">\n",
       "  <thead>\n",
       "    <tr style=\"text-align: right;\">\n",
       "      <th></th>\n",
       "      <th>text</th>\n",
       "      <th>likes</th>\n",
       "      <th>followers</th>\n",
       "    </tr>\n",
       "  </thead>\n",
       "  <tbody>\n",
       "    <tr>\n",
       "      <th>25398</th>\n",
       "      <td>Ordered a portable smoothie maker for when I'm...</td>\n",
       "      <td>6.0</td>\n",
       "      <td>483.0</td>\n",
       "    </tr>\n",
       "    <tr>\n",
       "      <th>25399</th>\n",
       "      <td>Enters Brewery:\\n*sees Andy the Beertender*\\n\\...</td>\n",
       "      <td>0.0</td>\n",
       "      <td>17.0</td>\n",
       "    </tr>\n",
       "  </tbody>\n",
       "</table>\n",
       "</div>"
      ],
      "text/plain": [
       "                                                    text  likes  followers\n",
       "25398  Ordered a portable smoothie maker for when I'm...    6.0      483.0\n",
       "25399  Enters Brewery:\\n*sees Andy the Beertender*\\n\\...    0.0       17.0"
      ]
     },
     "execution_count": 3,
     "metadata": {},
     "output_type": "execute_result"
    }
   ],
   "source": [
    "#TODO tune\n",
    "dirs = [\n",
    "    'debug_sets/619439/',\n",
    "    'debug_sets/710527/',\n",
    "    'debug_sets/797076/']\n",
    "\n",
    "#load and join raw tweets\n",
    "df = pd.concat([pd.read_csv(dir_+'dataset_raw.csv') for dir_ in dirs], ignore_index=True)\n",
    "df.dropna(inplace=True, axis=1)\n",
    "df.tail(2)"
   ]
  },
  {
   "cell_type": "code",
   "execution_count": 4,
   "id": "aa116ab1-25f1-4566-81e8-7acf6ebb9f08",
   "metadata": {},
   "outputs": [],
   "source": [
    "#save joined raw tweets\n",
    "dir_ = 'debug_sets/joined/'\n",
    "os.makedirs(dir_, exist_ok=True)\n",
    "df.to_csv(dir_+'dataset_raw.csv', index=False)"
   ]
  },
  {
   "cell_type": "code",
   "execution_count": null,
   "id": "4429cddb-bf39-457c-ae56-7c252f17d90e",
   "metadata": {},
   "outputs": [],
   "source": []
  }
 ],
 "metadata": {
  "kernelspec": {
   "display_name": "Python 3 (ipykernel)",
   "language": "python",
   "name": "python3"
  },
  "language_info": {
   "codemirror_mode": {
    "name": "ipython",
    "version": 3
   },
   "file_extension": ".py",
   "mimetype": "text/x-python",
   "name": "python",
   "nbconvert_exporter": "python",
   "pygments_lexer": "ipython3",
   "version": "3.10.8"
  }
 },
 "nbformat": 4,
 "nbformat_minor": 5
}
