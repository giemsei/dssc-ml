{
 "cells": [
  {
   "cell_type": "code",
   "execution_count": 10,
   "id": "eb17dd71-2255-472b-a544-5b920cabe861",
   "metadata": {},
   "outputs": [],
   "source": [
    "import pandas as pd\n",
    "import os"
   ]
  },
  {
   "cell_type": "code",
   "execution_count": 11,
   "id": "ca09a8d8-303d-4812-9d7a-b5d8c76a0e0e",
   "metadata": {},
   "outputs": [
    {
     "data": {
      "text/html": [
       "<div>\n",
       "<style scoped>\n",
       "    .dataframe tbody tr th:only-of-type {\n",
       "        vertical-align: middle;\n",
       "    }\n",
       "\n",
       "    .dataframe tbody tr th {\n",
       "        vertical-align: top;\n",
       "    }\n",
       "\n",
       "    .dataframe thead th {\n",
       "        text-align: right;\n",
       "    }\n",
       "</style>\n",
       "<table border=\"1\" class=\"dataframe\">\n",
       "  <thead>\n",
       "    <tr style=\"text-align: right;\">\n",
       "      <th></th>\n",
       "      <th>text</th>\n",
       "      <th>likes</th>\n",
       "      <th>followers</th>\n",
       "    </tr>\n",
       "  </thead>\n",
       "  <tbody>\n",
       "    <tr>\n",
       "      <th>17214</th>\n",
       "      <td>Guinness Blonde $1.80 per oz of alcohol.  #boo...</td>\n",
       "      <td>0.0</td>\n",
       "      <td>14.0</td>\n",
       "    </tr>\n",
       "    <tr>\n",
       "      <th>17215</th>\n",
       "      <td>Fundraising to send food trucks with coffee an...</td>\n",
       "      <td>105.0</td>\n",
       "      <td>2077.0</td>\n",
       "    </tr>\n",
       "  </tbody>\n",
       "</table>\n",
       "</div>"
      ],
      "text/plain": [
       "                                                    text  likes  followers\n",
       "17214  Guinness Blonde $1.80 per oz of alcohol.  #boo...    0.0       14.0\n",
       "17215  Fundraising to send food trucks with coffee an...  105.0     2077.0"
      ]
     },
     "execution_count": 11,
     "metadata": {},
     "output_type": "execute_result"
    }
   ],
   "source": [
    "#TODO tune\n",
    "dirs = [\n",
    "    'debug_sets/619439/',\n",
    "    'debug_sets/710527/']\n",
    "\n",
    "#load and join raw tweets\n",
    "df = pd.concat([pd.read_csv(dir_+'dataset_raw.csv') for dir_ in dirs], ignore_index=True)\n",
    "df.dropna(inplace=True, axis=1)\n",
    "df.tail(2)"
   ]
  },
  {
   "cell_type": "code",
   "execution_count": 14,
   "id": "aa116ab1-25f1-4566-81e8-7acf6ebb9f08",
   "metadata": {},
   "outputs": [],
   "source": [
    "#save joined raw tweets\n",
    "dir_ = 'debug_sets/joined/'\n",
    "os.makedirs(dir_, exist_ok=True)\n",
    "df.to_csv(dir_+'dataset_raw.csv', index=False)"
   ]
  },
  {
   "cell_type": "code",
   "execution_count": null,
   "id": "4429cddb-bf39-457c-ae56-7c252f17d90e",
   "metadata": {},
   "outputs": [],
   "source": []
  }
 ],
 "metadata": {
  "kernelspec": {
   "display_name": "Python 3 (ipykernel)",
   "language": "python",
   "name": "python3"
  },
  "language_info": {
   "codemirror_mode": {
    "name": "ipython",
    "version": 3
   },
   "file_extension": ".py",
   "mimetype": "text/x-python",
   "name": "python",
   "nbconvert_exporter": "python",
   "pygments_lexer": "ipython3",
   "version": "3.10.8"
  }
 },
 "nbformat": 4,
 "nbformat_minor": 5
}
