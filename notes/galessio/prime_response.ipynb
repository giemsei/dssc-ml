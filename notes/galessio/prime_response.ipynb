{
 "cells": [
  {
   "cell_type": "markdown",
   "id": "87229b23-62c5-4802-9014-6a2688cdf8c2",
   "metadata": {},
   "source": [
    "# Collecting the data for the y normalization\n",
    "\n",
    "$$D_{normalization}=\\{x^{(i)}_{\\text{number of followers}},y^{(i)}_{\\text{number of likes}}\\}_{i=1}^{n}$$\n",
    "\n",
    "- Where $x^{(i)}_{\\text{number of followers}}$ is the number of follower of a specific users $u$\n",
    "\n",
    "- Where $y^{(i)}_{\\text{number of likes}}$ is the number of specific tweet $t$ coming from a specific users $u$"
   ]
  },
  {
   "cell_type": "code",
   "execution_count": null,
   "id": "bc575a2a-6bc1-4ccd-a667-63633931f19a",
   "metadata": {},
   "outputs": [],
   "source": []
  }
 ],
 "metadata": {
  "kernelspec": {
   "display_name": "Python 3 (ipykernel)",
   "language": "python",
   "name": "python3"
  },
  "language_info": {
   "codemirror_mode": {
    "name": "ipython",
    "version": 3
   },
   "file_extension": ".py",
   "mimetype": "text/x-python",
   "name": "python",
   "nbconvert_exporter": "python",
   "pygments_lexer": "ipython3",
   "version": "3.10.8"
  }
 },
 "nbformat": 4,
 "nbformat_minor": 5
}
