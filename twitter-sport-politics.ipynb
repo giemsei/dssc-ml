{
 "cells": [
  {
   "cell_type": "markdown",
   "metadata": {
    "tags": []
   },
   "source": [
    "\n",
    "# Lab 2: sport vs politics\n",
    "\n",
    "**Requirement:**\n",
    "\n",
    "Build a system that:\n",
    "\n",
    "1. Everyday collects a large set of random tweets and groups them in tweets about politics and about sport\n",
    "2. For each of the two groups, shows the main topics of discussion\n",
    "\n",
    "## 1. Group Tweets by sport and politics: supervised approach\n",
    "\n",
    "### Data Collection\n",
    "\n",
    "Tweepy is a Python library for accessing the Twitter API. Here is used to extract text from the tweets to build our dataset.\n",
    "\n",
    "First we authenticate in order to use the API."
   ]
  },
  {
   "cell_type": "code",
   "execution_count": 1,
   "metadata": {},
   "outputs": [],
   "source": [
    "import tweepy\n",
    "\n",
    "bearer_token = \"your bearer token\" # Twitter API\n",
    "client = tweepy.Client(bearer_token=bearer_token) # OAuth2.0 Version"
   ]
  },
  {
   "cell_type": "markdown",
   "metadata": {},
   "source": [
    "Three request are made to get the tweets from the topics:\n",
    "- sport\n",
    "- politics\n",
    "- random topic."
   ]
  },
  {
   "cell_type": "code",
   "execution_count": 2,
   "metadata": {},
   "outputs": [],
   "source": [
    "import pandas as pd\n",
    "\n",
    "limit = 1000 # nr. tweets\n",
    "\n",
    "# request sports tweets\n",
    "query_sports = 'context:47.10050757844 -is:retweet lang:en'\n",
    "tweets_sports = tweepy.Paginator(client.search_recent_tweets, query=query_sports,\n",
    "                              tweet_fields=['text'], max_results=100).flatten(limit=limit)\n",
    "\n",
    "df_tweets_sports = pd.DataFrame([tweet.text for tweet in tweets_sports]) # convert to pandas df\n",
    "\n",
    "# request politics tweets\n",
    "query_politics = 'context:131.1291447199595782144 -is:retweet lang:en'\n",
    "tweets_politics = tweepy.Paginator(client.search_recent_tweets, query=query_politics,\n",
    "                              tweet_fields=['text'], max_results=100).flatten(limit=limit)\n",
    "\n",
    "df_tweets_politics = pd.DataFrame([tweet.text for tweet in tweets_politics]) # convert to pandas df\n",
    "\n",
    "# request random tweets\n",
    "query_random = 'a lang:en' # fix this\n",
    "tweets_random = tweepy.Paginator(client.search_recent_tweets, query=query_random,\n",
    "                              tweet_fields=['text'], max_results=100).flatten(limit=limit)\n",
    "\n",
    "df_tweets_random = pd.DataFrame([tweet.text for tweet in tweets_random]) # convert to pandas df"
   ]
  },
  {
   "cell_type": "markdown",
   "metadata": {},
   "source": [
    "The three groups will be the labels for each class, so in future they can be used with supervised learning.\n",
    "\n",
    "Then all the collected data is concatenated in an unique dataset and saved to a .csv file."
   ]
  },
  {
   "cell_type": "code",
   "execution_count": 3,
   "metadata": {},
   "outputs": [
    {
     "data": {
      "text/html": [
       "<div>\n",
       "<style scoped>\n",
       "    .dataframe tbody tr th:only-of-type {\n",
       "        vertical-align: middle;\n",
       "    }\n",
       "\n",
       "    .dataframe tbody tr th {\n",
       "        vertical-align: top;\n",
       "    }\n",
       "\n",
       "    .dataframe thead th {\n",
       "        text-align: right;\n",
       "    }\n",
       "</style>\n",
       "<table border=\"1\" class=\"dataframe\">\n",
       "  <thead>\n",
       "    <tr style=\"text-align: right;\">\n",
       "      <th></th>\n",
       "      <th>X</th>\n",
       "      <th>y</th>\n",
       "    </tr>\n",
       "  </thead>\n",
       "  <tbody>\n",
       "    <tr>\n",
       "      <th>0</th>\n",
       "      <td>@Cheers_NMk @RC123TC @RobertBritto4 @rekastner...</td>\n",
       "      <td>1</td>\n",
       "    </tr>\n",
       "    <tr>\n",
       "      <th>1</th>\n",
       "      <td>@joeybaggadonuzz @KariLake @MaricopaVote And y...</td>\n",
       "      <td>1</td>\n",
       "    </tr>\n",
       "    <tr>\n",
       "      <th>2</th>\n",
       "      <td>@DineshDSouza FIX INFLATION AND GAS PRICES LIK...</td>\n",
       "      <td>1</td>\n",
       "    </tr>\n",
       "    <tr>\n",
       "      <th>3</th>\n",
       "      <td>@GovRonDeSantis @CaseyDeSantis Not being able ...</td>\n",
       "      <td>1</td>\n",
       "    </tr>\n",
       "    <tr>\n",
       "      <th>4</th>\n",
       "      <td>@DougDucey @katiehobbs Spineless as usual.</td>\n",
       "      <td>1</td>\n",
       "    </tr>\n",
       "    <tr>\n",
       "      <th>...</th>\n",
       "      <td>...</td>\n",
       "      <td>...</td>\n",
       "    </tr>\n",
       "    <tr>\n",
       "      <th>995</th>\n",
       "      <td>RT @centredevils: 🚨🚨| JUST IN: Part of Tim Coo...</td>\n",
       "      <td>2</td>\n",
       "    </tr>\n",
       "    <tr>\n",
       "      <th>996</th>\n",
       "      <td>@cutanddried @PennyMordaunt But when you are a...</td>\n",
       "      <td>2</td>\n",
       "    </tr>\n",
       "    <tr>\n",
       "      <th>997</th>\n",
       "      <td>I had such a long day. At least it's ending we...</td>\n",
       "      <td>2</td>\n",
       "    </tr>\n",
       "    <tr>\n",
       "      <th>998</th>\n",
       "      <td>Queen Consort Arrives for a Very Special Teddy...</td>\n",
       "      <td>2</td>\n",
       "    </tr>\n",
       "    <tr>\n",
       "      <th>999</th>\n",
       "      <td>A true friend  p x #推特刷粉  R I Lis the one who ...</td>\n",
       "      <td>2</td>\n",
       "    </tr>\n",
       "  </tbody>\n",
       "</table>\n",
       "<p>3000 rows × 2 columns</p>\n",
       "</div>"
      ],
      "text/plain": [
       "                                                     X  y\n",
       "0    @Cheers_NMk @RC123TC @RobertBritto4 @rekastner...  1\n",
       "1    @joeybaggadonuzz @KariLake @MaricopaVote And y...  1\n",
       "2    @DineshDSouza FIX INFLATION AND GAS PRICES LIK...  1\n",
       "3    @GovRonDeSantis @CaseyDeSantis Not being able ...  1\n",
       "4           @DougDucey @katiehobbs Spineless as usual.  1\n",
       "..                                                 ... ..\n",
       "995  RT @centredevils: 🚨🚨| JUST IN: Part of Tim Coo...  2\n",
       "996  @cutanddried @PennyMordaunt But when you are a...  2\n",
       "997  I had such a long day. At least it's ending we...  2\n",
       "998  Queen Consort Arrives for a Very Special Teddy...  2\n",
       "999  A true friend  p x #推特刷粉  R I Lis the one who ...  2\n",
       "\n",
       "[3000 rows x 2 columns]"
      ]
     },
     "metadata": {},
     "output_type": "display_data"
    }
   ],
   "source": [
    "# add label column\n",
    "df_tweets_sports['y'] = 0\n",
    "df_tweets_politics['y'] = 1\n",
    "df_tweets_random['y'] = 2\n",
    "\n",
    "\n",
    "# concatenate data by rows\n",
    "df_D = pd.concat([df_tweets_politics, df_tweets_sports, df_tweets_random], axis = 0)\n",
    "df_D = df_D.rename({0: 'X',}, axis=1) # rename features data to X\n",
    "display(df_D)\n",
    "\n",
    "# export to csv\n",
    "df_D.to_csv(\"data/dataset.csv\", encoding='utf-8')"
   ]
  },
  {
   "cell_type": "markdown",
   "metadata": {
    "tags": []
   },
   "source": [
    "### Pre-processing\n",
    "\n",
    "Collected data is loaded from the .csv file.\n",
    "\n",
    "The dataset is composed by tweets labeled by politics and sport topics.\n",
    "- y=0 are sport tweets\n",
    "- y=1 are politics tweets\n",
    "- y=2 are random tweets"
   ]
  },
  {
   "cell_type": "code",
   "execution_count": 4,
   "metadata": {},
   "outputs": [
    {
     "data": {
      "text/html": [
       "<div>\n",
       "<style scoped>\n",
       "    .dataframe tbody tr th:only-of-type {\n",
       "        vertical-align: middle;\n",
       "    }\n",
       "\n",
       "    .dataframe tbody tr th {\n",
       "        vertical-align: top;\n",
       "    }\n",
       "\n",
       "    .dataframe thead th {\n",
       "        text-align: right;\n",
       "    }\n",
       "</style>\n",
       "<table border=\"1\" class=\"dataframe\">\n",
       "  <thead>\n",
       "    <tr style=\"text-align: right;\">\n",
       "      <th></th>\n",
       "      <th>Unnamed: 0</th>\n",
       "      <th>X</th>\n",
       "      <th>y</th>\n",
       "    </tr>\n",
       "  </thead>\n",
       "  <tbody>\n",
       "    <tr>\n",
       "      <th>0</th>\n",
       "      <td>0</td>\n",
       "      <td>@Cheers_NMk @RC123TC @RobertBritto4 @rekastner...</td>\n",
       "      <td>1</td>\n",
       "    </tr>\n",
       "    <tr>\n",
       "      <th>1</th>\n",
       "      <td>1</td>\n",
       "      <td>@joeybaggadonuzz @KariLake @MaricopaVote And y...</td>\n",
       "      <td>1</td>\n",
       "    </tr>\n",
       "    <tr>\n",
       "      <th>2</th>\n",
       "      <td>2</td>\n",
       "      <td>@DineshDSouza FIX INFLATION AND GAS PRICES LIK...</td>\n",
       "      <td>1</td>\n",
       "    </tr>\n",
       "    <tr>\n",
       "      <th>3</th>\n",
       "      <td>3</td>\n",
       "      <td>@GovRonDeSantis @CaseyDeSantis Not being able ...</td>\n",
       "      <td>1</td>\n",
       "    </tr>\n",
       "    <tr>\n",
       "      <th>4</th>\n",
       "      <td>4</td>\n",
       "      <td>@DougDucey @katiehobbs Spineless as usual.</td>\n",
       "      <td>1</td>\n",
       "    </tr>\n",
       "    <tr>\n",
       "      <th>...</th>\n",
       "      <td>...</td>\n",
       "      <td>...</td>\n",
       "      <td>...</td>\n",
       "    </tr>\n",
       "    <tr>\n",
       "      <th>2995</th>\n",
       "      <td>995</td>\n",
       "      <td>RT @centredevils: 🚨🚨| JUST IN: Part of Tim Coo...</td>\n",
       "      <td>2</td>\n",
       "    </tr>\n",
       "    <tr>\n",
       "      <th>2996</th>\n",
       "      <td>996</td>\n",
       "      <td>@cutanddried @PennyMordaunt But when you are a...</td>\n",
       "      <td>2</td>\n",
       "    </tr>\n",
       "    <tr>\n",
       "      <th>2997</th>\n",
       "      <td>997</td>\n",
       "      <td>I had such a long day. At least it's ending we...</td>\n",
       "      <td>2</td>\n",
       "    </tr>\n",
       "    <tr>\n",
       "      <th>2998</th>\n",
       "      <td>998</td>\n",
       "      <td>Queen Consort Arrives for a Very Special Teddy...</td>\n",
       "      <td>2</td>\n",
       "    </tr>\n",
       "    <tr>\n",
       "      <th>2999</th>\n",
       "      <td>999</td>\n",
       "      <td>A true friend  p x #推特刷粉  R I Lis the one who ...</td>\n",
       "      <td>2</td>\n",
       "    </tr>\n",
       "  </tbody>\n",
       "</table>\n",
       "<p>3000 rows × 3 columns</p>\n",
       "</div>"
      ],
      "text/plain": [
       "      Unnamed: 0                                                  X  y\n",
       "0              0  @Cheers_NMk @RC123TC @RobertBritto4 @rekastner...  1\n",
       "1              1  @joeybaggadonuzz @KariLake @MaricopaVote And y...  1\n",
       "2              2  @DineshDSouza FIX INFLATION AND GAS PRICES LIK...  1\n",
       "3              3  @GovRonDeSantis @CaseyDeSantis Not being able ...  1\n",
       "4              4         @DougDucey @katiehobbs Spineless as usual.  1\n",
       "...          ...                                                ... ..\n",
       "2995         995  RT @centredevils: 🚨🚨| JUST IN: Part of Tim Coo...  2\n",
       "2996         996  @cutanddried @PennyMordaunt But when you are a...  2\n",
       "2997         997  I had such a long day. At least it's ending we...  2\n",
       "2998         998  Queen Consort Arrives for a Very Special Teddy...  2\n",
       "2999         999  A true friend  p x #推特刷粉  R I Lis the one who ...  2\n",
       "\n",
       "[3000 rows x 3 columns]"
      ]
     },
     "metadata": {},
     "output_type": "display_data"
    }
   ],
   "source": [
    "# load dataset\n",
    "df_D = pd.read_csv(\"data/dataset.csv\")\n",
    "display(df_D)"
   ]
  },
  {
   "cell_type": "markdown",
   "metadata": {},
   "source": [
    "#### Bag-of-Words\n",
    "\n",
    "Is used the scikit-learn implementation of bag of word using the CountVectorizer class.\n",
    "It take an array of text as input and return a bag-of-words model.\n",
    "\n",
    "##### Less frequently words\n",
    "To lower the dimension we can clean the words that appears less frequently, is used the \"min_df\" to set the minimum number of documents that the word needs to appear in."
   ]
  },
  {
   "cell_type": "code",
   "execution_count": 87,
   "metadata": {},
   "outputs": [
    {
     "name": "stdout",
     "output_type": "stream",
     "text": [
      "Vocabulary size: 1413\n",
      "Vocabulary content:\n",
      " {'rc123tc': 991, 'robertbritto4': 1033, 'rekastner': 1011, 'johnfetterman': 661, 'no': 850, 'laws': 706, 'are': 80, 'made': 757, 'to': 1242, 'illegal': 616, 'and': 69, 'provide': 970, 'if': 614, 'one': 879, 'it': 648, 'karilake': 671, 'maricopavote': 770, 'you': 1405, 'really': 1001, 'believe': 123, 'that': 1207, 'old': 876, 'man': 765, 'who': 1361, 'only': 881, 'had': 546, 'few': 434, 'with': 1372, 'turn': 1273, 'out': 888, 'won': 1377, 'more': 811, 'votes': 1321, 'than': 1202, 'any': 73, 'other': 886, 'president': 951, 'in': 623, 'history': 591, 'yeah': 1399, 'he': 566, 'stole': 1157, 'hell': 573, 'over': 889, 'very': 1309, 'fact': 415, 'but': 172, 'twitter': 1280, 'its': 649, 'day': 300, 'of': 867, 'mass': 772, 'fix': 452, 'inflation': 629, 'gas': 492, 'prices': 957, 'like': 726, 'not': 856, 'being': 122, 'able': 26, 'find': 445, 'job': 657, 'pay': 905, 'enough': 387, 'for': 460, 'my': 826, 'rent': 1013, 'match': 773, 'the': 1208, 'on': 877, 'days': 301, 'right': 1027, 'thanksgiving': 1206, 'is': 642, 'hard': 556, 'feel': 431, 'thankful': 1204, 'governor': 531, 'have': 562, 'going': 518, 'do': 334, 'something': 1127, 'about': 27, 'dougducey': 348, 'katiehobbs': 674, 'as': 88, 'does': 336, 'money': 809, 'role': 1036, 'politics': 938, 'yes': 1402, 'scotus': 1061, 'has': 558, 'put': 973, 'together': 1244, 'by': 174, 'people': 911, 'common': 239, 'speak': 1136, 'their': 1210, 'mind': 801, 'per': 912, 'first': 449, 'amendment': 63, 'say': 1055, 'vote': 1318, 'wrong': 1396, 'karilakewarroom': 672, 'jackposobiec': 650, 'time': 1239, 'will': 1366, 'tell': 1196, 'https': 606, 'co': 223, 'don': 342, 'turkey': 1272, 'second': 1064, 'nothing': 857, 'else': 380, 'problem': 962, 'criminals': 276, 'blame': 142, 'white': 1359, 'maga': 758, 'your': 1406, 'wife': 1365, 'pathetic': 903, 'profiled': 965, 'posers': 942, 'sentedcruz': 1080, 'tomcottonar': 1247, 'leadermcconnell': 709, 'repmtg': 1015, 'elisestefanik': 377, 'hawleymo': 565, 'johnkennedyla': 662, 'gopleader': 524, 'midterm': 794, 'supports': 1174, '6th': 21, 'insurrection': 636, 'based': 106, 'big': 130, 'lie': 723, 'damaged': 295, 'usa': 1298, 'emboldened': 381, 'hostile': 601, 'countries': 261, 'gop': 523, 'raising': 986, 'debt': 307, 'ceiling': 194, 'damage': 294, 'potus': 947, 'delivers': 312, 'short': 1096, 'hired': 588, 'oil': 873, 'pretend': 954, 'isn': 645, 'happening': 552, 'americans': 66, 'too': 1251, 'fall': 420, 'political': 937, 'corruption': 257, 'our': 887, 'future': 488, 'so': 1122, 'talking': 1186, 'cover': 267, 'plan': 922, 'brought': 166, 'us': 1297, 'all': 51, 'go': 514, 'along': 56, 'what': 1351, 'we': 1340, 'taking': 1184, 'here': 579, 'talk': 1185, 'kind': 685, 'did': 325, 'take': 1182, 'while': 1357, 'mom': 806, 'new': 841, 'house': 603, 'post': 945, 'bunch': 170, 'lies': 724, 'how': 604, 'much': 820, 'now': 860, 'vs': 1323, 'tudordixon': 1271, 'was': 1333, 'there': 1214, 'years': 1401, 'ago': 47, 'wanted': 1330, 'jail': 652, 'sick': 1105, 'driving': 353, 'between': 128, 'detroit': 322, 'back': 99, 'world': 1386, 'looked': 744, 'everywhere': 404, 'sad': 1047, 'joshshapiropa': 668, 'could': 259, 'pass': 901, 'gun': 540, 'moron': 813, 'wish': 1371, 'discovered': 330, 'this': 1223, 'earlier': 364, 'uniswap': 1289, 'exploited': 412, 'dude': 358, '200k': 9, 'far': 424, 'leaked': 711, 'alpha': 57, 'group': 537, 'dougmastriano': 349, 'damn': 296, 'got': 525, 'his': 589, 'policies': 935, 'lets': 720, 'them': 1211, 'less': 718, 'violence': 1315, 'amp': 67, 'from': 478, 'making': 764, 'harder': 557, 'law': 705, 'absolutely': 28, 'true': 1265, 'show': 1100, 'marceelias': 768, 'they': 1217, 'were': 1349, 'asked': 90, 'refused': 1007, 're': 992, 'patriots': 904, 'fraud': 472, 'called': 176, 'current': 285, 'let': 719, 'me': 781, 'know': 688, 'want': 1329, 'hear': 569, 'lost': 750, 'up': 1294, 'act': 34, 'person': 915, 'republican': 1018, 'arizona': 83, 'gov': 528, 'doug': 347, 'ducey': 357, 'katie': 673, 'hobbs': 592, 'congratulations': 246, 'win': 1369, 'shall': 1085, 'be': 111, 'infringed': 631, 'down': 350, 'family': 421, 'miss': 805, 'when': 1353, 'shame': 1086, 'boys': 156, 'mother': 815, 'happy': 554, 'foxnews': 466, 'glad': 512, 'duncan_colton': 361, 'why': 1363, 'nobody': 851, 'whitehouse': 1360, 'crime': 274, 'border': 150, 'energy': 383, 'cost': 258, 'kiltedtxn': 684, 'robert99344': 1032, 'yourself': 1408, 'truth': 1268, 'facts': 416, 'fetterman': 433, 'tweet': 1277, 'yours': 1407, 'never': 840, 'give': 508, 'anyone': 75, 'or': 883, 'mayraflores2022': 780, 'though': 1225, 'anything': 76, 'global': 513, 'issues': 647, 'sure': 1177, 'high': 583, 'school': 1058, 'late': 701, 'eth': 393, 'practical': 950, 'republicans': 1019, 'kari': 670, 'lake': 697, 'because': 115, 'government': 530, 'work': 1382, 'expert': 411, 'west': 1350, 'at': 92, 'before': 120, 'mar': 767, 'lago': 696, 'dinner': 328, 'donald': 343, 'trump': 1266, 'these': 1215, 'would': 1393, 'unfortunately': 1288, 'good': 522, 'bad': 100, 'spending': 1140, 'fed': 428, 'cause': 192, 'stop': 1158, 'private': 960, 'war': 1332, 'room': 1039, 'gregabbott_tx': 536, 'keep': 675, 'make': 762, 'point': 932, 'dems': 317, 'everybody': 400, 'open': 882, 'help': 576, 'legal': 717, 'live': 734, 'blue': 147, 'state': 1150, 'small': 1118, 'someone': 1126, 'evil': 405, 'fight': 440, 'fighting': 441, 'please': 930, 'just': 669, 'hey': 581, 'attention': 94, 'real': 996, 'story': 1159, 'bs': 168, 'tomfitton': 1248, 'mike_pence': 797, 'realdonaldtrump': 997, 'experienced': 410, 'team': 1192, 'starting': 1149, '50': 20, 'elonmusk': 379, 'generalbrnovich': 496, 'after': 43, 'sell': 1074, 'gold': 519, 'buy': 173, 'usd': 1299, 'drop': 354, '80': 23, 'then': 1213, 'those': 1224, 'can': 181, 'use': 1300, 'wc': 1339, 'thank': 1203, 'off': 868, 'using': 1302, 'covid': 269, 'supply': 1171, 'deaths': 304, '2020': 10, 'ridiculous': 1025, 'shut': 1104, 'trying': 1270, 'run': 1043, '1st': 7, 'election': 375, 'doing': 339, 'issue': 646, 'hearing': 571, 'america': 64, 'indeed': 626, 'greatest': 534, 'country': 262, 'even': 396, 'most': 814, 'constitution': 251, 'democracy': 313, '24': 13, 'support': 1172, 'funny': 487, 'thing': 1218, 'oz': 892, 'should': 1098, 'wasn': 1335, 'which': 1356, 'running': 1044, 'senator': 1076, 'jojofromjerz': 664, '2a': 15, 'droz': 355, 'oh': 872, 'price': 956, 'must': 825, 'been': 119, 'dream': 352, 'holding': 594, 'blowing': 146, 'read': 994, 'ethereum': 394, 'devs': 323, 'mev': 792, 'arb': 79, 'bots': 153, 'earn': 366, 'exploiting': 413, 'transactions': 1261, 'currently': 286, 'working': 1384, 'gonna': 521, 'loser': 748, 'think': 1220, 'actually': 38, 'created': 273, 'little': 733, 'get': 501, 'clearly': 217, 'part': 899, 'thanks': 1205, 'despite': 320, 'violent': 1316, 'black': 141, 'community': 240, 'repjayapal': 1014, 'another': 70, 'dumb': 360, 'democrat': 314, 'thinks': 1222, 'guns': 543, 'kill': 681, 'guess': 539, 'away': 96, 'wouldn': 1394, 'need': 835, 'she': 1091, 'afford': 41, 'might': 796, 'chance': 198, 'doesn': 337, 'close': 219, 'her': 578, 'meal': 782, 'love': 752, 'cup': 284, 'cry': 280, 'respect': 1020, 'life': 725, 'insane': 633, 'myself': 827, 'lmfao': 738, 'woman': 1375, 'recognize': 1004, 'supreme': 1176, 'court': 266, 'front': 479, 'acts': 36, 'city': 212, 'biden': 129, 'anti': 72, 'said': 1050, 'finally': 444, 'goes': 517, 'civil': 213, 'holiday': 595, 'happen': 550, 'again': 45, 'against': 46, 'doj': 340, 'used': 1301, 'where': 1354, 'voice': 1317, 'thought': 1226, 'way': 1338, 'democrats': 316, 'corrupt': 256, 'needs': 836, 'pretty': 955, 'everything': 403, 'until': 1292, 'becoming': 117, 'liberal': 722, 'ballot': 103, 'mail': 759, 'voting': 1322, 'thoughts': 1227, 'own': 890, 'come': 231, 'look': 743, 'each': 363, 'lol': 740, 'cannot': 183, 'such': 1167, '2nd': 16, 'allow': 53, 'every': 399, 'american': 65, 'carry': 190, 'well': 1347, 'regulated': 1010, 'militia': 799, 'actual': 37, 'criminal': 275, 'matthewjshow': 775, 'doubt': 346, 'az': 97, 'an': 68, 'voters': 1320, 'since': 1111, 'maricopa': 769, 'turned': 1274, 've': 1307, 'tried': 1263, 'ppl': 949, 'same': 1051, 'okay': 875, 'free': 473, 'media': 785, 'safeguards': 1049, 'negative': 837, 'press': 952, 'comes': 232, 'regime': 1009, 'guy': 544, 'wants': 1331, 'break': 160, 'fucking': 482, 'definitely': 311, 'newsmax': 843, 'consider': 249, 'climate': 218, 'especially': 389, 'including': 625, 'north': 855, 'wow': 1395, 'am': 61, '4vrdpbb4qa': 19, 'tedcruz': 1194, 'list': 731, 'friends': 477, 'throw': 1233, 'under': 1285, 'bus': 171, 'given': 510, 'rights': 1028, 'done': 344, 'bill': 133, 'racist': 985, 'office': 870, 'll': 736, 'hope': 599, 'continue': 252, 'fellow': 432, 'return': 1023, 'strong': 1162, 'keeps': 676, 'safe': 1048, 'saw': 1054, 'week': 1343, 'red': 1006, 'etc': 392, 'bigger': 131, 'united': 1290, 'states': 1151, 'national': 832, 'elections': 376, 'prime': 959, 'minister': 803, 'says': 1057, 'anywhere': 77, 'quick': 980, 'check': 205, 'single': 1112, 'bro': 163, 'serious': 1082, 'account': 33, 'didn': 326, 'yet': 1404, 'getting': 503, 'higher': 584, 'george': 498, 'great': 533, 'many': 766, 'dont': 345, 'him': 585, 'nah': 828, 'best': 125, 'party': 900, 'deal': 303, 'dollars': 341, 'learn': 712, 'stephen_richer': 1153, 'billgatesaz': 134, 'cheated': 204, 'knew': 687, 'song': 1129, 'reason': 1003, 'breaking': 161, 'european': 395, 'policy': 936, 'member': 787, 'couldn': 260, 'debate': 305, 'washington': 1334, 'some': 1125, 'information': 630, 'shootings': 1095, 'change': 199, 'beautiful': 114, 'speaking': 1137, 'billionaire': 136, 'neighbor': 838, 'crowd': 279, 'aren': 81, 'transactional': 1260, 'smartnews': 1119, 'obama': 864, 'documents': 335, 'home': 597, 'mean': 783, 'haven': 563, 'neither': 839, 'china': 208, 'still': 1156, 'growing': 538, 'start': 1147, 'probably': 961, 'try': 1269, 'also': 59, 'ass': 91, 'things': 1219, 'problems': 963, 'disaster': 329, 'food': 458, 'democratic': 315, 'senate': 1075, 'control': 253, 'due': 359, 'stupid': 1165, 'joe': 659, 'hates': 561, 'soon': 1130, 'gone': 520, 'full': 484, 'news': 842, 'public': 971, 'official': 871, 'order': 885, 'dick': 324, 'enjoy': 386, 'proof': 967, 'helped': 577, 'georgia': 499, 'gets': 502, 'tax': 1189, 'million': 800, 'texas': 1200, 'via': 1310, 'dr': 351, 'john': 660, 'hate': 560, 'women': 1376, 'least': 713, 'form': 461, 'sentence': 1081, 'conservative': 248, 'better': 127, 'candidates': 182, 'figure': 442, 'into': 639, 'cheat': 203, 'crisis': 277, 'south': 1133, 'two': 1281, 'picture': 919, 'citizens': 211, 'frankmikedavis1': 471, 'education': 373, 'left': 716, 'during': 362, 'instead': 635, 'seccardona': 1063, 'yesterday': 1403, 'decide': 308, 'bring': 162, 'focus': 454, 'college': 229, 'general': 495, 'center': 196, 'hunter': 609, 'laptop': 698, 'child': 206, 'taxes': 1190, 'giving': 511, 'long': 741, 'drugs': 356, 'tweets': 1278, 'ur': 1295, 'share': 1089, 'reach': 993, 'voted': 1319, 'desantis': 318, 'last': 700, 'told': 1245, 'similar': 1109, 'seems': 1070, 'exactly': 406, '20': 8, 'code': 225, 'signed': 1108, 'case': 191, 'companies': 241, 'midterms': 795, 'lack': 694, 'integrity': 637, 'ralpheo62': 987, 'losing': 749, 'immediately': 619, 'end': 382, 'rncresearch': 1030, 'welcome': 1346, 'see': 1067, 'anybody': 74, 'except': 407, 'watching': 1337, 'video': 1312, 'shit': 1092, 'call': 175, 'baby': 98, 'killing': 683, 'choice': 209, 'supported': 1173, 'majority': 761, 'half': 547, 'allen': 52, 'terms': 1198, 'hold': 593, 'blind': 144, 'seen': 1071, 'space': 1134, 'nice': 848, 'fake': 419, 'both': 152, 'bitch': 140, 'reality': 998, 'twice': 1279, 'bank': 104, 'federal': 429, 'kept': 678, 'lot': 751, 'interesting': 638, 'results': 1022, 'winner': 1370, 'card': 186, 'care': 187, 'govabbott': 529, 'concede': 244, 'everyone': 402, 'ed': 371, 'army': 85, 'website': 1342, 'caused': 193, 'police': 934, 'racism': 984, 'joke': 665, 'whole': 1362, 'idiot': 613, 'senmastriano': 1078, 'tv': 1276, 'wide': 1364, '10': 0, 'fine': 447, 'books': 149, 'literally': 732, 'couple': 264, 'weeks': 1344, 'sit': 1113, 'move': 817, 'today': 1243, 'economy': 370, 'place': 921, 'course': 265, 'military': 798, 'lmao': 737, 'bear': 112, 'arms': 84, 'ahead': 49, 'youtube': 1409, 'heard': 570, 'yea': 1398, 'woke': 1374, 'looking': 745, 'rest': 1021, 'looks': 746, 'total': 1257, 'known': 689, 'spend': 1139, 'value': 1304, 'daily': 290, 'african': 42, 'matter': 774, 'josh': 667, 'cut': 287, 'green': 535, 'fuel': 483, 'kids': 680, 'blood': 145, 'hands': 549, 'clowns': 221, 'dead': 302, 'children': 207, 'hi': 582, 'bbc': 109, 'career': 188, 'living': 735, 'putting': 974, 'totally': 1258, 'once': 878, 'report': 1016, 'parents': 897, 'weapons': 1341, 'nra': 861, 'attack': 93, 'cool': 254, 'terrible': 1199, 'through': 1232, 'quite': 981, 'year': 1400, 'having': 564, 'meet': 786, 'poor': 940, 'seem': 1069, 'completely': 243, 'lucky': 754, 'always': 60, 'individual': 628, 'wake': 1326, 'failure': 417, 'hand': 548, 'dare': 297, 'taught': 1188, 'brain': 158, 'top': 1253, 'package': 894, 'whining': 1358, 'sounds': 1132, 'stand': 1144, 'normal': 854, '22': 12, 'security': 1066, 'understand': 1286, 'different': 327, 'freedom': 474, 'culture': 283, 'jersey': 656, 'congress': 247, 'protect': 968, 'unless': 1291, 'king': 686, 'times': 1240, 'found': 464, 'broken': 164, '100': 1, 'sorry': 1131, 'conspiracy': 250, 'almost': 55, 'night': 849, 'came': 178, 'later': 702, 'mouth': 816, 'worst': 1392, 'several': 1084, 'without': 1373, 'schools': 1059, 'paying': 906, 'social': 1124, 'jobs': 658, 'coverage': 268, 'ukraine': 1283, 'major': 760, 'thread': 1229, 'cnn': 222, 'blessed': 143, 'captmarkkelly': 184, 'profile': 964, 'posted': 946, 'stage': 1143, 'game': 489, 'works': 1385, 'shooting': 1094, 'happened': 551, 'agree': 48, 'set': 1083, 'next': 844, 'huge': 607, 'rather': 989, 'filled': 443, 'abuse': 29, 'power': 948, 'dm': 333, 'photo': 916, 'car': 185, 'face': 414, 'certain': 197, 'defense': 310, 'self': 1073, 'friend': 476, 'argue': 82, 'themselves': 1212, 'bc': 110, 'address': 40, 'non': 852, 'league': 710, 'crazy': 272, 'student': 1163, 'takes': 1183, 'ask': 89, 'leave': 714, 'fair': 418, 'side': 1106, 'words': 1381, 'cult': 282, 'tom': 1246, 'grateful': 532, 'snake': 1121, 'health': 568, 'folks': 455, 'god': 516, 'knows': 690, 'record': 1005, 'immigration': 620, 'investigation': 640, 'murder': 823, 'county': 263, 'access': 31, 'owner': 891, 'proud': 969, 'wait': 1324, 'floor': 453, 'lose': 747, 'sense': 1079, 'sides': 1107, 'guncontrol': 541, 'debates': 306, 'articles': 87, 'below': 124, 'guncontrolnow': 542, 'nation': 831, 'pic': 917, 'fought': 463, 'campaign': 180, 'race': 983, 'rigged': 1026, 'earth': 367, 'yall': 1397, 'realize': 999, 'play': 923, 'games': 490, 'turns': 1275, 'november': 859, '2022': 11, 'pence': 910, 'fox': 465, 'wonder': 1378, 'realjameswoods': 1000, 'color': 230, 'father': 425, 'wonderful': 1379, 'however': 605, 'add': 39, 'holidays': 596, 'whatever': 1352, 'cares': 189, 'beat': 113, 'took': 1252, 'become': 116, 'clown': 220, 'leader': 708, 'head': 567, 'abbott': 25, 'rate': 988, 'coming': 233, 'shown': 1102, 'goal': 515, 'morning': 812, 'secret': 1065, 'ronfilipkowski': 1038, 'maybe': 779, 'accept': 30, 'deserve': 319, 'stay': 1152, 'remember': 1012, 'saying': 1056, 'lady': 695, '40': 18, 'thousands': 1228, 'class': 214, 'destroy': 321, 'clean': 215, 'mr': 819, 'around': 86, 'view': 1313, 'bet': 126, 'telling': 1197, 'whether': 1355, 'worse': 1391, 'either': 374, 'fully': 485, 'special': 1138, 'expect': 409, 'bills': 137, 'ever': 398, 'robbed': 1031, 'market': 771, 'event': 397, '19': 6, 'horrible': 600, 'pa': 893, 'yrs': 1410, 'smh': 1120, 'started': 1148, 'may': 778, 'body': 148, 'obviously': 866, 'makes': 763, 'thinking': 1221, 'fit': 451, 'answer': 71, 'project': 966, 'fan': 422, 'word': 1380, 'football': 459, 'fans': 423, 'allowed': 54, 'kid': 679, 'name': 829, 'fuck': 481, 'already': 58, 'tf': 1201, 'himself': 586, 'means': 784, '30': 17, 'season': 1062, 'perfect': 913, 'mention': 790, 'clear': 216, 'follow': 456, 'showing': 1101, 'ag': 44, 'orange': 884, 'streets': 1161, 'ok': 874, 'honestly': 598, 'level': 721, 'join': 663, 'situation': 1114, 'victims': 1311, 'pull': 972, 'system': 1180, 'hasn': 559, 'chat': 202, 'action': 35, 'straight': 1160, 'guys': 545, 'behind': 121, 'multiple': 822, 'monday': 808, 'discuss': 331, 'stfu': 1155, 'past': 902, 'type': 1282, 'suit': 1168, 'early': 365, 'son': 1128, 'playing': 927, 'rules': 1042, 'eat': 369, 'minimum': 802, '12': 3, '14': 4, 'gift': 506, 'wall': 1327, 'number': 862, 'super': 1170, 'generation': 497, 'question': 979, 'simply': 1110, 'hurt': 610, 'none': 853, 'gave': 493, 'hire': 587, 'send': 1077, 'mental': 789, 'garbage': 491, 'billion': 135, 'killed': 682, 'went': 1348, 'fun': 486, 'girl': 507, 'date': 299, 'available': 95, 'watch': 1336, 'worked': 1383, 'sports': 1141, 'ones': 880, 'save': 1053, 'line': 729, 'bit': 139, 'tony': 1250, 'mufc': 821, 'character': 201, 'shot': 1097, 'wanna': 1328, 'impact': 621, 'ready': 995, 'moment': 807, 'pen': 908, 'seeing': 1068, 'cuz': 288, 'local': 739, 'likes': 727, 'rich': 1024, 'easily': 368, 'happythanksgiving': 555, 'success': 1166, 'calling': 177, '15': 5, 'human': 608, 'shows': 1103, 'rock': 1034, 'paid': 896, 'size': 1115, 'regarding': 1008, 'lead': 707, 'hot': 602, 'amazing': 62, 'elon': 378, 'gotten': 527, 'possible': 944, 'decision': 309, 'rush': 1045, 'trust': 1267, 'crying': 281, 'penalty': 909, 'shouldn': 1099, 'everyday': 401, 'waiting': 1325, 'inside': 634, 'throwing': 1234, 'realskipbayless': 1002, 'undisputed': 1287, 'luka': 755, 'important': 622, 'micah': 793, 'fifaworldcup': 437, 'fs1': 480, 'played': 924, 'narrative': 830, 'lebron': 715, 'topics': 1255, 'topic': 1254, 'pollard': 939, 'barkley': 105, 'skip': 1116, 'bayless': 108, 'favourite': 427, 'player': 925, 'heart': 572, 'ra626': 982, 'isaiahwest_44': 643, 'kenpaacchi': 677, 'bigron44588520': 132, 'cooper': 255, 'jerry': 655, 'jones': 666, 'men': 788, 'former': 462, 'teams': 1193, 'conference': 245, 'cowboys': 271, 'shannonsharpe': 1088, 'dak': 291, 'giants': 505, 'colincowherd': 227, 'thevolumesports': 1216, 'iheartradio': 615, 'colin': 226, 'coach': 224, 'nfl': 845, 'portugal': 941, 'ghana': 504, 'tournament': 1259, 'fifaworldcup2022': 438, 'qatar2022': 975, 'fifaworldcuponfox': 439, 'worldcup': 1387, 'worldcup2022': 1388, 'qatarworldcup2022': 976, 'foxsoccer': 467, 'hello': 574, 'playoff': 928, 'scored': 1060, 'jenhale504': 654, 'dallascowboys': 293, 'nflonfox': 846, 'jen': 653, 'foxsports': 468, 'segment': 1072, 'offense': 869, 'mavs': 777, 'players': 926, 'qb': 977, 'position': 943, 'ain': 50, 'baker': 101, 'compared': 242, 'dad': 289, 'prestongaxx': 953, 'saquon': 1052, 'stephenasmith': 1154, 'dog': 338, 'parsons': 898, 'mavericks': 776, 'according': 32, 'thechriskessell': 1209, 'worldsoccertalk': 1390, 'helltownbeer': 575, 'geezer': 494, 'tore': 1256, 'kyrie': 693, 'rt': 1041, 'laugh': 703, 'excuse': 408, 'rb': 990, 'shannon': 1087, 'boring': 151, 'basketball': 107, 'channel': 200, 'gotta': 526, 'germany': 500, 'imagine': 618, 'im': 617, 'dallas': 292, 'ronaldo': 1037, 'pick': 918, 'round': 1040, 'plays': 929, 'cristiano': 278, 'rn': 1029, 'brown': 167, 'wilson': 1368, 'cowboy': 270, 'suspended': 1178, 'talks': 1187, 'apology': 78, 'nba': 833, '11': 2, 'star': 1146, 'valuable': 1303, 'franchise': 470, 'vdizzo_': 1306, 'minutes': 804, 'jaga_nbanflmlb': 651, 'williams': 1367, 'favorite': 426, 'boy': 155, 'mentioned': 791, 'commentator': 237, 'foxsportspr': 469, 'peacock': 907, 'soccer': 1123, 'weird': 1345, 'stuff': 1164, 'injured': 632, 'england': 384, 'sling': 1117, 'brady': 157, 'spanish': 1135, 'telemundo': 1195, 'finished': 448, 'sharpe': 1090, 'obvious': 865, 'tlmillerjr32': 1241, 'bout': 154, 'rodgers': 1035, 'english': 385, '27': 14, 'tbh': 1191, 'aaron': 24, 'thumb': 1235, 'near': 834, 'points': 933, 'vikings': 1314, 'celebrate': 195, 'hes': 580, 'pm': 931, 'brazil': 159, 'trending': 1262, '70': 22, 'bed': 118, 'link': 730, 'nov': 858, 'worldcupqatar2022': 1389, 'mad': 756, 'standing': 1145, 'et': 391, 'commentators': 238, 'piece': 920, 'three': 1230, 'incident': 624, 'feed': 430, 'espn': 390, 'supposed': 1175, 'firsttake': 450, 'ball': 102, 'liltunechi': 728, 'tonight': 1249, 'comment': 235, 'birthday': 138, 'edition': 372, 'friday': 475, 'ian': 612, 'darke': 298, 'commentary': 236, 'uruguay': 1296, 'korea': 691, 'fifa': 436, 'switzerland': 1179, 'cameroon': 179, 'till': 1238, 'korean': 692, 'thursday': 1236, 'month': 810, 'collection': 228, 'movie': 818, 'husband': 611, '上海线下': 1412, '上海': 1411, 'musk': 824, 'version': 1308, 'historic': 590, 'longest': 742, 'spotify': 1142, 'dived': 332, 'finding': 446, 'performance': 914, 'trollfootball': 1264, 'thriller': 1231, 'qhp95cvexw': 978, 'giveaway': 509, 'brothers': 165, 'enter': 388, 'pahlavireza': 895, 'un_hrc': 1284, 'launch': 704, 'islamic': 644, 'republic': 1017, 'var': 1305, 'following': 457, 'russia': 1046, 'shivthakare': 1093, 'sumbul': 1169, 'loving': 753, 'bts': 169, 'tag': 1181, 'fi': 435, 'christians': 210, 'priest': 958, 'nun': 863, 'happiness': 553, 'large': 699, 'commandment': 234, 'unto': 1293, 'tigray': 1237, 'nft': 847, 'indigo': 627, 'iran': 641}\n"
     ]
    }
   ],
   "source": [
    "from sklearn.feature_extraction.text import CountVectorizer\n",
    "count = CountVectorizer(min_df=5)\n",
    "count.fit(df_D.loc[:,'X']) # generate Bag-of-words model\n",
    "\n",
    "print(\"Vocabulary size: {}\". format(len(count.vocabulary_)))\n",
    "print(\"Vocabulary content:\\n {}\".format(count.vocabulary_))"
   ]
  },
  {
   "cell_type": "markdown",
   "metadata": {},
   "source": [
    "#### Stemming\n",
    "We can further improve our bag-of-words pre-processing using a normalization technique called stemming.\n",
    "The idea is to reduce each word to its stem, using the stemming algorithm (rule-based heuristic).\n",
    "For example a stemmer reduce words like \"climber\", \"climbed\" and \"climbing\" to \"climb\".\n",
    "\n",
    "The Natural Language Toolkit for Python (NLTK, http://www.nltk.org) implements the Snowball stemming algorithm."
   ]
  },
  {
   "cell_type": "code",
   "execution_count": 6,
   "metadata": {},
   "outputs": [
    {
     "name": "stderr",
     "output_type": "stream",
     "text": [
      "/Users/agustin/opt/anaconda3/envs/ml_lab/lib/python3.9/site-packages/sklearn/feature_extraction/text.py:516: UserWarning: The parameter 'token_pattern' will not be used since 'tokenizer' is not None'\n",
      "  warnings.warn(\n"
     ]
    },
    {
     "name": "stdout",
     "output_type": "stream",
     "text": [
      "Vocabulary size using stemming: 1389\n"
     ]
    }
   ],
   "source": [
    "# Apply advance tokenization\n",
    "from nltk.stem.snowball import SnowballStemmer\n",
    "stemmer = SnowballStemmer(\"english\")\n",
    "\n",
    "# create a function to \n",
    "def tokenizer_snowballStemmer(text):\n",
    "    return [stemmer.stem(word) for word in text.split()]\n",
    "\n",
    "tokenizer_snowballStemmer(\"The pink sweater fit her perfectly\") # test\n",
    "\n",
    "count = CountVectorizer(tokenizer = tokenizer_snowballStemmer, min_df=5) # use tokenizer function\n",
    "count.fit(df_D.loc[:,'X']) # generate Bag-of-words\n",
    "\n",
    "print(\"Vocabulary size using stemming: {}\". format(len(count.vocabulary_)))\n",
    "#print(\"Vocabulary content:\\n {}\".format(count.vocabulary_))"
   ]
  },
  {
   "cell_type": "markdown",
   "metadata": {},
   "source": [
    "### Modeling\n",
    "\n",
    "Shuffle and divide the data in Training and Test set."
   ]
  },
  {
   "cell_type": "code",
   "execution_count": 7,
   "metadata": {},
   "outputs": [],
   "source": [
    "from sklearn.model_selection import train_test_split\n",
    "\n",
    "# split data\n",
    "X_train, X_test, y_train, y_test = train_test_split(\n",
    "    df_D.loc[:,'X'], df_D.loc[:,'y'], test_size=0.3, random_state=0, shuffle=True)"
   ]
  },
  {
   "cell_type": "markdown",
   "metadata": {},
   "source": [
    "Then apply the previous pre-processing methods for text. The transformation is applied to the Training set and then the Test set."
   ]
  },
  {
   "cell_type": "code",
   "execution_count": 8,
   "metadata": {},
   "outputs": [
    {
     "name": "stdout",
     "output_type": "stream",
     "text": [
      "X_train: (2100, 1017)\n",
      "X_test: (900, 1017)\n"
     ]
    }
   ],
   "source": [
    "# generate bag of word model\n",
    "count = CountVectorizer(tokenizer=tokenizer_snowballStemmer, min_df=5).fit(X_train)\n",
    "\n",
    "# apply transformation to the data\n",
    "X_train_bow = count.transform(X_train)\n",
    "print(\"X_train: {}\".format(X_train_bow.shape))\n",
    "\n",
    "X_test_bow = count.transform(X_test)\n",
    "print(\"X_test: {}\".format(X_test_bow.shape))"
   ]
  },
  {
   "cell_type": "markdown",
   "metadata": {},
   "source": [
    "Fit a Random Forest model on the Training set."
   ]
  },
  {
   "cell_type": "code",
   "execution_count": 80,
   "metadata": {},
   "outputs": [],
   "source": [
    "from sklearn.ensemble import RandomForestClassifier\n",
    "\n",
    "# fit a Random Forest model\n",
    "clf = RandomForestClassifier(n_estimators=100)"
   ]
  },
  {
   "cell_type": "markdown",
   "metadata": {},
   "source": [
    "Check the model performance using cross validation (on the training set) and show the accuracy results."
   ]
  },
  {
   "cell_type": "code",
   "execution_count": 81,
   "metadata": {},
   "outputs": [
    {
     "data": {
      "text/plain": [
       "'Cross Validation scores'"
      ]
     },
     "metadata": {},
     "output_type": "display_data"
    },
    {
     "data": {
      "text/plain": [
       "'Accuracy cv=1: 93.1'"
      ]
     },
     "metadata": {},
     "output_type": "display_data"
    },
    {
     "data": {
      "text/plain": [
       "'Accuracy cv=2: 93.57'"
      ]
     },
     "metadata": {},
     "output_type": "display_data"
    },
    {
     "data": {
      "text/plain": [
       "'Accuracy cv=3: 94.52'"
      ]
     },
     "metadata": {},
     "output_type": "display_data"
    },
    {
     "data": {
      "text/plain": [
       "'Accuracy cv=4: 95.0'"
      ]
     },
     "metadata": {},
     "output_type": "display_data"
    },
    {
     "data": {
      "text/plain": [
       "'Accuracy cv=5: 95.0'"
      ]
     },
     "metadata": {},
     "output_type": "display_data"
    },
    {
     "data": {
      "text/plain": [
       "'Accuracy MEAN: 94.0'"
      ]
     },
     "metadata": {},
     "output_type": "display_data"
    }
   ],
   "source": [
    "from sklearn.model_selection import cross_val_score\n",
    "from sklearn.metrics import accuracy_score\n",
    "\n",
    "# plot CV results\n",
    "scores = cross_val_score(clf, X_train_bow, y_train, cv=5, scoring='accuracy')\n",
    "display(\"Cross Validation scores\")\n",
    "i=1\n",
    "for a in scores:\n",
    "    display(\"Accuracy cv=\" + str(i) + \": \" + str(round(a*100, 2)))\n",
    "    i = i+1\n",
    "\n",
    "display(\"Accuracy MEAN: \"+str(round(scores.mean(),2)*100))"
   ]
  },
  {
   "cell_type": "markdown",
   "metadata": {},
   "source": [
    "Now the model is tested on the Test set. Are then plotted the accuracy and the confusion matrix."
   ]
  },
  {
   "cell_type": "code",
   "execution_count": 82,
   "metadata": {},
   "outputs": [
    {
     "data": {
      "text/plain": [
       "'Test set accuracy: 95.0'"
      ]
     },
     "metadata": {},
     "output_type": "display_data"
    },
    {
     "data": {
      "text/plain": [
       "array([[274,   2,   0],\n",
       "       [ 17, 309,   5],\n",
       "       [  7,  14, 272]])"
      ]
     },
     "metadata": {},
     "output_type": "display_data"
    }
   ],
   "source": [
    "import matplotlib.pyplot as plt\n",
    "from sklearn.metrics import confusion_matrix, ConfusionMatrixDisplay\n",
    "\n",
    "clf = clf.fit(X_train_bow, y_train)\n",
    "\n",
    "# results on test set\n",
    "predictions = clf.predict(X_test_bow)\n",
    "test_accuracy = accuracy_score(predictions, y_test)\n",
    "display(\"Test set accuracy: \" + str(round(test_accuracy*100, 2)))\n",
    "\n",
    "display(confusion_matrix(predictions, y_test)) # display confusion matrix"
   ]
  },
  {
   "cell_type": "markdown",
   "metadata": {},
   "source": [
    "## 2. Group by main topics: unsupervised approach\n",
    "\n",
    "The request is now to show the main topics. Is used an unsupervised approach.\n",
    "\n",
    "Since we have already split in Training and Test set we can work on the Training set. Is tried first the same pre-processing of the point 1: a bag-of-word with stemming and minimum frequency. Let's take the already pre-processed Training set. \n",
    "\n",
    "Let's first divide it between the sports and politics."
   ]
  },
  {
   "cell_type": "code",
   "execution_count": 50,
   "metadata": {},
   "outputs": [
    {
     "name": "stdout",
     "output_type": "stream",
     "text": [
      "X_train_bow_sports: (702, 1017)\n",
      "X_train_bow_politics: (675, 1017)\n"
     ]
    }
   ],
   "source": [
    "X_train_bow_sports = X_train_bow[y_train==0]\n",
    "print(\"X_train_bow_sports: {}\".format(X_train_bow_sports.shape))\n",
    "\n",
    "X_train_bow_politics = X_train_bow[y_train==1]\n",
    "print(\"X_train_bow_politics: {}\".format(X_train_bow_politics.shape))\n",
    "\n",
    "# we save also the original data to be anlyzed for the next steps\n",
    "X_train_sports = X_train.loc[y_train==0]\n",
    "X_train_politics = X_train.loc[y_train==1]"
   ]
  },
  {
   "cell_type": "markdown",
   "metadata": {},
   "source": [
    "### Modeling\n",
    "\n",
    "We can now try a hierarchical clustering algorithm on our data. To choose the *k* first we explore the data generating a dendogram.\n"
   ]
  },
  {
   "cell_type": "code",
   "execution_count": 26,
   "metadata": {},
   "outputs": [],
   "source": [
    "import numpy as np\n",
    "\n",
    "from scipy.cluster.hierarchy import dendrogram\n",
    "from sklearn.cluster import AgglomerativeClustering\n",
    "\n",
    "# use the pre-built scikit learn function\n",
    "def plot_dendrogram(model, **kwargs):\n",
    "    # Create linkage matrix and then plot the dendrogram\n",
    "\n",
    "    # create the counts of samples under each node\n",
    "    counts = np.zeros(model.children_.shape[0])\n",
    "    n_samples = len(model.labels_)\n",
    "    for i, merge in enumerate(model.children_):\n",
    "        current_count = 0\n",
    "        for child_idx in merge:\n",
    "            if child_idx < n_samples:\n",
    "                current_count += 1  # leaf node\n",
    "            else:\n",
    "                current_count += counts[child_idx - n_samples]\n",
    "        counts[i] = current_count\n",
    "\n",
    "    linkage_matrix = np.column_stack(\n",
    "        [model.children_, model.distances_, counts]\n",
    "    ).astype(float)\n",
    "\n",
    "    # Plot the corresponding dendrogram\n",
    "    dendrogram(linkage_matrix, **kwargs)"
   ]
  },
  {
   "cell_type": "code",
   "execution_count": 83,
   "metadata": {},
   "outputs": [
    {
     "name": "stdout",
     "output_type": "stream",
     "text": [
      "Hierarchical Clustering Dendrograms:\n"
     ]
    },
    {
     "data": {
      "image/png": "[encoded data removed]",
      "text/plain": [
       "<Figure size 640x480 with 2 Axes>"
      ]
     },
     "metadata": {},
     "output_type": "display_data"
    }
   ],
   "source": [
    "plt.figure(101)\n",
    "print('Hierarchical Clustering Dendrograms:')\n",
    "\n",
    "plt.subplot(2, 2, 1)\n",
    "plt.title(\"Politics\")\n",
    "model_nocluster_politics = AgglomerativeClustering(distance_threshold=0, n_clusters=None).fit(X_train_bow_politics.toarray())\n",
    "plot_dendrogram(model_nocluster_politics, truncate_mode=\"level\", p=6)\n",
    "\n",
    "plt.subplot(2, 2, 2)\n",
    "plt.title(\"Sports\")\n",
    "model_nocluster_sports = AgglomerativeClustering(distance_threshold=0, n_clusters=None).fit(X_train_bow_sports.toarray())\n",
    "plot_dendrogram(model_nocluster_sports, truncate_mode=\"level\", p=6)\n",
    "\n",
    "plt.show()"
   ]
  },
  {
   "cell_type": "markdown",
   "metadata": {},
   "source": []
  },
  {
   "cell_type": "code",
   "execution_count": 86,
   "metadata": {},
   "outputs": [],
   "source": [
    "model_ac_politics = AgglomerativeClustering(n_clusters=3).fit(X_train_bow_politics.toarray())\n",
    "y_train_bow_politics = model_ac_politics.fit_predict(X_train_bow_politics.toarray())\n",
    "\n",
    "model_ac_sports = AgglomerativeClustering(n_clusters=3).fit(X_train_bow_sports.toarray())\n",
    "y_train_bow_sports = model_ac_sports.fit_predict(X_train_bow_sports.toarray())"
   ]
  },
  {
   "cell_type": "markdown",
   "metadata": {},
   "source": []
  },
  {
   "cell_type": "code",
   "execution_count": 85,
   "metadata": {},
   "outputs": [
    {
     "data": {
      "text/plain": [
       "'Class: 1 Text: @KariLakeWarRoom @TruthisFreedo16 @katiehobbs Why is nobody talking about this? Uniswap is being exploited by this dude. More than $200k so far https://t.co/16BYmeSaEv leaked in alpha group'"
      ]
     },
     "metadata": {},
     "output_type": "display_data"
    },
    {
     "data": {
      "text/plain": [
       "'Class: 1 Text: @TudorDixon @PaulRFuller14 @hernandez4ltgov Why is nobody talking about this? Uniswap is being exploited by this dude. More than $200k so far https://t.co/VCmEFymvFk leaked in alpha group'"
      ]
     },
     "metadata": {},
     "output_type": "display_data"
    },
    {
     "data": {
      "text/plain": [
       "'Class: 1 Text: @hodlbz @nopenottodaye @JohnFetterman I Wish I discovered this earlier. Uniswap is being exploited by this dude. More than $200k so far https://t.co/mKZI7x0fRg leaked in alpha group'"
      ]
     },
     "metadata": {},
     "output_type": "display_data"
    },
    {
     "data": {
      "text/plain": [
       "'Class: 1 Text: @KariLake @zzprosper Why is nobody talking about this? Uniswap is being exploited by this dude. More than $200k so far https://t.co/Q0Jm0ca356 leaked in alpha group'"
      ]
     },
     "metadata": {},
     "output_type": "display_data"
    },
    {
     "data": {
      "text/plain": [
       "'Class: 1 Text: @KariLake @deb_noname @GeneralBrnovich Why is nobody talking about this? Uniswap is being exploited by this dude. More than $200k so far https://t.co/bewEqRP0Xs leaked in alpha group'"
      ]
     },
     "metadata": {},
     "output_type": "display_data"
    },
    {
     "data": {
      "text/plain": [
       "'Class: 1 Text: @KariLake @TammyHauldren Why is nobody talking about this? Uniswap is being exploited by this dude. More than $200k so far https://t.co/IsXwDDGAnj leaked in alpha group'"
      ]
     },
     "metadata": {},
     "output_type": "display_data"
    },
    {
     "data": {
      "text/plain": [
       "'Class: 1 Text: @GregAbbott_TX @AmericaFirst60 Why is nobody talking about this? Uniswap is being exploited by this dude. More than $200k so far https://t.co/vbGDDWQSp4 leaked in alpha group'"
      ]
     },
     "metadata": {},
     "output_type": "display_data"
    },
    {
     "data": {
      "text/plain": [
       "'Class: 1 Text: @KariLake @JohnAWilsonII Why is nobody talking about this? Uniswap is being exploited by this dude. More than $200k so far https://t.co/ranSBNPEml leaked in alpha group'"
      ]
     },
     "metadata": {},
     "output_type": "display_data"
    },
    {
     "data": {
      "text/plain": [
       "'Class: 1 Text: @KariLake @rebeccajoc Why is nobody talking about this? Uniswap is being exploited by this dude. More than $200k so far https://t.co/n68oqZEf6S leaked in alpha group'"
      ]
     },
     "metadata": {},
     "output_type": "display_data"
    },
    {
     "data": {
      "text/plain": [
       "'Class: 1 Text: @KariLake @momomanaz @GeneralBrnovich Why is nobody talking about this? Uniswap is being exploited by this dude. More than $200k so far https://t.co/F4dzAHqEtc leaked in alpha group'"
      ]
     },
     "metadata": {},
     "output_type": "display_data"
    },
    {
     "data": {
      "text/plain": [
       "'Class: 1 Text: @KariLakeWarRoom @JaCo00188220 @RepMattGaetz I Wish I discovered this earlier. Uniswap is being exploited by this dude. More than $200k so far https://t.co/k3rEy7rW6B leaked in alpha group'"
      ]
     },
     "metadata": {},
     "output_type": "display_data"
    },
    {
     "data": {
      "text/plain": [
       "'Class: 1 Text: @demlish4love @dannyalziansyah @danimlke @duncan_colton @Clouds19712 @KariLake I Wish I discovered this earlier. Uniswap is being exploited by this dude. More than $200k so far https://t.co/BKf8BNO8wZ leaked in alpha group'"
      ]
     },
     "metadata": {},
     "output_type": "display_data"
    },
    {
     "data": {
      "text/plain": [
       "'Class: 1 Text: @duncan_colton @jakedunn_27 @KariLake Why is nobody talking about this? Uniswap is being exploited by this dude. More than $200k so far https://t.co/2MzgPGkEEX leaked in alpha group'"
      ]
     },
     "metadata": {},
     "output_type": "display_data"
    },
    {
     "data": {
      "text/plain": [
       "'Class: 1 Text: @KariLake @flwrpatriot I Wish I discovered this earlier. Uniswap is being exploited by this dude. More than $200k so far https://t.co/NoSeS2OOoQ leaked in alpha group'"
      ]
     },
     "metadata": {},
     "output_type": "display_data"
    },
    {
     "data": {
      "text/plain": [
       "'Class: 1 Text: @KariLake @CCross1776 @Liz_Cheney Why is nobody talking about this? Uniswap is being exploited by this dude. More than $200k so far https://t.co/BYINLzZAkG leaked in alpha group'"
      ]
     },
     "metadata": {},
     "output_type": "display_data"
    },
    {
     "data": {
      "text/plain": [
       "'Class: 1 Text: @KariLake @samcastle77 Why is nobody talking about this? Uniswap is being exploited by this dude. More than $200k so far https://t.co/UMN4ExRxuS leaked in alpha group'"
      ]
     },
     "metadata": {},
     "output_type": "display_data"
    },
    {
     "data": {
      "text/plain": [
       "'Class: 1 Text: @KariLake @BigTecSuckz I Wish I discovered this earlier. Uniswap is being exploited by this dude. More than $200k so far https://t.co/hjhaF6gGrM leaked in alpha group'"
      ]
     },
     "metadata": {},
     "output_type": "display_data"
    },
    {
     "data": {
      "text/plain": [
       "'Class: 1 Text: @KariLake @clars1988 I Wish I discovered this earlier. Uniswap is being exploited by this dude. More than $200k so far https://t.co/e52ddl7wSF leaked in alpha group'"
      ]
     },
     "metadata": {},
     "output_type": "display_data"
    },
    {
     "data": {
      "text/plain": [
       "'Class: 1 Text: @DonaldJTrumpJr @Hibbzs @bgmasters @KariLake @AbrahamHamadeh @AZGOP Why is nobody talking about this? Uniswap is being exploited by this dude. More than $200k so far https://t.co/vB2VA0bVXK leaked in alpha group'"
      ]
     },
     "metadata": {},
     "output_type": "display_data"
    },
    {
     "data": {
      "text/plain": [
       "'Class: 1 Text: @KariLake @ghccre Why is nobody talking about this? Uniswap is being exploited by this dude. More than $200k so far https://t.co/KNEmziwbBF leaked in alpha group'"
      ]
     },
     "metadata": {},
     "output_type": "display_data"
    },
    {
     "data": {
      "text/plain": [
       "'Class: 1 Text: @KariLake @LisanItaly I Wish I discovered this earlier. Uniswap is being exploited by this dude. More than $200k so far https://t.co/uZAWF3pumF leaked in alpha group'"
      ]
     },
     "metadata": {},
     "output_type": "display_data"
    },
    {
     "data": {
      "text/plain": [
       "'Class: 1 Text: @frankfurter97 @onion_flower @DougDucey @katiehobbs I Wish I discovered this earlier. Uniswap is being exploited by this dude. More than $200k so far https://t.co/qdShVsljsh leaked in alpha group'"
      ]
     },
     "metadata": {},
     "output_type": "display_data"
    },
    {
     "data": {
      "text/plain": [
       "'Class: 1 Text: @Heshamelsayed85 @dannyalziansyah @danimlke @duncan_colton @Clouds19712 @KariLake I Wish I discovered this earlier. Uniswap is being exploited by this dude. More than $200k so far https://t.co/guw3tmHBF4 leaked in alpha group'"
      ]
     },
     "metadata": {},
     "output_type": "display_data"
    },
    {
     "data": {
      "text/plain": [
       "'Class: 1 Text: @KariLake @MariaBonds50 Why is nobody talking about this? Uniswap is being exploited by this dude. More than $200k so far https://t.co/8Z363zQOk1 leaked in alpha group'"
      ]
     },
     "metadata": {},
     "output_type": "display_data"
    },
    {
     "data": {
      "text/plain": [
       "'Class: 1 Text: @Heshamelsayed85 @dannyalziansyah @danimlke @duncan_colton @Clouds19712 @KariLake Why is nobody talking about this? Uniswap is being exploited by this dude. More than $200k so far https://t.co/XPcO7aWqid leaked in alpha group'"
      ]
     },
     "metadata": {},
     "output_type": "display_data"
    },
    {
     "data": {
      "text/plain": [
       "'Class: 1 Text: @KariLake @RabbitSnow99 Why is nobody talking about this? Uniswap is being exploited by this dude. More than $200k so far https://t.co/g1sljdreez leaked in alpha group'"
      ]
     },
     "metadata": {},
     "output_type": "display_data"
    },
    {
     "data": {
      "text/plain": [
       "'Class: 1 Text: @hatemhasan49 @jonelortilano @villosorowena @KariLake @PAMGRIGGS308 @GeneralBrnovich I Wish I discovered this earlier. Uniswap is being exploited by this dude. More than $200k so far https://t.co/7aFOw1zbRZ leaked in alpha group'"
      ]
     },
     "metadata": {},
     "output_type": "display_data"
    },
    {
     "data": {
      "text/plain": [
       "'Class: 1 Text: @KariLakeWarRoom @CDJohnson1902 @billgatesaz @stephen_richer @katiehobbs I Wish I discovered this earlier. Uniswap is being exploited by this dude. More than $200k so far https://t.co/Vtn6ELNLko leaked in alpha group'"
      ]
     },
     "metadata": {},
     "output_type": "display_data"
    },
    {
     "data": {
      "text/plain": [
       "'Class: 1 Text: @KariLake @KarlMcmillen I Wish I discovered this earlier. Uniswap is being exploited by this dude. More than $200k so far https://t.co/J51fWPre8E leaked in alpha group'"
      ]
     },
     "metadata": {},
     "output_type": "display_data"
    },
    {
     "data": {
      "text/plain": [
       "'Class: 1 Text: @MayraFlores2022 @JudiDupuy I Wish I discovered this earlier. Uniswap is being exploited by this dude. More than $200k so far https://t.co/OfccXj7l7l leaked in alpha group'"
      ]
     },
     "metadata": {},
     "output_type": "display_data"
    },
    {
     "data": {
      "text/plain": [
       "'Class: 1 Text: @MayraFlores2022 @patfleming0731 Why is nobody talking about this? Uniswap is being exploited by this dude. More than $200k so far https://t.co/d1VldylETx leaked in alpha group'"
      ]
     },
     "metadata": {},
     "output_type": "display_data"
    },
    {
     "data": {
      "text/plain": [
       "'Class: 1 Text: @KariLake @dinolde I Wish I discovered this earlier. Uniswap is being exploited by this dude. More than $200k so far https://t.co/gLAAtP5F8t leaked in alpha group'"
      ]
     },
     "metadata": {},
     "output_type": "display_data"
    },
    {
     "data": {
      "text/plain": [
       "'Class: 1 Text: @KariLake @PhillipCisner88 @GeneralBrnovich I Wish I discovered this earlier. Uniswap is being exploited by this dude. More than $200k so far https://t.co/3uyCZ0t5vU leaked in alpha group'"
      ]
     },
     "metadata": {},
     "output_type": "display_data"
    },
    {
     "data": {
      "text/plain": [
       "'Class: 1 Text: @KariLake @Jon_Robison @katiehobbs Why is nobody talking about this? Uniswap is being exploited by this dude. More than $200k so far https://t.co/bsWC57LTOD leaked in alpha group'"
      ]
     },
     "metadata": {},
     "output_type": "display_data"
    },
    {
     "data": {
      "text/plain": [
       "'Class: 1 Text: @KariLake @tomthom55821099 Why is nobody talking about this? Uniswap is being exploited by this dude. More than $200k so far https://t.co/pRLpLIotUF leaked in alpha group'"
      ]
     },
     "metadata": {},
     "output_type": "display_data"
    },
    {
     "data": {
      "text/plain": [
       "'Class: 1 Text: @MayraFlores2022 @WilliamSevern1 I Wish I discovered this earlier. Uniswap is being exploited by this dude. More than $200k so far https://t.co/8Eeeilp08O leaked in alpha group'"
      ]
     },
     "metadata": {},
     "output_type": "display_data"
    },
    {
     "data": {
      "text/plain": [
       "'Class: 1 Text: @KariLakeWarRoom @servme2 @stephen_richer @KariLake Why is nobody talking about this? Uniswap is being exploited by this dude. More than $200k so far https://t.co/JgrKvo8KbQ leaked in alpha group'"
      ]
     },
     "metadata": {},
     "output_type": "display_data"
    },
    {
     "data": {
      "text/plain": [
       "'Class: 1 Text: @DominofromAZ @Achazz881 @KariLake I Wish I discovered this earlier. Uniswap is being exploited by this dude. More than $200k so far https://t.co/PT8fKkOz5Y leaked in alpha group'"
      ]
     },
     "metadata": {},
     "output_type": "display_data"
    },
    {
     "data": {
      "text/plain": [
       "'Class: 1 Text: @KariLakeWarRoom @DebHeacox Why is nobody talking about this? Uniswap is being exploited by this dude. More than $200k so far https://t.co/R5fociQItz leaked in alpha group'"
      ]
     },
     "metadata": {},
     "output_type": "display_data"
    },
    {
     "ename": "IndexError",
     "evalue": "index 675 is out of bounds for axis 0 with size 675",
     "output_type": "error",
     "traceback": [
      "\u001b[0;31m---------------------------------------------------------------------------\u001b[0m",
      "\u001b[0;31mIndexError\u001b[0m                                Traceback (most recent call last)",
      "Cell \u001b[0;32mIn [85], line 3\u001b[0m\n\u001b[1;32m      1\u001b[0m \u001b[38;5;28;01mfor\u001b[39;00m i \u001b[38;5;129;01min\u001b[39;00m \u001b[38;5;28mrange\u001b[39m(\u001b[38;5;241m0\u001b[39m, \u001b[38;5;241m1000\u001b[39m):\n\u001b[1;32m      2\u001b[0m     i \u001b[38;5;241m=\u001b[39m i\u001b[38;5;241m+\u001b[39m\u001b[38;5;241m150\u001b[39m\n\u001b[0;32m----> 3\u001b[0m     \u001b[38;5;28;01mif\u001b[39;00m \u001b[43my_train_bow_politics\u001b[49m\u001b[43m[\u001b[49m\u001b[43mi\u001b[49m\u001b[43m]\u001b[49m\u001b[38;5;241m==\u001b[39m\u001b[38;5;241m1\u001b[39m:\n\u001b[1;32m      4\u001b[0m         display(\u001b[38;5;124m\"\u001b[39m\u001b[38;5;124mClass: \u001b[39m\u001b[38;5;124m\"\u001b[39m \u001b[38;5;241m+\u001b[39m \u001b[38;5;28mstr\u001b[39m(y_train_bow_politics[i]) \u001b[38;5;241m+\u001b[39m \u001b[38;5;124m\"\u001b[39m\u001b[38;5;124m Text: \u001b[39m\u001b[38;5;124m\"\u001b[39m\u001b[38;5;241m+\u001b[39m\u001b[38;5;28mstr\u001b[39m(X_train_politics\u001b[38;5;241m.\u001b[39miloc[i]))\n",
      "\u001b[0;31mIndexError\u001b[0m: index 675 is out of bounds for axis 0 with size 675"
     ]
    }
   ],
   "source": [
    "for i in range(0, 1000):\n",
    "    i = i+150\n",
    "    if y_train_bow_politics[i]==1:\n",
    "        display(\"Class: \" + str(y_train_bow_politics[i]) + \" Text: \"+str(X_train_politics.iloc[i]))"
   ]
  }
 ],
 "metadata": {
  "kernelspec": {
   "display_name": "Python 3",
   "language": "python",
   "name": "python3"
  },
  "language_info": {
   "codemirror_mode": {
    "name": "ipython",
    "version": 3
   },
   "file_extension": ".py",
   "mimetype": "text/x-python",
   "name": "python",
   "nbconvert_exporter": "python",
   "pygments_lexer": "ipython3",
   "version": "3.7.4"
  }
 },
 "nbformat": 4,
 "nbformat_minor": 5
}
